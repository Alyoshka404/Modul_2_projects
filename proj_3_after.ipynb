{
 "cells": [
  {
   "cell_type": "markdown",
   "metadata": {},
   "source": [
    "# Описание проекта\n",
    "### Контекст\n",
    "Вы — аналитик крупного интернет-магазина. Вместе с отделом маркетинга вы подготовили список гипотез для увеличения выручки.\n",
    "Приоритизируйте гипотезы, запустите A/B-тест и проанализируйте результаты."
   ]
  },
  {
   "cell_type": "markdown",
   "metadata": {},
   "source": [
    "# Часть 1\n",
    "## Задача\n",
    "1. Примените фреймворк ICE для приоритизации гипотез. Отсортируйте их по убыванию приоритета.\n",
    "2. Примените фреймворк RICE для приоритизации гипотез. Отсортируйте их по убыванию приоритета.\n",
    "3. Укажите, как изменилась приоритизация гипотез при применении RICE вместо ICE. Объясните, почему так произошло."
   ]
  },
  {
   "cell_type": "code",
   "execution_count": 23,
   "metadata": {},
   "outputs": [],
   "source": [
    "import pandas as pd\n",
    "import datetime as dt\n",
    "import numpy as np\n",
    "import matplotlib.pyplot as plt\n",
    "#from pandas.tseries import converter\n",
    "import scipy.stats as stats\n",
    "from pandas.plotting import register_matplotlib_converters"
   ]
  },
  {
   "cell_type": "code",
   "execution_count": 25,
   "metadata": {},
   "outputs": [
    {
     "data": {
      "text/html": [
       "<div>\n",
       "<style scoped>\n",
       "    .dataframe tbody tr th:only-of-type {\n",
       "        vertical-align: middle;\n",
       "    }\n",
       "\n",
       "    .dataframe tbody tr th {\n",
       "        vertical-align: top;\n",
       "    }\n",
       "\n",
       "    .dataframe thead th {\n",
       "        text-align: right;\n",
       "    }\n",
       "</style>\n",
       "<table border=\"1\" class=\"dataframe\">\n",
       "  <thead>\n",
       "    <tr style=\"text-align: right;\">\n",
       "      <th></th>\n",
       "      <th>hypothesis</th>\n",
       "      <th>reach</th>\n",
       "      <th>impact</th>\n",
       "      <th>confidence</th>\n",
       "      <th>efforts</th>\n",
       "    </tr>\n",
       "  </thead>\n",
       "  <tbody>\n",
       "    <tr>\n",
       "      <th>0</th>\n",
       "      <td>Добавить два новых канала привлечения трафика, что позволит привлекать на 30% больше пользователей</td>\n",
       "      <td>3</td>\n",
       "      <td>10</td>\n",
       "      <td>8</td>\n",
       "      <td>6</td>\n",
       "    </tr>\n",
       "    <tr>\n",
       "      <th>1</th>\n",
       "      <td>Запустить собственную службу доставки, что сократит срок доставки заказов</td>\n",
       "      <td>2</td>\n",
       "      <td>5</td>\n",
       "      <td>4</td>\n",
       "      <td>10</td>\n",
       "    </tr>\n",
       "    <tr>\n",
       "      <th>2</th>\n",
       "      <td>Добавить блоки рекомендаций товаров на сайт интернет магазина, чтобы повысить конверсию и средний чек заказа</td>\n",
       "      <td>8</td>\n",
       "      <td>3</td>\n",
       "      <td>7</td>\n",
       "      <td>3</td>\n",
       "    </tr>\n",
       "    <tr>\n",
       "      <th>3</th>\n",
       "      <td>Изменить структура категорий, что увеличит конверсию, т.к. пользователи быстрее найдут нужный товар</td>\n",
       "      <td>8</td>\n",
       "      <td>3</td>\n",
       "      <td>3</td>\n",
       "      <td>8</td>\n",
       "    </tr>\n",
       "    <tr>\n",
       "      <th>4</th>\n",
       "      <td>Изменить цвет фона главной страницы, чтобы увеличить вовлеченность пользователей</td>\n",
       "      <td>3</td>\n",
       "      <td>1</td>\n",
       "      <td>1</td>\n",
       "      <td>1</td>\n",
       "    </tr>\n",
       "    <tr>\n",
       "      <th>5</th>\n",
       "      <td>Добавить страницу отзывов клиентов о магазине, что позволит увеличить количество заказов</td>\n",
       "      <td>3</td>\n",
       "      <td>2</td>\n",
       "      <td>2</td>\n",
       "      <td>3</td>\n",
       "    </tr>\n",
       "    <tr>\n",
       "      <th>6</th>\n",
       "      <td>Показать на главной странице баннеры с актуальными акциями и распродажами, чтобы увеличить конверсию</td>\n",
       "      <td>5</td>\n",
       "      <td>3</td>\n",
       "      <td>8</td>\n",
       "      <td>3</td>\n",
       "    </tr>\n",
       "    <tr>\n",
       "      <th>7</th>\n",
       "      <td>Добавить форму подписки на все основные страницы, чтобы собрать базу клиентов для email-рассылок</td>\n",
       "      <td>10</td>\n",
       "      <td>7</td>\n",
       "      <td>8</td>\n",
       "      <td>5</td>\n",
       "    </tr>\n",
       "    <tr>\n",
       "      <th>8</th>\n",
       "      <td>Запустить акцию, дающую скидку на товар в день рождения</td>\n",
       "      <td>1</td>\n",
       "      <td>9</td>\n",
       "      <td>9</td>\n",
       "      <td>5</td>\n",
       "    </tr>\n",
       "  </tbody>\n",
       "</table>\n",
       "</div>"
      ],
      "text/plain": [
       "                                                                                                     hypothesis  \\\n",
       "0  Добавить два новых канала привлечения трафика, что позволит привлекать на 30% больше пользователей             \n",
       "1  Запустить собственную службу доставки, что сократит срок доставки заказов                                      \n",
       "2  Добавить блоки рекомендаций товаров на сайт интернет магазина, чтобы повысить конверсию и средний чек заказа   \n",
       "3  Изменить структура категорий, что увеличит конверсию, т.к. пользователи быстрее найдут нужный товар            \n",
       "4  Изменить цвет фона главной страницы, чтобы увеличить вовлеченность пользователей                               \n",
       "5  Добавить страницу отзывов клиентов о магазине, что позволит увеличить количество заказов                       \n",
       "6  Показать на главной странице баннеры с актуальными акциями и распродажами, чтобы увеличить конверсию           \n",
       "7  Добавить форму подписки на все основные страницы, чтобы собрать базу клиентов для email-рассылок               \n",
       "8  Запустить акцию, дающую скидку на товар в день рождения                                                        \n",
       "\n",
       "   reach  impact  confidence  efforts  \n",
       "0  3      10      8           6        \n",
       "1  2      5       4           10       \n",
       "2  8      3       7           3        \n",
       "3  8      3       3           8        \n",
       "4  3      1       1           1        \n",
       "5  3      2       2           3        \n",
       "6  5      3       8           3        \n",
       "7  10     7       8           5        \n",
       "8  1      9       9           5        "
      ]
     },
     "metadata": {},
     "output_type": "display_data"
    }
   ],
   "source": [
    "hypotheses = pd.read_csv('hypothesis.csv')\n",
    "# Привдём названия столбцов к нижнему регистру:\n",
    "hypotheses.columns = list(x.lower() for x in hypotheses.columns)\n",
    "display(hypotheses)"
   ]
  },
  {
   "cell_type": "code",
   "execution_count": 26,
   "metadata": {},
   "outputs": [
    {
     "name": "stdout",
     "output_type": "stream",
     "text": [
      "<class 'pandas.core.frame.DataFrame'>\n",
      "RangeIndex: 9 entries, 0 to 8\n",
      "Data columns (total 5 columns):\n",
      " #   Column      Non-Null Count  Dtype \n",
      "---  ------      --------------  ----- \n",
      " 0   hypothesis  9 non-null      object\n",
      " 1   reach       9 non-null      int64 \n",
      " 2   impact      9 non-null      int64 \n",
      " 3   confidence  9 non-null      int64 \n",
      " 4   efforts     9 non-null      int64 \n",
      "dtypes: int64(4), object(1)\n",
      "memory usage: 488.0+ bytes\n"
     ]
    }
   ],
   "source": [
    "# Проверим типы данных:\n",
    "hypotheses.info()"
   ]
  },
  {
   "cell_type": "code",
   "execution_count": 27,
   "metadata": {},
   "outputs": [
    {
     "data": {
      "text/html": [
       "<div>\n",
       "<style scoped>\n",
       "    .dataframe tbody tr th:only-of-type {\n",
       "        vertical-align: middle;\n",
       "    }\n",
       "\n",
       "    .dataframe tbody tr th {\n",
       "        vertical-align: top;\n",
       "    }\n",
       "\n",
       "    .dataframe thead th {\n",
       "        text-align: right;\n",
       "    }\n",
       "</style>\n",
       "<table border=\"1\" class=\"dataframe\">\n",
       "  <thead>\n",
       "    <tr style=\"text-align: right;\">\n",
       "      <th></th>\n",
       "      <th>hypothesis</th>\n",
       "      <th>reach</th>\n",
       "      <th>impact</th>\n",
       "      <th>confidence</th>\n",
       "      <th>efforts</th>\n",
       "      <th>ice_score</th>\n",
       "    </tr>\n",
       "  </thead>\n",
       "  <tbody>\n",
       "    <tr>\n",
       "      <th>8</th>\n",
       "      <td>Запустить акцию, дающую скидку на товар в день рождения</td>\n",
       "      <td>1</td>\n",
       "      <td>9</td>\n",
       "      <td>9</td>\n",
       "      <td>5</td>\n",
       "      <td>16.2</td>\n",
       "    </tr>\n",
       "    <tr>\n",
       "      <th>0</th>\n",
       "      <td>Добавить два новых канала привлечения трафика, что позволит привлекать на 30% больше пользователей</td>\n",
       "      <td>3</td>\n",
       "      <td>10</td>\n",
       "      <td>8</td>\n",
       "      <td>6</td>\n",
       "      <td>13.3</td>\n",
       "    </tr>\n",
       "    <tr>\n",
       "      <th>7</th>\n",
       "      <td>Добавить форму подписки на все основные страницы, чтобы собрать базу клиентов для email-рассылок</td>\n",
       "      <td>10</td>\n",
       "      <td>7</td>\n",
       "      <td>8</td>\n",
       "      <td>5</td>\n",
       "      <td>11.2</td>\n",
       "    </tr>\n",
       "    <tr>\n",
       "      <th>6</th>\n",
       "      <td>Показать на главной странице баннеры с актуальными акциями и распродажами, чтобы увеличить конверсию</td>\n",
       "      <td>5</td>\n",
       "      <td>3</td>\n",
       "      <td>8</td>\n",
       "      <td>3</td>\n",
       "      <td>8.0</td>\n",
       "    </tr>\n",
       "    <tr>\n",
       "      <th>2</th>\n",
       "      <td>Добавить блоки рекомендаций товаров на сайт интернет магазина, чтобы повысить конверсию и средний чек заказа</td>\n",
       "      <td>8</td>\n",
       "      <td>3</td>\n",
       "      <td>7</td>\n",
       "      <td>3</td>\n",
       "      <td>7.0</td>\n",
       "    </tr>\n",
       "    <tr>\n",
       "      <th>1</th>\n",
       "      <td>Запустить собственную службу доставки, что сократит срок доставки заказов</td>\n",
       "      <td>2</td>\n",
       "      <td>5</td>\n",
       "      <td>4</td>\n",
       "      <td>10</td>\n",
       "      <td>2.0</td>\n",
       "    </tr>\n",
       "    <tr>\n",
       "      <th>5</th>\n",
       "      <td>Добавить страницу отзывов клиентов о магазине, что позволит увеличить количество заказов</td>\n",
       "      <td>3</td>\n",
       "      <td>2</td>\n",
       "      <td>2</td>\n",
       "      <td>3</td>\n",
       "      <td>1.3</td>\n",
       "    </tr>\n",
       "    <tr>\n",
       "      <th>3</th>\n",
       "      <td>Изменить структура категорий, что увеличит конверсию, т.к. пользователи быстрее найдут нужный товар</td>\n",
       "      <td>8</td>\n",
       "      <td>3</td>\n",
       "      <td>3</td>\n",
       "      <td>8</td>\n",
       "      <td>1.1</td>\n",
       "    </tr>\n",
       "    <tr>\n",
       "      <th>4</th>\n",
       "      <td>Изменить цвет фона главной страницы, чтобы увеличить вовлеченность пользователей</td>\n",
       "      <td>3</td>\n",
       "      <td>1</td>\n",
       "      <td>1</td>\n",
       "      <td>1</td>\n",
       "      <td>1.0</td>\n",
       "    </tr>\n",
       "  </tbody>\n",
       "</table>\n",
       "</div>"
      ],
      "text/plain": [
       "                                                                                                     hypothesis  \\\n",
       "8  Запустить акцию, дающую скидку на товар в день рождения                                                        \n",
       "0  Добавить два новых канала привлечения трафика, что позволит привлекать на 30% больше пользователей             \n",
       "7  Добавить форму подписки на все основные страницы, чтобы собрать базу клиентов для email-рассылок               \n",
       "6  Показать на главной странице баннеры с актуальными акциями и распродажами, чтобы увеличить конверсию           \n",
       "2  Добавить блоки рекомендаций товаров на сайт интернет магазина, чтобы повысить конверсию и средний чек заказа   \n",
       "1  Запустить собственную службу доставки, что сократит срок доставки заказов                                      \n",
       "5  Добавить страницу отзывов клиентов о магазине, что позволит увеличить количество заказов                       \n",
       "3  Изменить структура категорий, что увеличит конверсию, т.к. пользователи быстрее найдут нужный товар            \n",
       "4  Изменить цвет фона главной страницы, чтобы увеличить вовлеченность пользователей                               \n",
       "\n",
       "   reach  impact  confidence  efforts  ice_score  \n",
       "8  1      9       9           5        16.2       \n",
       "0  3      10      8           6        13.3       \n",
       "7  10     7       8           5        11.2       \n",
       "6  5      3       8           3        8.0        \n",
       "2  8      3       7           3        7.0        \n",
       "1  2      5       4           10       2.0        \n",
       "5  3      2       2           3        1.3        \n",
       "3  8      3       3           8        1.1        \n",
       "4  3      1       1           1        1.0        "
      ]
     },
     "execution_count": 27,
     "metadata": {},
     "output_type": "execute_result"
    }
   ],
   "source": [
    "# Так как данные готовы без предобработки, то можем приступить к просмотру результатов.\n",
    "# Добавим столбец для ICE score, который рассчитывается как impact * confidence / efforts:\n",
    "hypotheses['ice_score'] = (hypotheses['impact'] * hypotheses['confidence'] / hypotheses['efforts']).round(1)\n",
    "# Отсортируем данные по ICE score в порядке убывания:\n",
    "hypotheses.sort_values(by='ice_score', ascending=False)"
   ]
  },
  {
   "cell_type": "code",
   "execution_count": 28,
   "metadata": {},
   "outputs": [
    {
     "data": {
      "text/html": [
       "<div>\n",
       "<style scoped>\n",
       "    .dataframe tbody tr th:only-of-type {\n",
       "        vertical-align: middle;\n",
       "    }\n",
       "\n",
       "    .dataframe tbody tr th {\n",
       "        vertical-align: top;\n",
       "    }\n",
       "\n",
       "    .dataframe thead th {\n",
       "        text-align: right;\n",
       "    }\n",
       "</style>\n",
       "<table border=\"1\" class=\"dataframe\">\n",
       "  <thead>\n",
       "    <tr style=\"text-align: right;\">\n",
       "      <th></th>\n",
       "      <th>hypothesis</th>\n",
       "      <th>reach</th>\n",
       "      <th>impact</th>\n",
       "      <th>confidence</th>\n",
       "      <th>efforts</th>\n",
       "      <th>ice_score</th>\n",
       "      <th>rice_score</th>\n",
       "    </tr>\n",
       "  </thead>\n",
       "  <tbody>\n",
       "    <tr>\n",
       "      <th>7</th>\n",
       "      <td>Добавить форму подписки на все основные страницы, чтобы собрать базу клиентов для email-рассылок</td>\n",
       "      <td>10</td>\n",
       "      <td>7</td>\n",
       "      <td>8</td>\n",
       "      <td>5</td>\n",
       "      <td>11.2</td>\n",
       "      <td>112.0</td>\n",
       "    </tr>\n",
       "    <tr>\n",
       "      <th>2</th>\n",
       "      <td>Добавить блоки рекомендаций товаров на сайт интернет магазина, чтобы повысить конверсию и средний чек заказа</td>\n",
       "      <td>8</td>\n",
       "      <td>3</td>\n",
       "      <td>7</td>\n",
       "      <td>3</td>\n",
       "      <td>7.0</td>\n",
       "      <td>56.0</td>\n",
       "    </tr>\n",
       "    <tr>\n",
       "      <th>0</th>\n",
       "      <td>Добавить два новых канала привлечения трафика, что позволит привлекать на 30% больше пользователей</td>\n",
       "      <td>3</td>\n",
       "      <td>10</td>\n",
       "      <td>8</td>\n",
       "      <td>6</td>\n",
       "      <td>13.3</td>\n",
       "      <td>40.0</td>\n",
       "    </tr>\n",
       "    <tr>\n",
       "      <th>6</th>\n",
       "      <td>Показать на главной странице баннеры с актуальными акциями и распродажами, чтобы увеличить конверсию</td>\n",
       "      <td>5</td>\n",
       "      <td>3</td>\n",
       "      <td>8</td>\n",
       "      <td>3</td>\n",
       "      <td>8.0</td>\n",
       "      <td>40.0</td>\n",
       "    </tr>\n",
       "    <tr>\n",
       "      <th>8</th>\n",
       "      <td>Запустить акцию, дающую скидку на товар в день рождения</td>\n",
       "      <td>1</td>\n",
       "      <td>9</td>\n",
       "      <td>9</td>\n",
       "      <td>5</td>\n",
       "      <td>16.2</td>\n",
       "      <td>16.2</td>\n",
       "    </tr>\n",
       "    <tr>\n",
       "      <th>3</th>\n",
       "      <td>Изменить структура категорий, что увеличит конверсию, т.к. пользователи быстрее найдут нужный товар</td>\n",
       "      <td>8</td>\n",
       "      <td>3</td>\n",
       "      <td>3</td>\n",
       "      <td>8</td>\n",
       "      <td>1.1</td>\n",
       "      <td>9.0</td>\n",
       "    </tr>\n",
       "    <tr>\n",
       "      <th>1</th>\n",
       "      <td>Запустить собственную службу доставки, что сократит срок доставки заказов</td>\n",
       "      <td>2</td>\n",
       "      <td>5</td>\n",
       "      <td>4</td>\n",
       "      <td>10</td>\n",
       "      <td>2.0</td>\n",
       "      <td>4.0</td>\n",
       "    </tr>\n",
       "    <tr>\n",
       "      <th>5</th>\n",
       "      <td>Добавить страницу отзывов клиентов о магазине, что позволит увеличить количество заказов</td>\n",
       "      <td>3</td>\n",
       "      <td>2</td>\n",
       "      <td>2</td>\n",
       "      <td>3</td>\n",
       "      <td>1.3</td>\n",
       "      <td>4.0</td>\n",
       "    </tr>\n",
       "    <tr>\n",
       "      <th>4</th>\n",
       "      <td>Изменить цвет фона главной страницы, чтобы увеличить вовлеченность пользователей</td>\n",
       "      <td>3</td>\n",
       "      <td>1</td>\n",
       "      <td>1</td>\n",
       "      <td>1</td>\n",
       "      <td>1.0</td>\n",
       "      <td>3.0</td>\n",
       "    </tr>\n",
       "  </tbody>\n",
       "</table>\n",
       "</div>"
      ],
      "text/plain": [
       "                                                                                                     hypothesis  \\\n",
       "7  Добавить форму подписки на все основные страницы, чтобы собрать базу клиентов для email-рассылок               \n",
       "2  Добавить блоки рекомендаций товаров на сайт интернет магазина, чтобы повысить конверсию и средний чек заказа   \n",
       "0  Добавить два новых канала привлечения трафика, что позволит привлекать на 30% больше пользователей             \n",
       "6  Показать на главной странице баннеры с актуальными акциями и распродажами, чтобы увеличить конверсию           \n",
       "8  Запустить акцию, дающую скидку на товар в день рождения                                                        \n",
       "3  Изменить структура категорий, что увеличит конверсию, т.к. пользователи быстрее найдут нужный товар            \n",
       "1  Запустить собственную службу доставки, что сократит срок доставки заказов                                      \n",
       "5  Добавить страницу отзывов клиентов о магазине, что позволит увеличить количество заказов                       \n",
       "4  Изменить цвет фона главной страницы, чтобы увеличить вовлеченность пользователей                               \n",
       "\n",
       "   reach  impact  confidence  efforts  ice_score  rice_score  \n",
       "7  10     7       8           5        11.2       112.0       \n",
       "2  8      3       7           3        7.0        56.0        \n",
       "0  3      10      8           6        13.3       40.0        \n",
       "6  5      3       8           3        8.0        40.0        \n",
       "8  1      9       9           5        16.2       16.2        \n",
       "3  8      3       3           8        1.1        9.0         \n",
       "1  2      5       4           10       2.0        4.0         \n",
       "5  3      2       2           3        1.3        4.0         \n",
       "4  3      1       1           1        1.0        3.0         "
      ]
     },
     "execution_count": 28,
     "metadata": {},
     "output_type": "execute_result"
    }
   ],
   "source": [
    "# Добавим столбец для RICE score, где в самое начало числителя добавляется reach:\n",
    "hypotheses['rice_score'] = hypotheses['reach'] * hypotheses['impact'] * hypotheses['confidence'] / hypotheses['efforts']\n",
    "hypotheses.sort_values(by='rice_score', ascending=False)"
   ]
  },
  {
   "cell_type": "markdown",
   "metadata": {},
   "source": [
    "## Вывод\n",
    "Согласно методу приоритизации гипотез ICE следует запустить акцию, дающую скидку в день рождения, однако, метод RICE, который учитывает количество затронутых пользователей указывает, что следует выбрать добавление форму подписки чтобы собрать базу клиентов для email-рассылок. Параметр reach увеличивает баллы ICE на порядок, поэтому балл и рейтинг этой гипотезы по RICE так сильно отрывается от конкурирующих."
   ]
  },
  {
   "cell_type": "markdown",
   "metadata": {},
   "source": [
    "<a name=\"header2\"></a>\n",
    "# Часть 2"
   ]
  },
  {
   "cell_type": "markdown",
   "metadata": {},
   "source": [
    "<h3>Проанализируйте A/B-тест:</h3>\n",
    "<ol>\n",
    "    <li><input type=\"checkbox\"> <a href=\"#1\">Постройте график кумулятивной выручки по группам.</a> <a href=\"#1c\">Сделайте выводы и предположения.</a></li>\n",
    "    <li><input type=\"checkbox\"> <a href=\"#2\">Постройте график кумулятивного среднего чека по группам.</a> <a href=\"#2c\">Сделайте выводы и предположения.</a></li>\n",
    "    <li><input type=\"checkbox\"> <a href=\"#3\">Постройте график относительного изменения кумулятивного среднего чека группы B к группе A.</a> <a href=\"#3c\">Сделайте выводы и предположения.</a></li>\n",
    "    <li><input type=\"checkbox\"> <a href=\"#4\">Постройте график кумулятивной конверсии по группам.</a> <a href=\"#4c\">Сделайте выводы и предположения.</a></li>\n",
    "    <li><input type=\"checkbox\"> <a href=\"#5\">Постройте график относительного изменения кумулятивной конверсии группы B к группе A.</a> <a href=\"#5c\">Сделайте выводы и предположения.</a></li>\n",
    "    <li><input type=\"checkbox\"> <a href=\"#6\">Постройте точечный график количества заказов по пользователям.</a> <a href=\"#6c\">Сделайте выводы и предположения.</a></li>\n",
    "    <li><input type=\"checkbox\"> <a href=\"#7\">Посчитайте 95-й и 99-й перцентили количества заказов на пользователя.</a> <a href=\"7c\">Выберите границу для определения аномальных пользователей.</a></li>\n",
    "    <li><input type=\"checkbox\"> <a href=\"#8\">Постройте точечный график стоимостей заказов.</a> <a href=\"#8c\">Сделайте выводы и предположения.</a></li>\n",
    "    <li><input type=\"checkbox\"> <a href=\"#9\">Посчитайте 95-й и 99-й перцентили стоимости заказов. </a> <a href=\"#9c\">Выберите границу для определения аномальных заказов.</a></li>\n",
    "    <li><input type=\"checkbox\"> <a href=\"#10\">Посчитайте статистическую значимость различий в конверсии между группами по «сырым» данным.</a> <a href=\"#10c\">Сделайте выводы и предположения.</a></li>\n",
    "    <li><input type=\"checkbox\"> <a href=\"#11\">Посчитайте статистическую значимость различий в конверсии между группами по «очищенным» данным.</a> <a href=\"#11c\">Сделайте выводы и предположения.</a></li>\n",
    "    <li><input type=\"checkbox\"> <a href=\"#12\">Посчитайте статистическую значимость различий в среднем чеке заказа между группами по «сырым» данным.</a> <a href=\"#12c\">Сделайте выводы и предположения.</a></li>\n",
    "    <li><input type=\"checkbox\"> <a href=\"#13\">Посчитайте статистическую значимость различий в среднем чеке заказа между группами по «очищенным» данным.</a> <a href=\"#13c\">Сделайте выводы и предположения.</a></li>\n",
    "    <li><input type=\"checkbox\"> <a href=\"#result\">Примите решение по результатам теста и объясните его.</a>\n",
    "    <br>Варианты решений:\n",
    "        <ul>\n",
    "            <li><input type=\"radio\" checked> Остановить тест, зафиксировать победу одной из групп.</li>\n",
    "            <li><input type=\"radio\"> Остановить тест, зафиксировать отсутствие различий между группами. </li>\n",
    "            <li><input type=\"radio\"> Продолжить тест.</li>\n",
    "        </ul>\n",
    "    </li>\n",
    "</ol>"
   ]
  },
  {
   "cell_type": "markdown",
   "metadata": {},
   "source": [
    "---\n",
    "<a name=\"1\"></a>\n",
    "## 1. График кумулятивной выручки по группам"
   ]
  },
  {
   "cell_type": "code",
   "execution_count": 30,
   "metadata": {},
   "outputs": [
    {
     "data": {
      "text/html": [
       "<div>\n",
       "<style scoped>\n",
       "    .dataframe tbody tr th:only-of-type {\n",
       "        vertical-align: middle;\n",
       "    }\n",
       "\n",
       "    .dataframe tbody tr th {\n",
       "        vertical-align: top;\n",
       "    }\n",
       "\n",
       "    .dataframe thead th {\n",
       "        text-align: right;\n",
       "    }\n",
       "</style>\n",
       "<table border=\"1\" class=\"dataframe\">\n",
       "  <thead>\n",
       "    <tr style=\"text-align: right;\">\n",
       "      <th></th>\n",
       "      <th>transactionId</th>\n",
       "      <th>visitorId</th>\n",
       "      <th>date</th>\n",
       "      <th>revenue</th>\n",
       "      <th>group</th>\n",
       "    </tr>\n",
       "  </thead>\n",
       "  <tbody>\n",
       "    <tr>\n",
       "      <th>425</th>\n",
       "      <td>590470918</td>\n",
       "      <td>1920142716</td>\n",
       "      <td>2019-08-19</td>\n",
       "      <td>1294500</td>\n",
       "      <td>B</td>\n",
       "    </tr>\n",
       "    <tr>\n",
       "      <th>1196</th>\n",
       "      <td>3936777065</td>\n",
       "      <td>2108080724</td>\n",
       "      <td>2019-08-15</td>\n",
       "      <td>202740</td>\n",
       "      <td>B</td>\n",
       "    </tr>\n",
       "    <tr>\n",
       "      <th>858</th>\n",
       "      <td>192721366</td>\n",
       "      <td>1316129916</td>\n",
       "      <td>2019-08-27</td>\n",
       "      <td>93940</td>\n",
       "      <td>A</td>\n",
       "    </tr>\n",
       "    <tr>\n",
       "      <th>1136</th>\n",
       "      <td>666610489</td>\n",
       "      <td>1307669133</td>\n",
       "      <td>2019-08-13</td>\n",
       "      <td>92550</td>\n",
       "      <td>A</td>\n",
       "    </tr>\n",
       "    <tr>\n",
       "      <th>744</th>\n",
       "      <td>3668308183</td>\n",
       "      <td>888512513</td>\n",
       "      <td>2019-08-27</td>\n",
       "      <td>86620</td>\n",
       "      <td>B</td>\n",
       "    </tr>\n",
       "    <tr>\n",
       "      <th>...</th>\n",
       "      <td>...</td>\n",
       "      <td>...</td>\n",
       "      <td>...</td>\n",
       "      <td>...</td>\n",
       "      <td>...</td>\n",
       "    </tr>\n",
       "    <tr>\n",
       "      <th>933</th>\n",
       "      <td>3760662696</td>\n",
       "      <td>3577713868</td>\n",
       "      <td>2019-08-27</td>\n",
       "      <td>60</td>\n",
       "      <td>B</td>\n",
       "    </tr>\n",
       "    <tr>\n",
       "      <th>459</th>\n",
       "      <td>863448794</td>\n",
       "      <td>2738601405</td>\n",
       "      <td>2019-08-19</td>\n",
       "      <td>50</td>\n",
       "      <td>B</td>\n",
       "    </tr>\n",
       "    <tr>\n",
       "      <th>756</th>\n",
       "      <td>125335873</td>\n",
       "      <td>3423937755</td>\n",
       "      <td>2019-08-30</td>\n",
       "      <td>50</td>\n",
       "      <td>B</td>\n",
       "    </tr>\n",
       "    <tr>\n",
       "      <th>584</th>\n",
       "      <td>1126146019</td>\n",
       "      <td>2705308997</td>\n",
       "      <td>2019-08-20</td>\n",
       "      <td>50</td>\n",
       "      <td>A</td>\n",
       "    </tr>\n",
       "    <tr>\n",
       "      <th>1091</th>\n",
       "      <td>750632879</td>\n",
       "      <td>4256040402</td>\n",
       "      <td>2019-08-12</td>\n",
       "      <td>50</td>\n",
       "      <td>A</td>\n",
       "    </tr>\n",
       "  </tbody>\n",
       "</table>\n",
       "<p>1197 rows × 5 columns</p>\n",
       "</div>"
      ],
      "text/plain": [
       "      transactionId   visitorId        date  revenue group\n",
       "425   590470918      1920142716  2019-08-19  1294500  B   \n",
       "1196  3936777065     2108080724  2019-08-15  202740   B   \n",
       "858   192721366      1316129916  2019-08-27  93940    A   \n",
       "1136  666610489      1307669133  2019-08-13  92550    A   \n",
       "744   3668308183     888512513   2019-08-27  86620    B   \n",
       "...          ...           ...          ...    ...   ..   \n",
       "933   3760662696     3577713868  2019-08-27  60       B   \n",
       "459   863448794      2738601405  2019-08-19  50       B   \n",
       "756   125335873      3423937755  2019-08-30  50       B   \n",
       "584   1126146019     2705308997  2019-08-20  50       A   \n",
       "1091  750632879      4256040402  2019-08-12  50       A   \n",
       "\n",
       "[1197 rows x 5 columns]"
      ]
     },
     "metadata": {},
     "output_type": "display_data"
    }
   ],
   "source": [
    "orders = pd.read_csv('orders.csv')\n",
    "display(orders.sort_values(by='revenue', ascending=False))"
   ]
  },
  {
   "cell_type": "code",
   "execution_count": 31,
   "metadata": {},
   "outputs": [],
   "source": [
    "orders.to_csv('orders_for_ab_test.csv')"
   ]
  },
  {
   "cell_type": "code",
   "execution_count": 33,
   "metadata": {},
   "outputs": [
    {
     "name": "stdout",
     "output_type": "stream",
     "text": [
      "<class 'pandas.core.frame.DataFrame'>\n",
      "RangeIndex: 1197 entries, 0 to 1196\n",
      "Data columns (total 5 columns):\n",
      " #   Column         Non-Null Count  Dtype         \n",
      "---  ------         --------------  -----         \n",
      " 0   transactionId  1197 non-null   int64         \n",
      " 1   visitorId      1197 non-null   int64         \n",
      " 2   date           1197 non-null   datetime64[ns]\n",
      " 3   revenue        1197 non-null   int64         \n",
      " 4   group          1197 non-null   object        \n",
      "dtypes: datetime64[ns](1), int64(3), object(1)\n",
      "memory usage: 46.9+ KB\n"
     ]
    }
   ],
   "source": [
    "orders.info()"
   ]
  },
  {
   "cell_type": "code",
   "execution_count": 32,
   "metadata": {},
   "outputs": [],
   "source": [
    "# Приведём столбец date к формату даты:\n",
    "orders['date'] = orders['date'].map(lambda x: dt.datetime.strptime(x, '%Y-%m-%d'))"
   ]
  },
  {
   "cell_type": "code",
   "execution_count": 34,
   "metadata": {},
   "outputs": [
    {
     "data": {
      "text/html": [
       "<div>\n",
       "<style scoped>\n",
       "    .dataframe tbody tr th:only-of-type {\n",
       "        vertical-align: middle;\n",
       "    }\n",
       "\n",
       "    .dataframe tbody tr th {\n",
       "        vertical-align: top;\n",
       "    }\n",
       "\n",
       "    .dataframe thead th {\n",
       "        text-align: right;\n",
       "    }\n",
       "</style>\n",
       "<table border=\"1\" class=\"dataframe\">\n",
       "  <thead>\n",
       "    <tr style=\"text-align: right;\">\n",
       "      <th></th>\n",
       "      <th>date</th>\n",
       "      <th>group</th>\n",
       "      <th>visitors</th>\n",
       "    </tr>\n",
       "  </thead>\n",
       "  <tbody>\n",
       "    <tr>\n",
       "      <th>34</th>\n",
       "      <td>2019-08-04</td>\n",
       "      <td>B</td>\n",
       "      <td>770</td>\n",
       "    </tr>\n",
       "    <tr>\n",
       "      <th>43</th>\n",
       "      <td>2019-08-13</td>\n",
       "      <td>B</td>\n",
       "      <td>769</td>\n",
       "    </tr>\n",
       "    <tr>\n",
       "      <th>4</th>\n",
       "      <td>2019-08-05</td>\n",
       "      <td>A</td>\n",
       "      <td>756</td>\n",
       "    </tr>\n",
       "    <tr>\n",
       "      <th>12</th>\n",
       "      <td>2019-08-13</td>\n",
       "      <td>A</td>\n",
       "      <td>748</td>\n",
       "    </tr>\n",
       "    <tr>\n",
       "      <th>44</th>\n",
       "      <td>2019-08-14</td>\n",
       "      <td>B</td>\n",
       "      <td>746</td>\n",
       "    </tr>\n",
       "    <tr>\n",
       "      <th>...</th>\n",
       "      <td>...</td>\n",
       "      <td>...</td>\n",
       "      <td>...</td>\n",
       "    </tr>\n",
       "    <tr>\n",
       "      <th>9</th>\n",
       "      <td>2019-08-10</td>\n",
       "      <td>A</td>\n",
       "      <td>406</td>\n",
       "    </tr>\n",
       "    <tr>\n",
       "      <th>23</th>\n",
       "      <td>2019-08-24</td>\n",
       "      <td>A</td>\n",
       "      <td>395</td>\n",
       "    </tr>\n",
       "    <tr>\n",
       "      <th>54</th>\n",
       "      <td>2019-08-24</td>\n",
       "      <td>B</td>\n",
       "      <td>378</td>\n",
       "    </tr>\n",
       "    <tr>\n",
       "      <th>40</th>\n",
       "      <td>2019-08-10</td>\n",
       "      <td>B</td>\n",
       "      <td>369</td>\n",
       "    </tr>\n",
       "    <tr>\n",
       "      <th>15</th>\n",
       "      <td>2019-08-16</td>\n",
       "      <td>A</td>\n",
       "      <td>361</td>\n",
       "    </tr>\n",
       "  </tbody>\n",
       "</table>\n",
       "<p>62 rows × 3 columns</p>\n",
       "</div>"
      ],
      "text/plain": [
       "          date group  visitors\n",
       "34  2019-08-04  B     770     \n",
       "43  2019-08-13  B     769     \n",
       "4   2019-08-05  A     756     \n",
       "12  2019-08-13  A     748     \n",
       "44  2019-08-14  B     746     \n",
       "..         ... ..     ...     \n",
       "9   2019-08-10  A     406     \n",
       "23  2019-08-24  A     395     \n",
       "54  2019-08-24  B     378     \n",
       "40  2019-08-10  B     369     \n",
       "15  2019-08-16  A     361     \n",
       "\n",
       "[62 rows x 3 columns]"
      ]
     },
     "metadata": {},
     "output_type": "display_data"
    }
   ],
   "source": [
    "visitors = pd.read_csv('visitors.csv')\n",
    "display(visitors.sort_values(by='visitors', ascending=False))"
   ]
  },
  {
   "cell_type": "code",
   "execution_count": 35,
   "metadata": {},
   "outputs": [
    {
     "name": "stdout",
     "output_type": "stream",
     "text": [
      "<class 'pandas.core.frame.DataFrame'>\n",
      "RangeIndex: 62 entries, 0 to 61\n",
      "Data columns (total 3 columns):\n",
      " #   Column    Non-Null Count  Dtype \n",
      "---  ------    --------------  ----- \n",
      " 0   date      62 non-null     object\n",
      " 1   group     62 non-null     object\n",
      " 2   visitors  62 non-null     int64 \n",
      "dtypes: int64(1), object(2)\n",
      "memory usage: 1.6+ KB\n"
     ]
    }
   ],
   "source": [
    "visitors.info()"
   ]
  },
  {
   "cell_type": "code",
   "execution_count": 36,
   "metadata": {},
   "outputs": [],
   "source": [
    "# Приведём столбец date к формату даты:\n",
    "visitors['date'] = visitors['date'].map(lambda x: dt.datetime.strptime(x, '%Y-%m-%d'))"
   ]
  },
  {
   "cell_type": "code",
   "execution_count": 37,
   "metadata": {},
   "outputs": [
    {
     "name": "stdout",
     "output_type": "stream",
     "text": [
      "<class 'pandas.core.frame.DataFrame'>\n",
      "RangeIndex: 62 entries, 0 to 61\n",
      "Data columns (total 3 columns):\n",
      " #   Column    Non-Null Count  Dtype         \n",
      "---  ------    --------------  -----         \n",
      " 0   date      62 non-null     datetime64[ns]\n",
      " 1   group     62 non-null     object        \n",
      " 2   visitors  62 non-null     int64         \n",
      "dtypes: datetime64[ns](1), int64(1), object(1)\n",
      "memory usage: 1.6+ KB\n"
     ]
    }
   ],
   "source": [
    "visitors.info()"
   ]
  },
  {
   "cell_type": "code",
   "execution_count": 38,
   "metadata": {},
   "outputs": [],
   "source": [
    "datesGroups = orders[['date','group']].drop_duplicates()\n",
    "\n",
    "ordersAggregated = datesGroups.apply(\n",
    "lambda x: orders[np.logical_and(orders['date'] <= x['date'], orders['group'] == x['group'])].agg({\n",
    "'date' : 'max',\n",
    "'group' : 'max',\n",
    "'transactionId' : pd.Series.nunique,\n",
    "'visitorId' : pd.Series.nunique,\n",
    "'revenue' : 'sum'}), axis=1).sort_values(by=['date','group'])\n",
    "\n",
    "visitorsAggregated = datesGroups.apply(\n",
    "lambda x: visitors[np.logical_and(visitors['date'] <= x['date'], visitors['group'] == x['group'])].agg({\n",
    "'date' : 'max',\n",
    "'group' : 'max',\n",
    "'visitors' : 'sum'}), axis=1).sort_values(by=['date','group'])\n",
    "\n",
    "# объединяем кумулятивные данные в одной таблице и присваиваем ее столбцам понятные названия\n",
    "cumulativeData = ordersAggregated.merge(visitorsAggregated, left_on=['date', 'group'], right_on=['date', 'group'])\n",
    "cumulativeData.columns = ['date', 'group', 'orders', 'buyers', 'revenue', 'visitors']"
   ]
  },
  {
   "cell_type": "code",
   "execution_count": 39,
   "metadata": {},
   "outputs": [
    {
     "data": {
      "text/html": [
       "<div>\n",
       "<style scoped>\n",
       "    .dataframe tbody tr th:only-of-type {\n",
       "        vertical-align: middle;\n",
       "    }\n",
       "\n",
       "    .dataframe tbody tr th {\n",
       "        vertical-align: top;\n",
       "    }\n",
       "\n",
       "    .dataframe thead th {\n",
       "        text-align: right;\n",
       "    }\n",
       "</style>\n",
       "<table border=\"1\" class=\"dataframe\">\n",
       "  <thead>\n",
       "    <tr style=\"text-align: right;\">\n",
       "      <th></th>\n",
       "      <th>date</th>\n",
       "      <th>group</th>\n",
       "      <th>orders</th>\n",
       "      <th>buyers</th>\n",
       "      <th>revenue</th>\n",
       "      <th>visitors</th>\n",
       "    </tr>\n",
       "  </thead>\n",
       "  <tbody>\n",
       "    <tr>\n",
       "      <th>0</th>\n",
       "      <td>2019-08-01</td>\n",
       "      <td>A</td>\n",
       "      <td>24</td>\n",
       "      <td>20</td>\n",
       "      <td>148579</td>\n",
       "      <td>719</td>\n",
       "    </tr>\n",
       "    <tr>\n",
       "      <th>1</th>\n",
       "      <td>2019-08-01</td>\n",
       "      <td>B</td>\n",
       "      <td>21</td>\n",
       "      <td>20</td>\n",
       "      <td>101217</td>\n",
       "      <td>713</td>\n",
       "    </tr>\n",
       "    <tr>\n",
       "      <th>2</th>\n",
       "      <td>2019-08-02</td>\n",
       "      <td>A</td>\n",
       "      <td>44</td>\n",
       "      <td>38</td>\n",
       "      <td>242401</td>\n",
       "      <td>1338</td>\n",
       "    </tr>\n",
       "    <tr>\n",
       "      <th>3</th>\n",
       "      <td>2019-08-02</td>\n",
       "      <td>B</td>\n",
       "      <td>45</td>\n",
       "      <td>43</td>\n",
       "      <td>266748</td>\n",
       "      <td>1294</td>\n",
       "    </tr>\n",
       "    <tr>\n",
       "      <th>4</th>\n",
       "      <td>2019-08-03</td>\n",
       "      <td>A</td>\n",
       "      <td>68</td>\n",
       "      <td>62</td>\n",
       "      <td>354874</td>\n",
       "      <td>1845</td>\n",
       "    </tr>\n",
       "    <tr>\n",
       "      <th>...</th>\n",
       "      <td>...</td>\n",
       "      <td>...</td>\n",
       "      <td>...</td>\n",
       "      <td>...</td>\n",
       "      <td>...</td>\n",
       "      <td>...</td>\n",
       "    </tr>\n",
       "    <tr>\n",
       "      <th>57</th>\n",
       "      <td>2019-08-29</td>\n",
       "      <td>B</td>\n",
       "      <td>596</td>\n",
       "      <td>544</td>\n",
       "      <td>5559398</td>\n",
       "      <td>17708</td>\n",
       "    </tr>\n",
       "    <tr>\n",
       "      <th>58</th>\n",
       "      <td>2019-08-30</td>\n",
       "      <td>A</td>\n",
       "      <td>545</td>\n",
       "      <td>493</td>\n",
       "      <td>4022970</td>\n",
       "      <td>18037</td>\n",
       "    </tr>\n",
       "    <tr>\n",
       "      <th>59</th>\n",
       "      <td>2019-08-30</td>\n",
       "      <td>B</td>\n",
       "      <td>620</td>\n",
       "      <td>567</td>\n",
       "      <td>5774631</td>\n",
       "      <td>18198</td>\n",
       "    </tr>\n",
       "    <tr>\n",
       "      <th>60</th>\n",
       "      <td>2019-08-31</td>\n",
       "      <td>A</td>\n",
       "      <td>557</td>\n",
       "      <td>503</td>\n",
       "      <td>4084803</td>\n",
       "      <td>18736</td>\n",
       "    </tr>\n",
       "    <tr>\n",
       "      <th>61</th>\n",
       "      <td>2019-08-31</td>\n",
       "      <td>B</td>\n",
       "      <td>640</td>\n",
       "      <td>586</td>\n",
       "      <td>5907760</td>\n",
       "      <td>18916</td>\n",
       "    </tr>\n",
       "  </tbody>\n",
       "</table>\n",
       "<p>62 rows × 6 columns</p>\n",
       "</div>"
      ],
      "text/plain": [
       "         date group  orders  buyers  revenue  visitors\n",
       "0  2019-08-01  A     24      20      148579   719     \n",
       "1  2019-08-01  B     21      20      101217   713     \n",
       "2  2019-08-02  A     44      38      242401   1338    \n",
       "3  2019-08-02  B     45      43      266748   1294    \n",
       "4  2019-08-03  A     68      62      354874   1845    \n",
       "..        ... ..     ..      ..         ...    ...    \n",
       "57 2019-08-29  B     596     544     5559398  17708   \n",
       "58 2019-08-30  A     545     493     4022970  18037   \n",
       "59 2019-08-30  B     620     567     5774631  18198   \n",
       "60 2019-08-31  A     557     503     4084803  18736   \n",
       "61 2019-08-31  B     640     586     5907760  18916   \n",
       "\n",
       "[62 rows x 6 columns]"
      ]
     },
     "execution_count": 39,
     "metadata": {},
     "output_type": "execute_result"
    }
   ],
   "source": [
    "cumulativeData"
   ]
  },
  {
   "cell_type": "code",
   "execution_count": 41,
   "metadata": {},
   "outputs": [],
   "source": [
    "# Построим графики кумулятивной выручки по дням и группам A/B-тестирования:\n",
    "# Создадим датафрейм с кумулятивным количеством заказов и кумулятивной выручкой по дням в обеих группах:\n",
    "cumulativeRevenueA = cumulativeData[cumulativeData['group'] == 'A'][['date','revenue', 'orders']]\n",
    "cumulativeRevenueB = cumulativeData[cumulativeData['group'] == 'B'][['date','revenue', 'orders']]"
   ]
  },
  {
   "cell_type": "code",
   "execution_count": 65,
   "metadata": {},
   "outputs": [
    {
     "data": {
      "image/png": "[encoded data removed]",
      "text/plain": [
       "<Figure size 1008x432 with 1 Axes>"
      ]
     },
     "metadata": {
      "needs_background": "light"
     },
     "output_type": "display_data"
    }
   ],
   "source": [
    "# Построим график выручки обеих групп:\n",
    "plt.figure(figsize=[14, 6])\n",
    "plt.grid(b=None, which='major', axis='both');\n",
    "plt.plot(cumulativeRevenueA['date'], cumulativeRevenueA['revenue'], label='Группа A')\n",
    "plt.plot(cumulativeRevenueB['date'], cumulativeRevenueB['revenue'], label='Группа B')\n",
    "plt.axvline(x = cumulativeRevenueA['date'][36], color='grey', linestyle='--')\n",
    "plt.legend();"
   ]
  },
  {
   "cell_type": "markdown",
   "metadata": {},
   "source": [
    "<a name=\"1c\"></a>\n",
    "<a href=\"#header2\">Наверх</a>\n",
    "\n",
    "## Вывод\n",
    "1. Хотя в первые 5 дней графики идут вровень, после 5 августа кумулятивный график B явно показывает лучшие результаты, чем график варианта А; при этом они сходятся в накопленных суммах заказов с 1 по 5 число, а также 13 августа. Далее графики выравниваются и график варианта B уходит в отрыв.\n",
    "2. Как видно из графика, 19 августа был сделан аномально большой заказ, который явно искажает картину для обработки данных.\n",
    "\n",
    "По неочищенным данным можно сделать вывод, что вариант Б лучше варианта А, следовательно, следующим шагод нужно усечь выбросы (большие заказы) и снова сравнить графики."
   ]
  },
  {
   "cell_type": "markdown",
   "metadata": {},
   "source": [
    "---\n",
    "<a href=\"#header2\">Наверх</a>\n",
    "<a name=\"2\"></a>\n",
    "## 2. График кумулятивного среднего чека"
   ]
  },
  {
   "cell_type": "code",
   "execution_count": 70,
   "metadata": {},
   "outputs": [
    {
     "data": {
      "image/png": "[encoded data removed]",
      "text/plain": [
       "<Figure size 1008x432 with 1 Axes>"
      ]
     },
     "metadata": {
      "needs_background": "light"
     },
     "output_type": "display_data"
    }
   ],
   "source": [
    "plt.figure(figsize=[14, 6])\n",
    "plt.plot(cumulativeRevenueA['date'], cumulativeRevenueA['revenue'] / cumulativeRevenueA['orders'], label='Группа A')\n",
    "plt.plot(cumulativeRevenueB['date'], cumulativeRevenueB['revenue'] / cumulativeRevenueB['orders'], label='Группа B')\n",
    "plt.grid(which='major', axis='both')\n",
    "plt.axvline(x = cumulativeRevenueA['date'][36], color='grey', linestyle='--')\n",
    "plt.legend(loc=2);"
   ]
  },
  {
   "cell_type": "markdown",
   "metadata": {},
   "source": [
    "<a href=\"#header2\">Наверх</a>\n",
    "## Вывод \n",
    "<a name=\"2c\"></a>\n",
    "<p>\n",
    "    По графику среднего чека можно формально сказать, что по неочищенным данным средний чек в среднем выше, однако, более явно, что на средний чек группы B влияет выброс 19.08.17. Если \"визуально\" убрать его, представив смещенную линию ниже, то можно понять, что средний чек по графику B стабильно ниже варианта A.\n",
    "</p>"
   ]
  },
  {
   "cell_type": "markdown",
   "metadata": {},
   "source": [
    "---\n",
    "<a href=\"#header2\">Наверх</a>\n",
    "<a name=\"3\"></a>\n",
    "## 3. График относительного изменения <br>кумулятивного среднего чека группы B к группе A"
   ]
  },
  {
   "cell_type": "code",
   "execution_count": 72,
   "metadata": {},
   "outputs": [
    {
     "data": {
      "text/plain": [
       "0    2019-08-01\n",
       "2    2019-08-02\n",
       "4    2019-08-03\n",
       "6    2019-08-04\n",
       "8    2019-08-05\n",
       "10   2019-08-06\n",
       "12   2019-08-07\n",
       "14   2019-08-08\n",
       "16   2019-08-09\n",
       "18   2019-08-10\n",
       "20   2019-08-11\n",
       "22   2019-08-12\n",
       "24   2019-08-13\n",
       "26   2019-08-14\n",
       "28   2019-08-15\n",
       "30   2019-08-16\n",
       "32   2019-08-17\n",
       "34   2019-08-18\n",
       "36   2019-08-19\n",
       "38   2019-08-20\n",
       "40   2019-08-21\n",
       "42   2019-08-22\n",
       "44   2019-08-23\n",
       "46   2019-08-24\n",
       "48   2019-08-25\n",
       "50   2019-08-26\n",
       "52   2019-08-27\n",
       "54   2019-08-28\n",
       "56   2019-08-29\n",
       "58   2019-08-30\n",
       "60   2019-08-31\n",
       "Name: date, dtype: datetime64[ns]"
      ]
     },
     "execution_count": 72,
     "metadata": {},
     "output_type": "execute_result"
    }
   ],
   "source": [
    "cumulativeRevenueA['date']"
   ]
  },
  {
   "cell_type": "code",
   "execution_count": 73,
   "metadata": {},
   "outputs": [
    {
     "data": {
      "image/png": "[encoded data removed]",
      "text/plain": [
       "<Figure size 1008x432 with 1 Axes>"
      ]
     },
     "metadata": {
      "needs_background": "light"
     },
     "output_type": "display_data"
    }
   ],
   "source": [
    "# Собираем данные в одном датафрейме\n",
    "mergedCumulativeRevenue = cumulativeRevenueA.merge(\n",
    "    cumulativeRevenueB, left_on='date', right_on='date', how='left', suffixes=['A', 'B'])\n",
    "# Строим отношение средних чеков и зададим размер графика:\n",
    "plt.figure(figsize=[14, 6])\n",
    "plt.plot(\n",
    "    mergedCumulativeRevenue['date'], \n",
    "        (mergedCumulativeRevenue['revenueB'] / mergedCumulativeRevenue['ordersB']) /\n",
    "        (mergedCumulativeRevenue['revenueA'] / mergedCumulativeRevenue['ordersA']) - 1)\n",
    "\n",
    "# Добавляем ось X\n",
    "plt.axhline(y=0.2, color='black', linestyle='--')\n",
    "plt.axvline(x = cumulativeRevenueA['date'][36], color='grey', linestyle='--')\n",
    "plt.axis([cumulativeRevenueA['date'][0], cumulativeRevenueA['date'][60], -0.25, 0.55])\n",
    "plt.grid(which='major', axis='both');"
   ]
  },
  {
   "cell_type": "markdown",
   "metadata": {},
   "source": [
    "<a href=\"#header2\">Наверх</a>\n",
    "## 3. Вывод \n",
    "<a name=\"3c\"></a>\n",
    "<p>\n",
    "    Из графика относительных изменений кумулятивного среднего чека варианта A к варианту B следует, что группа B не слишком стабильно, но показывает лучшие результаты относительно группы A. Однако, опять - это формальный вывод, на результаты которого сильно влияет вышеупомянутый выброс (отмечен серой линией на графике). В период стаблизации данных эксперимента мы видим, что кривая стремится вниз, ниже уровня превосходства над исходного варианта (A).\n",
    "</p>"
   ]
  },
  {
   "cell_type": "markdown",
   "metadata": {},
   "source": [
    "---\n",
    "<a href=\"#header2\">Наверх</a>\n",
    "<a name=\"4\"></a>\n",
    "##  4. График кумулятивной конверсии по группам"
   ]
  },
  {
   "cell_type": "code",
   "execution_count": 76,
   "metadata": {},
   "outputs": [
    {
     "data": {
      "image/png": "[encoded data removed]",
      "text/plain": [
       "<Figure size 1008x432 with 1 Axes>"
      ]
     },
     "metadata": {
      "needs_background": "light"
     },
     "output_type": "display_data"
    }
   ],
   "source": [
    "# Посчитаем кумулятивную конверсию:\n",
    "cumulativeData['conversion'] = cumulativeData['orders'] / cumulativeData['visitors']\n",
    "\n",
    "# отделяем данные по группам A и B:\n",
    "cumulativeDataA = cumulativeData[cumulativeData['group']=='A']\n",
    "cumulativeDataB = cumulativeData[cumulativeData['group']=='B']\n",
    "\n",
    "# строим графики\n",
    "plt.figure(figsize=[14, 6])\n",
    "plt.plot(cumulativeDataA['date'], cumulativeDataA['conversion'], label='A')\n",
    "plt.plot(cumulativeDataB['date'], cumulativeDataB['conversion'], label='B')\n",
    "plt.axis([cumulativeRevenueA['date'][0], cumulativeRevenueA['date'][60], 0.02, 0.045])\n",
    "plt.grid(which='major', axis='both')\n",
    "plt.axvline(x=cumulativeRevenueA['date'][16], color='green', linestyle='--')\n",
    "plt.axvline(x=cumulativeRevenueA['date'][36], color='grey', linestyle='--')\n",
    "plt.legend();"
   ]
  },
  {
   "cell_type": "markdown",
   "metadata": {},
   "source": [
    "<a href=\"#header2\">Наверх</a>\n",
    "## 4. Вывод \n",
    "<a name=\"4c\"></a>\n",
    "<p>\n",
    "    Примечательно, что графики после стабилизации (после зелёной линии, 2019-08-09) в пределах видимости коррелируют в конверсии - но явным лидером является график варианта B. Судя по конверсии, результаты группы B явно лучше, чем в исходном варианте.\n",
    "    <br>А вот 19 августа с конверсией ничего примечательного не случилось.\n",
    "</p>"
   ]
  },
  {
   "cell_type": "markdown",
   "metadata": {},
   "source": [
    "---\n",
    "<a href=\"#header2\">Наверх</a>\n",
    "<a name=\"5\"></a>\n",
    "##  5. График изменения относительной конверсии по группам"
   ]
  },
  {
   "cell_type": "code",
   "execution_count": 77,
   "metadata": {},
   "outputs": [
    {
     "data": {
      "image/png": "[encoded data removed]",
      "text/plain": [
       "<Figure size 1008x288 with 1 Axes>"
      ]
     },
     "metadata": {
      "needs_background": "light"
     },
     "output_type": "display_data"
    }
   ],
   "source": [
    "# Соберём датафрейм:\n",
    "mergedCumulativeConversions = cumulativeDataA[\n",
    "    ['date','conversion']].merge(\n",
    "    cumulativeDataB[\n",
    "        ['date','conversion']], left_on='date', right_on='date', how='left', suffixes=['A', 'B'])\n",
    "\n",
    "# Построим график:\n",
    "plt.figure(figsize=[14, 4])\n",
    "plt.plot(mergedCumulativeConversions['date'],\n",
    "         mergedCumulativeConversions['conversionB'] / mergedCumulativeConversions['conversionA']-1, \n",
    "         label=\"Относительный прирост конверсии группы B относительно группы A\")\n",
    "\n",
    "plt.grid(which='major', axis='both')\n",
    "plt.axhline(y=0, color='black', linestyle='--')\n",
    "plt.axhline(y=0.15, color='grey', linestyle='--')\n",
    "plt.axis([cumulativeRevenueA['date'][0], cumulativeRevenueA['date'][60], -0.2, 0.4])\n",
    "plt.legend(loc=2);"
   ]
  },
  {
   "cell_type": "markdown",
   "metadata": {},
   "source": [
    "<a href=\"#header2\">Наверх</a>\n",
    "## 5. Вывод \n",
    "<a name=\"5c\"></a>\n",
    "<p>\n",
    "    Относительность этой метрики даёт достаточно хорошее предоставление о группе B: хотя средний чек и ниже, но выручка и конверсия заметно выше.\n",
    "    <br>\n",
    "    Далее следует посмотреть что скажет график по неочищенным данным.\n",
    "</p>"
   ]
  },
  {
   "cell_type": "markdown",
   "metadata": {},
   "source": [
    "---\n",
    "<a href=\"#header2\">Наверх</a>\n",
    "<a name=\"6\"></a>\n",
    "##  6. Точечный график количества заказов на уникального пользователя"
   ]
  },
  {
   "cell_type": "code",
   "execution_count": 78,
   "metadata": {},
   "outputs": [
    {
     "data": {
      "text/html": [
       "<div>\n",
       "<style scoped>\n",
       "    .dataframe tbody tr th:only-of-type {\n",
       "        vertical-align: middle;\n",
       "    }\n",
       "\n",
       "    .dataframe tbody tr th {\n",
       "        vertical-align: top;\n",
       "    }\n",
       "\n",
       "    .dataframe thead th {\n",
       "        text-align: right;\n",
       "    }\n",
       "</style>\n",
       "<table border=\"1\" class=\"dataframe\">\n",
       "  <thead>\n",
       "    <tr style=\"text-align: right;\">\n",
       "      <th></th>\n",
       "      <th>user</th>\n",
       "      <th>num_of_orders</th>\n",
       "    </tr>\n",
       "  </thead>\n",
       "  <tbody>\n",
       "    <tr>\n",
       "      <th>1023</th>\n",
       "      <td>4256040402</td>\n",
       "      <td>11</td>\n",
       "    </tr>\n",
       "    <tr>\n",
       "      <th>591</th>\n",
       "      <td>2458001652</td>\n",
       "      <td>11</td>\n",
       "    </tr>\n",
       "    <tr>\n",
       "      <th>569</th>\n",
       "      <td>2378935119</td>\n",
       "      <td>9</td>\n",
       "    </tr>\n",
       "    <tr>\n",
       "      <th>487</th>\n",
       "      <td>2038680547</td>\n",
       "      <td>8</td>\n",
       "    </tr>\n",
       "    <tr>\n",
       "      <th>44</th>\n",
       "      <td>199603092</td>\n",
       "      <td>5</td>\n",
       "    </tr>\n",
       "    <tr>\n",
       "      <th>744</th>\n",
       "      <td>3062433592</td>\n",
       "      <td>5</td>\n",
       "    </tr>\n",
       "    <tr>\n",
       "      <th>55</th>\n",
       "      <td>237748145</td>\n",
       "      <td>5</td>\n",
       "    </tr>\n",
       "    <tr>\n",
       "      <th>917</th>\n",
       "      <td>3803269165</td>\n",
       "      <td>5</td>\n",
       "    </tr>\n",
       "    <tr>\n",
       "      <th>299</th>\n",
       "      <td>1230306981</td>\n",
       "      <td>5</td>\n",
       "    </tr>\n",
       "    <tr>\n",
       "      <th>897</th>\n",
       "      <td>3717692402</td>\n",
       "      <td>5</td>\n",
       "    </tr>\n",
       "    <tr>\n",
       "      <th>393</th>\n",
       "      <td>1614305549</td>\n",
       "      <td>4</td>\n",
       "    </tr>\n",
       "    <tr>\n",
       "      <th>114</th>\n",
       "      <td>457167155</td>\n",
       "      <td>4</td>\n",
       "    </tr>\n",
       "    <tr>\n",
       "      <th>619</th>\n",
       "      <td>2587333274</td>\n",
       "      <td>4</td>\n",
       "    </tr>\n",
       "    <tr>\n",
       "      <th>340</th>\n",
       "      <td>1404934699</td>\n",
       "      <td>3</td>\n",
       "    </tr>\n",
       "    <tr>\n",
       "      <th>937</th>\n",
       "      <td>3908431265</td>\n",
       "      <td>3</td>\n",
       "    </tr>\n",
       "  </tbody>\n",
       "</table>\n",
       "</div>"
      ],
      "text/plain": [
       "            user  num_of_orders\n",
       "1023  4256040402  11           \n",
       "591   2458001652  11           \n",
       "569   2378935119  9            \n",
       "487   2038680547  8            \n",
       "44    199603092   5            \n",
       "744   3062433592  5            \n",
       "55    237748145   5            \n",
       "917   3803269165  5            \n",
       "299   1230306981  5            \n",
       "897   3717692402  5            \n",
       "393   1614305549  4            \n",
       "114   457167155   4            \n",
       "619   2587333274  4            \n",
       "340   1404934699  3            \n",
       "937   3908431265  3            "
      ]
     },
     "metadata": {},
     "output_type": "display_data"
    },
    {
     "data": {
      "text/plain": [
       "count    1031.00\n",
       "mean     1.16   \n",
       "std      0.72   \n",
       "min      1.00   \n",
       "25%      1.00   \n",
       "50%      1.00   \n",
       "75%      1.00   \n",
       "max      11.00  \n",
       "Name: num_of_orders, dtype: float64"
      ]
     },
     "metadata": {},
     "output_type": "display_data"
    },
    {
     "data": {
      "image/png": "[encoded data removed]",
      "text/plain": [
       "<Figure size 864x432 with 1 Axes>"
      ]
     },
     "metadata": {
      "needs_background": "light"
     },
     "output_type": "display_data"
    }
   ],
   "source": [
    "# Создадим нужный датафрейм и просуммируем количество заказов у сгруппированных пользователей:\n",
    "ordersByUsers = orders[['visitorId', 'transactionId']].groupby('visitorId', as_index=False).agg({'transactionId' : pd.Series.nunique})\n",
    "ordersByUsers.columns = ['user','num_of_orders']\n",
    "# Посмотрим на топ-10 пользователей с наибольшим количеством заказов, а также на описание данных по количеству заказов в целом:\n",
    "display(ordersByUsers.sort_values(by='num_of_orders', ascending=False).head(15))\n",
    "display(ordersByUsers['num_of_orders'].describe().round(2))\n",
    "# Построим график рассеивания:\n",
    "plt.figure(figsize=[12,6])\n",
    "plt.grid(which='major', axis='y')\n",
    "plt.scatter(pd.Series(range(0,len(ordersByUsers['num_of_orders']))), ordersByUsers['num_of_orders'])\n",
    "plt.show()"
   ]
  },
  {
   "cell_type": "markdown",
   "metadata": {},
   "source": [
    "<a href=\"#header2\">Наверх</a>\n",
    "<a name=\"6c\"></a>\n",
    "## 6. Вывод \n",
    "<p>\n",
    "   Подавляющее количество пользователей делают 1 заказ, и лишь 10 пользователей сделали 5 и больше заказов. Скорее всего они попадут в то количество, что нужно отсеять для получения \"чистых\" данных. \n",
    "   <br> \n",
    "   Также нужно понять нет ли ошибки в заказах этих пользователей - вполне возможно, что это что-то заказанное по ошибке, например, нужна была 1 единица товара, пользвоатель заказал 10, а 9 вернул. В противном случае нужно приставить этим заказчикам личного менеджера и подарить им карту лояльности.\n",
    "</p>"
   ]
  },
  {
   "cell_type": "markdown",
   "metadata": {},
   "source": [
    "---\n",
    "<a href=\"#header2\">Наверх</a>\n",
    "<a name=\"7\"></a>\n",
    "##  7. 95-й и 99-й перцентили количества заказов на пользователя"
   ]
  },
  {
   "cell_type": "code",
   "execution_count": 79,
   "metadata": {},
   "outputs": [
    {
     "data": {
      "text/plain": [
       "'Граница количество заказов на каждую перцентиль: [(95, 2), (99, 4)]'"
      ]
     },
     "metadata": {},
     "output_type": "display_data"
    }
   ],
   "source": [
    "percetiles_list = [95, 99]\n",
    "num_orders = np.percentile(ordersByUsers['num_of_orders'], percetiles_list)\n",
    "num_orders = [int(x) for x in num_orders]\n",
    "final_list = [(percetiles_list[i], num_orders[i]) for i in range(0, len(num_orders))]\n",
    "display(f'Граница количество заказов на каждую перцентиль: {final_list}')"
   ]
  },
  {
   "cell_type": "markdown",
   "metadata": {},
   "source": [
    "<a href=\"#header2\">Наверх</a>\n",
    "<a name=\"7c\"></a>\n",
    "## 7. Вывод \n",
    "<p>\n",
    "    Как и было видно из графика, выбросами являются все, кто заказал больше 2 или 4 заказов. Если выбрать границей 99 перцентиль, то будут отсечены те самые 10 заказчиков, однако из графика явно видно, что плотность падает не после 4-х заказов на пользователя, а после 2-х. Выберем границей 95-ю перцентиль чтобы быть более уверенными, что в выборке минимальное количество выбросов.\n",
    "</p>"
   ]
  },
  {
   "cell_type": "markdown",
   "metadata": {},
   "source": [
    "---\n",
    "<a href=\"#header2\">Наверх</a>\n",
    "<a name=\"8\"></a>\n",
    "##  8. Точечный график стоимостей заказов"
   ]
  },
  {
   "cell_type": "code",
   "execution_count": 80,
   "metadata": {
    "scrolled": false
   },
   "outputs": [
    {
     "data": {
      "image/png": "[encoded data removed]",
      "text/plain": [
       "<Figure size 864x720 with 1 Axes>"
      ]
     },
     "metadata": {
      "needs_background": "light"
     },
     "output_type": "display_data"
    }
   ],
   "source": [
    "x_values = pd.Series(range(0,len(orders['revenue'])))\n",
    "plt.figure(figsize=[12,10])\n",
    "plt.grid(which='major', axis='y')\n",
    "plt.yticks(np.arange(min([0]), max([1350000]), 50000.0))\n",
    "plt.scatter(x_values, orders['revenue']);"
   ]
  },
  {
   "cell_type": "markdown",
   "metadata": {},
   "source": [
    "<a href=\"#header2\">Наверх</a>\n",
    "<a name=\"8c\"></a>\n",
    "## 8. Вывод \n",
    "<p>\n",
    "    По графику кажется, что в данных всего 2 выброса: 1 заказ на 1.3 млн и один заказ на 200 тыс. Избавившись от статистических выбросов после выбора границы отсечения по перцентилям мы получим более чёткую картину - вероятность таких заказов в будущем крайне мала, так как подавляющее большинство из них (исходя из графика) совершены на сумму менее 50 тысяч.\n",
    "</p>"
   ]
  },
  {
   "cell_type": "markdown",
   "metadata": {},
   "source": [
    "---\n",
    "<a href=\"#header2\">Наверх</a>\n",
    "<a name=\"9\"></a>\n",
    "##  9. 95-й и 99-й перцентили стоимости заказов"
   ]
  },
  {
   "cell_type": "code",
   "execution_count": 81,
   "metadata": {},
   "outputs": [
    {
     "data": {
      "text/plain": [
       "'Граница количество заказов на каждую перцентиль: [(95, 28000), (99, 58233)]'"
      ]
     },
     "metadata": {},
     "output_type": "display_data"
    }
   ],
   "source": [
    "percetiles_list = [95, 99]\n",
    "num_orders = np.percentile(orders['revenue'], percetiles_list)\n",
    "num_orders = [int(x) for x in num_orders]\n",
    "final_list = [(percetiles_list[i], num_orders[i]) for i in range(0, len(num_orders))]\n",
    "display(f'Граница количество заказов на каждую перцентиль: {final_list}')"
   ]
  },
  {
   "cell_type": "code",
   "execution_count": 82,
   "metadata": {},
   "outputs": [
    {
     "name": "stdout",
     "output_type": "stream",
     "text": [
      "Заказов после 95 перцентили: 60\n",
      "Заказов после 99 перцентили: 12\n"
     ]
    }
   ],
   "source": [
    "# Какое количество заказов приходится на обе точки отсечения? Стоит проверить:\n",
    "print('Заказов после 95 перцентили:', len(orders[orders['revenue'] > 28000]))\n",
    "print('Заказов после 99 перцентили:', len(orders[orders['revenue'] > 58233]))"
   ]
  },
  {
   "cell_type": "markdown",
   "metadata": {},
   "source": [
    "<a href=\"#header2\">Наверх</a>\n",
    "<a name=\"9c\"></a>\n",
    "## 9. Вывод \n",
    "<p>\n",
    "    Всего 12 аномалий по стоимости для 99%. Мы хотим чтобы тест получился как можно более беспристрастным. Выберем границей 95-ю перцентиль.\n",
    "</p>"
   ]
  },
  {
   "cell_type": "markdown",
   "metadata": {},
   "source": [
    "<a name=\"error\"></a>\n",
    "<h2><font color=\"grey\">Подготовка таблицы для расчётов статистически значимых различий в данных</font></h2>"
   ]
  },
  {
   "cell_type": "code",
   "execution_count": 88,
   "metadata": {},
   "outputs": [],
   "source": [
    "visitorsADaily = visitors[visitors['group']=='A'][['date', 'visitors']]\n",
    "visitorsADaily.columns = ['date', 'visitorsPerDateA']\n",
    "\n",
    "visitorsACumulative = visitorsADaily.apply(\n",
    "    lambda x: visitorsADaily[\n",
    "        visitorsADaily['date'] <= x['date']].agg({'date' : 'max', 'visitorsPerDateA' : 'sum'}), axis=1)\n",
    "visitorsACumulative.columns = ['date', 'visitorsCumulativeA']\n",
    "\n",
    "visitorsBDaily = visitors[visitors['group']=='B'][['date', 'visitors']]\n",
    "visitorsBDaily.columns = ['date', 'visitorsPerDateB']\n",
    "\n",
    "visitorsBCumulative = visitorsBDaily.apply(\n",
    "    lambda x: visitorsBDaily[\n",
    "        visitorsBDaily['date'] <= x['date']].agg({'date' : 'max', 'visitorsPerDateB' : 'sum'}), axis=1)\n",
    "visitorsBCumulative.columns = ['date', 'visitorsCumlativeB']\n",
    "\n",
    "ordersADaily = orders[orders['group']=='A'][['date', 'transactionId', 'visitorId', 'revenue']]\\\n",
    "    .groupby('date', as_index=False)\\\n",
    "    .agg({'transactionId' : pd.Series.nunique, 'revenue' : 'sum'})\n",
    "ordersADaily.columns = ['date', 'ordersPerDateA', 'revenuePerDateA']\n",
    "\n",
    "ordersACumulative = ordersADaily.apply(\n",
    "    lambda x: \\\n",
    "        ordersADaily[ordersADaily['date'] <= x['date']]\\\n",
    "            .agg({\n",
    "                'date' : 'max',\n",
    "                'ordersPerDateA' : 'sum',\n",
    "                'revenuePerDateA' : 'sum'}), axis=1).sort_values(by=['date'])\n",
    "ordersACumulative.columns = ['date', 'ordersCumulativeA', 'revenueCumulativeA']\n",
    "\n",
    "ordersBDaily = orders[orders['group']=='B'][['date', 'transactionId', 'visitorId', 'revenue']]\\\n",
    "    .groupby('date', as_index=False)\\\n",
    "    .agg({'transactionId' : pd.Series.nunique, 'revenue' : 'sum'})\n",
    "ordersBDaily.columns = ['date', 'ordersPerDateB', 'revenuePerDateB']\n",
    "\n",
    "ordersBCumulative = ordersBDaily.apply(\n",
    "    lambda x: \\\n",
    "        ordersBDaily[ordersBDaily['date'] <= x['date']]\\\n",
    "            .agg({\n",
    "                'date' : 'max',\n",
    "                'ordersPerDateB' : 'sum',\n",
    "                'revenuePerDateB' : 'sum'}), axis=1).sort_values(by=['date'])\n",
    "ordersBCumulative.columns = ['date', 'ordersCumulativeB', 'revenueCumulativeB']\n",
    "\n",
    "data = ordersADaily.merge(ordersBDaily, left_on='date', right_on='date', how='left')\\\n",
    "    .merge(ordersACumulative, left_on='date', right_on='date', how='left')\\\n",
    "    .merge(ordersBCumulative, left_on='date', right_on='date', how='left')\\\n",
    "    .merge(visitorsADaily, left_on='date', right_on='date', how='left')\\\n",
    "    .merge(visitorsBDaily, left_on='date', right_on='date', how='left')\\\n",
    "    .merge(visitorsACumulative, left_on='date', right_on='date', how='left')\\\n",
    "    .merge(visitorsBCumulative, left_on='date', right_on='date', how='left')\n",
    "\n",
    "# Соберём отдельные датафреймы которые разделят на группы датафрейм в таблицу, в которой будут содержаться уникальные пользователи\n",
    "# с количеством их заказов:\n",
    "ordersByUsersA = orders[orders['group']=='A'].groupby(\n",
    "    'visitorId', as_index=False).agg({'transactionId' : pd.Series.nunique})\n",
    "ordersByUsersA.columns = ['visitorId', 'orders']\n",
    "\n",
    "ordersByUsersB = orders[orders['group']=='B'].groupby(\n",
    "    'visitorId', as_index=False).agg({'transactionId' : pd.Series.nunique})\n",
    "ordersByUsersB.columns = ['visitorId', 'orders']\n",
    "\n",
    "usersWithManyOrders = pd.concat(\n",
    "    [ordersByUsersA[ordersByUsersA['orders'] > 2]['visitorId'], \n",
    "     ordersByUsersB[ordersByUsersB['orders'] > 2]['visitorId']], axis = 0)\n",
    "\n",
    "usersWithExpensiveOrders = orders[orders['revenue'] > 28000]['visitorId']\n",
    "\n",
    "abnormalUsers = pd.concat([usersWithManyOrders, usersWithExpensiveOrders], axis = 0).drop_duplicates().sort_values()"
   ]
  },
  {
   "cell_type": "markdown",
   "metadata": {},
   "source": [
    "---\n",
    "<a href=\"#header2\">Наверх</a>\n",
    "<a name=\"10\"></a>\n",
    "## 10. Cтатистическая значимость различий <br> в конверсии между группами по «сырым» данным"
   ]
  },
  {
   "cell_type": "code",
   "execution_count": 98,
   "metadata": {
    "scrolled": true
   },
   "outputs": [
    {
     "name": "stdout",
     "output_type": "stream",
     "text": [
      "0.008\n",
      "13.8%\n"
     ]
    }
   ],
   "source": [
    "# Соберём датафреймы в которых для пользователей, которые заказывали хотя бы 1 раз, будет число совершённых заказов:\n",
    "ordersByUsersA = orders[orders['group']=='A'].groupby(\n",
    "    'visitorId', as_index=False).agg({'transactionId' : pd.Series.nunique})\n",
    "ordersByUsersB = orders[orders['group']=='B'].groupby(\n",
    "    'visitorId', as_index=False).agg({'transactionId' : pd.Series.nunique})\n",
    "\n",
    "# Переименуем столбцы:\n",
    "ordersByUsersA.columns = ['visitorId', 'orders']\n",
    "ordersByUsersB.columns = ['visitorId', 'orders']\n",
    "\n",
    "# Создадим отдельные датафреймы для каждой группы для сравнения:\n",
    "sampleA = pd.concat(\n",
    "    [ordersByUsersA['orders'],pd.Series(\n",
    "        0, index=np.arange(\n",
    "            data['visitorsPerDateA'].sum() - len(ordersByUsersA['orders'])), name='orders')],axis=0)\n",
    "\n",
    "sampleB = pd.concat(\n",
    "    [ordersByUsersB['orders'],pd.Series(\n",
    "        0, index=np.arange(\n",
    "            data['visitorsPerDateB'].sum() - len(ordersByUsersB['orders'])), name='orders')],axis=0)\n",
    "\n",
    "# Посчитаем probability value и разницу в конверсии по \"сырым\" данным:\n",
    "print(\"{0:.3f}\".format(stats.mannwhitneyu(sampleA, sampleB)[1]/2))\n",
    "print(\"{0:.1%}\".format(sampleB.mean()/sampleA.mean()-1))"
   ]
  },
  {
   "cell_type": "markdown",
   "metadata": {},
   "source": [
    "<a href=\"#header2\">Наверх</a>\n",
    "<a name=\"10c\"></a>\n",
    "## 10. Вывод \n",
    "<p>\n",
    "    По неочищенным данным следует сделать вывод, что варианты A и B различаются, а группа B показывает лучшую конверсию по сравнению с группой A.\n",
    "</p>"
   ]
  },
  {
   "cell_type": "markdown",
   "metadata": {},
   "source": [
    "---\n",
    "<a href=\"#header2\">Наверх</a>\n",
    "<a name=\"11\"></a>\n",
    "##  11. Cтатистическая значимость различий <br> в конверсии между группами по «очищенным» данным"
   ]
  },
  {
   "cell_type": "code",
   "execution_count": 97,
   "metadata": {},
   "outputs": [
    {
     "name": "stdout",
     "output_type": "stream",
     "text": [
      "0.007\n",
      "17.27%\n"
     ]
    }
   ],
   "source": [
    "# Соберём 2 датафрейма и уберём покупателей из группы abnormalUsers:\n",
    "sampleAFiltered = pd.concat(\n",
    "    [ordersByUsersA[np.logical_not(\n",
    "        ordersByUsersA['visitorId'].isin(abnormalUsers)\n",
    "    )]['orders'],pd.Series(\n",
    "        0, index=np.arange(\n",
    "            data['visitorsPerDateA'].sum() - len(ordersByUsersA['orders'])),name='orders')],axis=0)\n",
    "\n",
    "sampleBFiltered = pd.concat(\n",
    "    [ordersByUsersB[np.logical_not(\n",
    "        ordersByUsersB['visitorId'].isin(abnormalUsers)\n",
    "    )]['orders'],pd.Series(\n",
    "        0, index=np.arange(\n",
    "            data['visitorsPerDateB'].sum() - len(ordersByUsersB['orders'])),name='orders')],axis=0)\n",
    "\n",
    "print(\"{0:.3f}\".format(stats.mannwhitneyu(sampleAFiltered, sampleBFiltered)[1]/2))\n",
    "print(\"{0:.2%}\".format(sampleBFiltered.mean()/sampleAFiltered.mean()-1))"
   ]
  },
  {
   "cell_type": "markdown",
   "metadata": {},
   "source": [
    "<a href=\"#header2\">Наверх</a>\n",
    "<a name=\"11c\"></a>\n",
    "## 11. Вывод \n",
    "<p>\n",
    "    P-value очень низкое, следовательно, мы отвергаем гипотезу о равенстве конверсий, а конверсия группы B превосходит тот же самый показатель группы A на 17%.\n",
    "</p>"
   ]
  },
  {
   "cell_type": "markdown",
   "metadata": {},
   "source": [
    "---\n",
    "<a href=\"#header2\">Наверх</a>\n",
    "<a name=\"12\"></a>\n",
    "##  12. Cтатистическая значимость различий <br> в среднем чеке между группами по «сырым» данным"
   ]
  },
  {
   "cell_type": "code",
   "execution_count": 99,
   "metadata": {
    "scrolled": true
   },
   "outputs": [
    {
     "name": "stdout",
     "output_type": "stream",
     "text": [
      "P-value: 0.365\n",
      "Разница в средних чеках: 25.9%\n"
     ]
    }
   ],
   "source": [
    "print(\"P-value: {0:.3f}\".format(stats.mannwhitneyu(orders[\n",
    "    orders['group'] == 'A']['revenue'], orders[orders['group'] == 'B']['revenue'])[1]/2))\n",
    "print(\"Разница в средних чеках: {0:.1%}\".format(orders[\n",
    "    orders['group'] == 'B']['revenue'].mean() / orders[orders['group'] == 'A']['revenue'].mean()-1))"
   ]
  },
  {
   "cell_type": "markdown",
   "metadata": {},
   "source": [
    "<a href=\"#header2\">Наверх</a>\n",
    "<a name=\"12c\"></a>\n",
    "## 12. Вывод \n",
    "<p>\n",
    "    По неочищенным данным следует сделать вывод, что варианты A и B не отличаются, но имеют разницу в среднем чеке в 25.9%.\n",
    "</p>"
   ]
  },
  {
   "cell_type": "markdown",
   "metadata": {},
   "source": [
    "---\n",
    "<a href=\"#header2\">Наверх</a>\n",
    "<a name=\"13\"></a>\n",
    "##  13. Cтатистическая значимость различий <br> в среднем чеке между группами по «очищенным» данным"
   ]
  },
  {
   "cell_type": "code",
   "execution_count": 100,
   "metadata": {},
   "outputs": [
    {
     "name": "stdout",
     "output_type": "stream",
     "text": [
      "P-value: 0.369\n",
      "Разница в конверсии: -2.0%\n"
     ]
    }
   ],
   "source": [
    "# Теперь, когда таблицы готовы, можно посчитать p-value с помощью теста Манна-Уитни:\n",
    "print(\"P-value: {:.3f}\".format(stats.mannwhitneyu(\n",
    "    orders[np.logical_and(\n",
    "        orders['group']=='A',\n",
    "        np.logical_not(orders['visitorId'].isin(abnormalUsers)))]['revenue'],\n",
    "    orders[np.logical_and(\n",
    "        orders['group']=='B',\n",
    "        np.logical_not(orders['visitorId'].isin(abnormalUsers)))]['revenue'])[1]/2))\n",
    "\n",
    "# А также найти p-value и отношение средних чеков групп B и группы А.\n",
    "print(\"Разница в конверсии: {:.1%}\".format(\n",
    "    orders[np.logical_and(\n",
    "        orders['group']=='B',np.logical_not(orders['visitorId'].isin(abnormalUsers)))]['revenue'].mean()/\n",
    "    orders[np.logical_and(\n",
    "        orders['group']=='A',\n",
    "        np.logical_not(orders['visitorId'].isin(abnormalUsers)))]['revenue'].mean() - 1))"
   ]
  },
  {
   "cell_type": "markdown",
   "metadata": {},
   "source": [
    "<a href=\"#header2\">Наверх</a>\n",
    "<a name=\"13c\"></a>\n",
    "## 13. Вывод \n",
    "<p>\n",
    "    Мы получили 36.9% вероятности получить различия между выборками случайно, если бы они были одинаковыми. Это гораздо выше уровня значимости в 5%, следовательно, статистически значимых различий нет, а в случае с разницей, то вариант A показывает на 2% лучшие показатель среднего чека.\n",
    "</p>\n",
    "\n",
    "---"
   ]
  },
  {
   "cell_type": "code",
   "execution_count": 103,
   "metadata": {},
   "outputs": [],
   "source": [
    "orders_clean = orders[orders['revenue'] < 28000]\n",
    "\n",
    "ordersAggregated_clean = datesGroups.apply(\n",
    "    lambda x: orders_clean[\n",
    "        np.logical_and(orders_clean['date'] <= x['date'], \n",
    "                       orders_clean['group'] == x['group'])].agg(\n",
    "            {'date' : 'max',\n",
    "             'group' : 'max',\n",
    "             'transactionId' : pd.Series.nunique,\n",
    "             'visitorId' : pd.Series.nunique,\n",
    "             'revenue' : 'sum'}), axis=1).sort_values(by=['date','group'])\n",
    "visitorsAggregated_clean = datesGroups.apply(\n",
    "    lambda x: visitors[\n",
    "        np.logical_and(visitors['date'] <= x['date'], \n",
    "                        visitors['group'] == x['group'])].agg(\n",
    "        {'date' : 'max','group' : 'max','visitors' : 'sum'}), axis=1).sort_values(by=['date','group'])\n",
    "\n",
    "# Объединяем кумулятивные данные в одной таблице и присваиваем ее столбцам понятные названия:\n",
    "cumulativeData_clean = ordersAggregated_clean.merge(\n",
    "    visitorsAggregated_clean, left_on=['date', 'group'], right_on=['date', 'group'])\n",
    "cumulativeData_clean.columns = ['date', 'group', 'orders', 'buyers', 'revenue', 'visitors']\n",
    "\n",
    "cumulativeRevenueA_clean = cumulativeData_clean[\n",
    "    cumulativeData_clean['group'] == 'A'][['date','revenue', 'orders']]\n",
    "cumulativeRevenueB_clean = cumulativeData_clean[\n",
    "    cumulativeData_clean['group'] == 'B'][['date','revenue', 'orders']]\n",
    "\n",
    "# Собираем данные в новом датафрейме и добавляем суффикс '_clean':\n",
    "mergedCumulativeRevenue_clean = cumulativeRevenueA_clean.merge(\n",
    "    cumulativeRevenueB_clean, left_on='date', right_on='date', how='left', suffixes=['A', 'B'])\n",
    "\n",
    "# Сделаем функцию вызова графика для сравнения средних чеков по сырым и очищенным:\n",
    "def call_avg_rev_comparison_graph():\n",
    "    plt.figure(figsize=[14, 6])\n",
    "    plt.plot(\n",
    "        mergedCumulativeRevenue_clean['date'], \n",
    "            ((mergedCumulativeRevenue_clean['revenueB'] / mergedCumulativeRevenue_clean['ordersB']) /\n",
    "            (mergedCumulativeRevenue_clean['revenueA'] / mergedCumulativeRevenue_clean['ordersA']) - 1), \n",
    "            label='Cредний чек - очищенные данные')\n",
    "    plt.plot(\n",
    "        mergedCumulativeRevenue['date'], \n",
    "            ((mergedCumulativeRevenue['revenueB'] / mergedCumulativeRevenue['ordersB']) /\n",
    "            (mergedCumulativeRevenue['revenueA'] / mergedCumulativeRevenue['ordersA']) - 1),\n",
    "            label='Средний чек - сырые данные')\n",
    "    # Добавляем ось X\n",
    "    plt.axhline(y=0, color='black', linestyle='--')\n",
    "    plt.axis([cumulativeRevenueA['date'][0], cumulativeRevenueA['date'][60], -0.25, 0.55])\n",
    "    plt.grid(which='major', axis='both');\n",
    "    plt.legend(loc=2);\n",
    "\n",
    "    \n",
    "# Посчитаем кумулятивную конверсию по очищенным данным:\n",
    "cumulativeData_clean['conversion'] = cumulativeData_clean['orders'] / cumulativeData_clean['visitors']\n",
    "\n",
    "# Разделяем данные по группам A и B:\n",
    "cumulativeDataA_clean = cumulativeData_clean[cumulativeData_clean['group']=='A']\n",
    "cumulativeDataB_clean = cumulativeData_clean[cumulativeData_clean['group']=='B']\n",
    "\n",
    "mergedCumulativeConversions_clean = cumulativeDataA_clean[\n",
    "    ['date','conversion']].merge(\n",
    "    cumulativeDataB_clean[\n",
    "        ['date','conversion']], left_on='date', right_on='date', how='left', suffixes=['A', 'B'])\n",
    "\n",
    "# Сделаем функцию вызова графика для сравнения конверсий по сырым и очищенным данным:\n",
    "def call_conversion_comparison_graph():\n",
    "    plt.figure(figsize=[14, 4])\n",
    "    plt.plot(mergedCumulativeConversions_clean['date'],\n",
    "             mergedCumulativeConversions_clean['conversionB'] / mergedCumulativeConversions_clean['conversionA']-1, \n",
    "             label=\"Относительный прирост конверсии группы B относительно группы A - очищенные данные\")\n",
    "    plt.plot(mergedCumulativeConversions['date'],\n",
    "             mergedCumulativeConversions['conversionB'] / mergedCumulativeConversions['conversionA']-1, \n",
    "             label=\"Относительный прирост конверсии группы B относительно группы A - сырые данные\")\n",
    "\n",
    "    plt.grid(which='major', axis='both')\n",
    "    plt.axhline(y=0, color='black', linestyle='--')\n",
    "    plt.axhline(y=0.15, color='grey', linestyle='--')\n",
    "    plt.axis([cumulativeRevenueA['date'][0], cumulativeRevenueA['date'][60], -0.2, 0.4])\n",
    "    plt.legend(loc=2);"
   ]
  },
  {
   "cell_type": "markdown",
   "metadata": {},
   "source": [
    "---\n",
    "<a href=\"#header2\">Наверх</a>\n",
    "<a name=\"result\"></a>\n",
    "# Вывод и решение\n",
    "У нас на руках имеются следующие факты:\n",
    "- Хотя, по \"сырым\" данным нет статистически значимого различия по среднему чеку между группами по «сырым», после фильтрации аномалий выявляется отсутствие различий между обеими группами (как показано на графике ниже);\n",
    "- Статистически значимое различие по конверсии между группами есть и по «сырым», и по \"фильтрованным\" данным;\n",
    "- Графики относительного различия среднего чека между группами показывает, что результаты группы B без выбросов примерно равны результатам группы A и нет значительной разницы между ними:\n",
    "- Графики относительного различия конверсии между группами показывает, что результаты группы B без выбросов практически не изменился, следовательно, правильно сделать вывод, что даже \"сырые\" данные довольно репрезентативны.\n",
    "\n",
    "Исходя из обнаруженных фактов, тест следует остановить и признать его успешным, где группа B, исходя из полученных данных, является победителем в конверсии с превосходством над группой A в районе 15%."
   ]
  },
  {
   "cell_type": "code",
   "execution_count": 104,
   "metadata": {},
   "outputs": [
    {
     "data": {
      "image/png": "[encoded data removed]",
      "text/plain": [
       "<Figure size 1008x432 with 1 Axes>"
      ]
     },
     "metadata": {
      "needs_background": "light"
     },
     "output_type": "display_data"
    }
   ],
   "source": [
    "call_avg_rev_comparison_graph()"
   ]
  },
  {
   "cell_type": "code",
   "execution_count": 105,
   "metadata": {},
   "outputs": [
    {
     "data": {
      "image/png": "[encoded data removed]",
      "text/plain": [
       "<Figure size 1008x288 with 1 Axes>"
      ]
     },
     "metadata": {
      "needs_background": "light"
     },
     "output_type": "display_data"
    }
   ],
   "source": [
    "call_conversion_comparison_graph()"
   ]
  }
 ],
 "metadata": {
  "kernelspec": {
   "display_name": "Python 3 (ipykernel)",
   "language": "python",
   "name": "python3"
  },
  "language_info": {
   "codemirror_mode": {
    "name": "ipython",
    "version": 3
   },
   "file_extension": ".py",
   "mimetype": "text/x-python",
   "name": "python",
   "nbconvert_exporter": "python",
   "pygments_lexer": "ipython3",
   "version": "3.9.7"
  },
  "toc": {
   "base_numbering": 1,
   "nav_menu": {},
   "number_sections": true,
   "sideBar": true,
   "skip_h1_title": true,
   "title_cell": "Table of Contents",
   "title_sidebar": "Contents",
   "toc_cell": false,
   "toc_position": {},
   "toc_section_display": true,
   "toc_window_display": false
  }
 },
 "nbformat": 4,
 "nbformat_minor": 2
}

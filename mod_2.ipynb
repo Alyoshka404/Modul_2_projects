{
 "cells": [
  {
   "cell_type": "markdown",
   "metadata": {},
   "source": [
    "# Описание проекта\n",
    "- Вы работаете в стартапе, который продаёт продукты питания. Нужно разобраться, как ведут себя пользователи вашего мобильного приложения.\n",
    "- Изучите воронку продаж. Узнайте, как пользователи доходят до покупки. Сколько пользователей доходит до покупки, а сколько — «застревает» на предыдущих шагах? На каких именно?\n",
    "- После этого исследуйте результаты A/B-эксперимента. Дизайнеры захотели поменять шрифты во всём приложении, а менеджеры испугались, что пользователям будет непривычно. Договорились принять решение по результатам A/B-теста. Для него пользователей разбили на 3 группы: 2 контрольные со старыми шрифтами и одну экспериментальную — с новыми. Выясните, какой шрифт лучше.\n",
    "\n",
    "\n",
    "<h2>\n",
    "    <a name=\"m1\" href=\"#step1\">\n",
    "    Шаг 1. Откройте файл с данными и изучите общую информацию\n",
    "    </a>\n",
    "</h2>\n",
    "\n",
    "<a href=\"#step1\">Файл с данными</a>\n",
    "<!-- -->\n",
    "\n",
    "<h2>\n",
    "    <a name=\"m2\" href=\"#step2\">\n",
    "    Шаг 2. Подготовьте данные\n",
    "    </a>    \n",
    "</h2>\n",
    "<ol>\n",
    "    <li>\n",
    "        <a href=\"#step2_1\">Замените названия столбцов на удобные для вас;</a>\n",
    "    </li>\n",
    "    <li>\n",
    "        <a href=\"#step2_2\">Проверьте пропуски и типы данных. Откорректируйте, если нужно;</a>\n",
    "        <a href=\"#step2_2_1\">Вывод</a>\n",
    "    </li>\n",
    "    <li>\n",
    "        <a href=\"#step2_3\">Добавьте столбец даты и времени, а также отдельный столбец дат.В</a>\n",
    "    </li>\n",
    "</ol>\n",
    "<!-- -->\n",
    "\n",
    "<h2>\n",
    "    <a name=\"m3\" href=\"#step3\">\n",
    "    Шаг 3. Изучите и проверьте данные\n",
    "    </a>\n",
    "</h2>\n",
    "<ol>\n",
    "    <li><a href=\"#step3_1\">Сколько всего событий в логе?</a></li>\n",
    "    <li><a href=\"#step3_2\">Сколько всего пользователей в логе?</a></li>\n",
    "    <li><a href=\"#step3_3\">Сколько в среднем событий приходится на пользователя?</a></li>\n",
    "    <li>\n",
    "        <a href=\"#step3_4\">Данными за какой период вы располагаете?</a> \n",
    "        <ol>\n",
    "            <li><a href=\"#step3_4_A\">Найдите максимальную и минимальную дату.</a></li>\n",
    "            <li><a href=\"#step3_4_B\">Постройте гистограмму по дате и времени.</a></li>\n",
    "            <li><a href=\"#step3_4_C\">Можно ли быть уверенным, что у вас одинаково полные данные за весь период?</a></li>\n",
    "            <li><a href=\"#step3_4_D\">Технически в логи новых дней по некоторым пользователям могут «доезжать» \n",
    "                события из прошлого — это может «перекашивать данные». \n",
    "                Определите, с какого момента данные полные и отбросьте более старые.</a></li>\n",
    "            <li><a href=\"#step3_4_E\">Данными за какой период времени вы располагаете на самом деле?</a></li>\n",
    "        </ol>\n",
    "    </li>\n",
    "    <li><a href=\"#step3_5\">Много ли событий и пользователей вы потеряли, отбросив старые данные?</a></li>\n",
    "    <li><a href=\"#step3_6\">Проверьте, что у вас есть пользователи из всех трёх экспериментальных групп.</a> \n",
    "</ol>\n",
    "<!-- -->\n",
    "\n",
    "<h2>\n",
    "    <a name=\"m4\" href=\"#step4\">\n",
    "    Шаг 4. Изучите воронку событий\n",
    "    </a>\n",
    "</h2>\n",
    "\n",
    "<ol>\n",
    "    <li>\n",
    "        <a href=\"#step4_1\">Посмотрите, какие события есть в логах, как часто они встречаются.\n",
    "        Отсортируйте события по частоте.</a>\n",
    "    </li>\n",
    "    <li>\n",
    "        <a href=\"#step4_2_1\">Посчитайте, сколько пользователей совершали каждое из этих событий. \n",
    "        Отсортируйте события по числу пользователей.</a>\n",
    "        <a href=\"#step4_2_2\">Посчитайте долю пользователей, которые хоть раз совершали событие.</a>\n",
    "    </li>\n",
    "    <li>\n",
    "        <a href=\"#step4_3\">\n",
    "        Предположите, в каком порядке происходят события. Все ли они выстраиваются в последовательную цепочку? Их не нужно учитывать при расчёте воронки.\n",
    "        </a>\n",
    "    </li>\n",
    "    <li>\n",
    "        <a href=\"#step4_4\">По воронке событий посчитайте, какая доля пользователей проходит на следующий шаг воронки (от числа пользователей на предыдущем). То есть для последовательности событий A → B → C, посчитайте отношение числа пользователей с событием B к количеству пользователей с событием A.</a>\n",
    "    </li>\n",
    "    <li>\n",
    "        <a href=\"#step4_5\">На каком шаге теряете больше всего пользователей?</a>\n",
    "    </li>\n",
    "    <li>\n",
    "        <a href=\"#step4_6\">Какая доля пользователей доходит от первого события до оплаты?</a>\n",
    "    </li>\n",
    "</ol>\n",
    "<!-- -->\n",
    "\n",
    "<h2>\n",
    "    <a name=\"m5\" href=\"#step5\">\n",
    "    Шаг 5. Изучите результаты эксперимента\n",
    "    </a>\n",
    "</h2>\n",
    "    <ol>\n",
    "        <li>\n",
    "            <a href=\"#step5_1\">Сколько пользователей в каждой экспериментальной группе?</a>\n",
    "        </li>\n",
    "        <li>\n",
    "            <a href=\"#step5_2\">\n",
    "                Есть 2 контрольные группы для А/А-эксперимента, чтобы проверить корректность всех механизмов и расчётов.\n",
    "                Проверьте, находят ли статистические критерии разницу между выборками 246 и 247:\n",
    "            </a>\n",
    "            <ol>\n",
    "                <li>\n",
    "                    <a href=\"#step5_2_a\">Выберите самое популярное событие.</a>\n",
    "                </li>\n",
    "                <li>\n",
    "                    <a href=\"#step5_2_b\">\n",
    "                        Посчитайте число пользователей, совершивших это событие в каждой из контрольных групп.\n",
    "                    </a>\n",
    "                </li>\n",
    "                <li>\n",
    "                    <a href=\"#step5_2_c\">\n",
    "                        Посчитайте долю пользователей, совершивших это событие.\n",
    "                    </a>\n",
    "                </li>\n",
    "                <li>\n",
    "                    <a href=\"#step5_2_d\">\n",
    "                        Проверьте, будет ли отличие между группами статистически достоверным.\n",
    "                    </a>\n",
    "                </li>\n",
    "                <li>\n",
    "                    <a href=\"#step5_2_e\">\n",
    "                        Проделайте то же самое для всех других событий (удобно обернуть проверку в отдельную функцию).\n",
    "                    </a>\n",
    "                </li>\n",
    "                <li>\n",
    "                    <a href=\"#step5_2_f\">\n",
    "                        Можно ли сказать, что разбиение на группы работает корректно?\n",
    "                    </a>\n",
    "                </li>\n",
    "            </ol>\n",
    "        </li>\n",
    "        <li>\n",
    "            <a href=\"#step5_3\">\n",
    "            Аналогично поступите с группой с изменённым шрифтом.\n",
    "            </a>\n",
    "            <ol>\n",
    "                <li>\n",
    "                    <a href=\"#step5_3_a\">\n",
    "                        Сравните результаты с каждой из контрольных групп в отдельности по каждому событию.\n",
    "                    </a>\n",
    "                </li>\n",
    "                <li>\n",
    "                    <a href=\"#step5_3_b\">\n",
    "                        Сравните результаты с объединённой контрольной группой. Какие выводы из эксперимента можно сделать?\n",
    "                    </a>\n",
    "                </li>\n",
    "            </ol>\n",
    "        </li>\n",
    "        <li>\n",
    "            <a href=\"#step5_4\">\n",
    "                Какой уровень значимости вы выбрали при проверке статистических гипотез выше?\n",
    "            </a>\n",
    "        </li> \n",
    "        <li>\n",
    "            <a href=\"#step5_5\">\n",
    "                Посчитайте, сколько проверок статистических гипотез вы сделали.\n",
    "            </a>\n",
    "            <ol>        \n",
    "                <li>\n",
    "                    <a href=\"#step5_5_a\">\n",
    "                        При уровне значимости 0.1 каждый десятый раз можно получать ложный результат. \n",
    "                        Какой уровень значимости стоит применить?\n",
    "                    </a>\n",
    "                </li>\n",
    "                <li>\n",
    "                    <a href=\"#step5_5_b\">\n",
    "                        Если вы хотите изменить его, проделайте предыдущие пункты и проверьте свои выводы.\n",
    "                    </a>\n",
    "                </li>\n",
    "            </ol>\n",
    "        </li>\n",
    "    <ol>"
   ]
  },
  {
   "cell_type": "code",
   "execution_count": 1,
   "metadata": {},
   "outputs": [],
   "source": [
    "# Импорт модулей\n",
    "import ipywidgets\n",
    "import pandas as pd\n",
    "import math as mth\n",
    "import numpy as np\n",
    "from scipy import stats as st\n",
    "import plotly.express as px\n",
    "import plotly.graph_objects as go\n",
    "import seaborn as sns\n",
    "sns.set(color_codes=True)\n",
    "import matplotlib as plt\n",
    "pd.plotting.register_matplotlib_converters()\n",
    "import datetime as dt\n",
    "from datetime import datetime"
   ]
  },
  {
   "cell_type": "markdown",
   "metadata": {},
   "source": [
    "<a href=\"#m1\">Наверх</a>\n",
    "\n",
    "<h2>\n",
    "    <a name=\"step1\">Шаг 1. Откройте файл</a>\n",
    "</h2>"
   ]
  },
  {
   "cell_type": "code",
   "execution_count": 2,
   "metadata": {
    "scrolled": true
   },
   "outputs": [
    {
     "data": {
      "text/html": [
       "<div>\n",
       "<style scoped>\n",
       "    .dataframe tbody tr th:only-of-type {\n",
       "        vertical-align: middle;\n",
       "    }\n",
       "\n",
       "    .dataframe tbody tr th {\n",
       "        vertical-align: top;\n",
       "    }\n",
       "\n",
       "    .dataframe thead th {\n",
       "        text-align: right;\n",
       "    }\n",
       "</style>\n",
       "<table border=\"1\" class=\"dataframe\">\n",
       "  <thead>\n",
       "    <tr style=\"text-align: right;\">\n",
       "      <th></th>\n",
       "      <th>EventName</th>\n",
       "      <th>DeviceIDHash</th>\n",
       "      <th>EventTimestamp</th>\n",
       "      <th>ExpId</th>\n",
       "    </tr>\n",
       "  </thead>\n",
       "  <tbody>\n",
       "    <tr>\n",
       "      <th>0</th>\n",
       "      <td>MainScreenAppear</td>\n",
       "      <td>4575588528974610257</td>\n",
       "      <td>1564029816</td>\n",
       "      <td>246</td>\n",
       "    </tr>\n",
       "    <tr>\n",
       "      <th>1</th>\n",
       "      <td>MainScreenAppear</td>\n",
       "      <td>7416695313311560658</td>\n",
       "      <td>1564053102</td>\n",
       "      <td>246</td>\n",
       "    </tr>\n",
       "    <tr>\n",
       "      <th>2</th>\n",
       "      <td>PaymentScreenSuccessful</td>\n",
       "      <td>3518123091307005509</td>\n",
       "      <td>1564054127</td>\n",
       "      <td>248</td>\n",
       "    </tr>\n",
       "    <tr>\n",
       "      <th>3</th>\n",
       "      <td>CartScreenAppear</td>\n",
       "      <td>3518123091307005509</td>\n",
       "      <td>1564054127</td>\n",
       "      <td>248</td>\n",
       "    </tr>\n",
       "    <tr>\n",
       "      <th>4</th>\n",
       "      <td>PaymentScreenSuccessful</td>\n",
       "      <td>6217807653094995999</td>\n",
       "      <td>1564055322</td>\n",
       "      <td>248</td>\n",
       "    </tr>\n",
       "    <tr>\n",
       "      <th>...</th>\n",
       "      <td>...</td>\n",
       "      <td>...</td>\n",
       "      <td>...</td>\n",
       "      <td>...</td>\n",
       "    </tr>\n",
       "    <tr>\n",
       "      <th>244121</th>\n",
       "      <td>MainScreenAppear</td>\n",
       "      <td>4599628364049201812</td>\n",
       "      <td>1565212345</td>\n",
       "      <td>247</td>\n",
       "    </tr>\n",
       "    <tr>\n",
       "      <th>244122</th>\n",
       "      <td>MainScreenAppear</td>\n",
       "      <td>5849806612437486590</td>\n",
       "      <td>1565212439</td>\n",
       "      <td>246</td>\n",
       "    </tr>\n",
       "    <tr>\n",
       "      <th>244123</th>\n",
       "      <td>MainScreenAppear</td>\n",
       "      <td>5746969938801999050</td>\n",
       "      <td>1565212483</td>\n",
       "      <td>246</td>\n",
       "    </tr>\n",
       "    <tr>\n",
       "      <th>244124</th>\n",
       "      <td>MainScreenAppear</td>\n",
       "      <td>5746969938801999050</td>\n",
       "      <td>1565212498</td>\n",
       "      <td>246</td>\n",
       "    </tr>\n",
       "    <tr>\n",
       "      <th>244125</th>\n",
       "      <td>OffersScreenAppear</td>\n",
       "      <td>5746969938801999050</td>\n",
       "      <td>1565212517</td>\n",
       "      <td>246</td>\n",
       "    </tr>\n",
       "  </tbody>\n",
       "</table>\n",
       "<p>244126 rows × 4 columns</p>\n",
       "</div>"
      ],
      "text/plain": [
       "                      EventName         DeviceIDHash  EventTimestamp  ExpId\n",
       "0              MainScreenAppear  4575588528974610257      1564029816    246\n",
       "1              MainScreenAppear  7416695313311560658      1564053102    246\n",
       "2       PaymentScreenSuccessful  3518123091307005509      1564054127    248\n",
       "3              CartScreenAppear  3518123091307005509      1564054127    248\n",
       "4       PaymentScreenSuccessful  6217807653094995999      1564055322    248\n",
       "...                         ...                  ...             ...    ...\n",
       "244121         MainScreenAppear  4599628364049201812      1565212345    247\n",
       "244122         MainScreenAppear  5849806612437486590      1565212439    246\n",
       "244123         MainScreenAppear  5746969938801999050      1565212483    246\n",
       "244124         MainScreenAppear  5746969938801999050      1565212498    246\n",
       "244125       OffersScreenAppear  5746969938801999050      1565212517    246\n",
       "\n",
       "[244126 rows x 4 columns]"
      ]
     },
     "execution_count": 2,
     "metadata": {},
     "output_type": "execute_result"
    }
   ],
   "source": [
    "data = pd.read_csv('logs_exp.csv', sep='\\t')\n",
    "data"
   ]
  },
  {
   "cell_type": "code",
   "execution_count": 3,
   "metadata": {},
   "outputs": [],
   "source": [
    "data.to_csv('logs_exp.csv')"
   ]
  },
  {
   "cell_type": "code",
   "execution_count": 4,
   "metadata": {
    "scrolled": true
   },
   "outputs": [
    {
     "name": "stdout",
     "output_type": "stream",
     "text": [
      "События, присутствющие в датасете:\n",
      " MainScreenAppear\n",
      " PaymentScreenSuccessful\n",
      " CartScreenAppear\n",
      " OffersScreenAppear\n",
      " Tutorial\n"
     ]
    }
   ],
   "source": [
    "# Получим список уникальных значений в столбцах где ожидается количество значений не более одного порядка:\n",
    "data_event_names = list(data['EventName'].unique())\n",
    "print('События, присутствющие в датасете:')\n",
    "for x in range(len(data_event_names)):\n",
    "    print(f' {data_event_names[x]}')"
   ]
  },
  {
   "cell_type": "code",
   "execution_count": 5,
   "metadata": {},
   "outputs": [
    {
     "name": "stdout",
     "output_type": "stream",
     "text": [
      "Группы экспериментов в датасете:\n",
      " 246\n",
      " 248\n",
      " 247\n"
     ]
    }
   ],
   "source": [
    "# То же самое сделаем для экспериментов:\n",
    "data_exp_names = list(data['ExpId'].unique())\n",
    "print('Группы экспериментов в датасете:')\n",
    "for x in range(len(data_exp_names)):\n",
    "    print(f' {data_exp_names[x]}')"
   ]
  },
  {
   "cell_type": "markdown",
   "metadata": {},
   "source": [
    "5 шагов и 3 эксперимента - всё как в описании."
   ]
  },
  {
   "cell_type": "markdown",
   "metadata": {},
   "source": [
    "---\n",
    "<a href=\"#m2\">Наверх</a>\n",
    "\n",
    "<h2>\n",
    "    <a name=\"step2\">Шаг 2. Подготовьте данные</a>\n",
    "</h2>\n",
    "\n",
    "<h3><a name=\"step2_1\">Замените названия столбцов на удобные для вас;</a></h3>"
   ]
  },
  {
   "cell_type": "code",
   "execution_count": 7,
   "metadata": {},
   "outputs": [
    {
     "data": {
      "text/plain": [
       "Index(['eventname', 'deviceidhash', 'eventtimestamp', 'expid'], dtype='object')"
      ]
     },
     "execution_count": 7,
     "metadata": {},
     "output_type": "execute_result"
    }
   ],
   "source": [
    "# Посмотрим на заголовки в нижнем регистре\n",
    "data.columns = [i.lower() for i in data.columns]\n",
    "data.columns"
   ]
  },
  {
   "cell_type": "code",
   "execution_count": 8,
   "metadata": {
    "scrolled": true
   },
   "outputs": [
    {
     "data": {
      "text/plain": [
       "Index(['event', 'device_id', 'event_time', 'exp_id'], dtype='object')"
      ]
     },
     "execution_count": 8,
     "metadata": {},
     "output_type": "execute_result"
    }
   ],
   "source": [
    "# Переименуем:\n",
    "data.columns = ['event', 'device_id', 'event_time', 'exp_id']\n",
    "data.columns"
   ]
  },
  {
   "cell_type": "markdown",
   "metadata": {},
   "source": [
    "---\n",
    "<a href=\"#m2\">Наверх</a>\n",
    "\n",
    "<h3><a name=\"step2_2\">Проверьте пропуски и типы данных. Откорректируйте, если нужно;</a></h3>"
   ]
  },
  {
   "cell_type": "code",
   "execution_count": 9,
   "metadata": {},
   "outputs": [
    {
     "data": {
      "text/plain": [
       "event         0\n",
       "device_id     0\n",
       "event_time    0\n",
       "exp_id        0\n",
       "dtype: int64"
      ]
     },
     "execution_count": 9,
     "metadata": {},
     "output_type": "execute_result"
    }
   ],
   "source": [
    "# Проверим на пропуски:\n",
    "data.isna().sum()"
   ]
  },
  {
   "cell_type": "code",
   "execution_count": 10,
   "metadata": {},
   "outputs": [
    {
     "name": "stdout",
     "output_type": "stream",
     "text": [
      "Количество дубликатов: 413\n"
     ]
    }
   ],
   "source": [
    "# Проверим на дубликаты:\n",
    "print(f'Количество дубликатов: {data.duplicated().sum()}')\n",
    "# Уберём их:\n",
    "data.drop_duplicates(inplace=True)"
   ]
  },
  {
   "cell_type": "code",
   "execution_count": 11,
   "metadata": {},
   "outputs": [
    {
     "name": "stdout",
     "output_type": "stream",
     "text": [
      "<class 'pandas.core.frame.DataFrame'>\n",
      "Int64Index: 243713 entries, 0 to 244125\n",
      "Data columns (total 4 columns):\n",
      " #   Column      Non-Null Count   Dtype \n",
      "---  ------      --------------   ----- \n",
      " 0   event       243713 non-null  object\n",
      " 1   device_id   243713 non-null  int64 \n",
      " 2   event_time  243713 non-null  int64 \n",
      " 3   exp_id      243713 non-null  int64 \n",
      "dtypes: int64(3), object(1)\n",
      "memory usage: 9.3+ MB\n"
     ]
    }
   ],
   "source": [
    "# Проверим типы данных:\n",
    "data.info()"
   ]
  },
  {
   "cell_type": "code",
   "execution_count": 12,
   "metadata": {
    "scrolled": true
   },
   "outputs": [],
   "source": [
    "# Преобразуем event_time из int в datetime:\n",
    "data['event_time'] = data['event_time'].apply(dt.datetime.fromtimestamp)"
   ]
  },
  {
   "cell_type": "markdown",
   "metadata": {},
   "source": [
    "<font color=green> Отлично!               </font>"
   ]
  },
  {
   "cell_type": "markdown",
   "metadata": {},
   "source": [
    "<a href=\"#m2\">Наверх</a>\n",
    "\n",
    "<h3><a name=\"step2_2_1\">Вывод</a></h3>\n",
    "\n",
    "Переименовали названия столбцов, убрали дубликаты, преобразовали целочисленный timestamp в datetime. \n",
    "\n",
    "\n",
    "---\n",
    "<a href=\"#m2\">Наверх</a>\n",
    "\n",
    "<h3><a name=\"step2_3\">Добавьте столбец даты и времени, а также отдельный столбец дат</a></h3>"
   ]
  },
  {
   "cell_type": "code",
   "execution_count": 13,
   "metadata": {
    "scrolled": false
   },
   "outputs": [
    {
     "data": {
      "text/html": [
       "<div>\n",
       "<style scoped>\n",
       "    .dataframe tbody tr th:only-of-type {\n",
       "        vertical-align: middle;\n",
       "    }\n",
       "\n",
       "    .dataframe tbody tr th {\n",
       "        vertical-align: top;\n",
       "    }\n",
       "\n",
       "    .dataframe thead th {\n",
       "        text-align: right;\n",
       "    }\n",
       "</style>\n",
       "<table border=\"1\" class=\"dataframe\">\n",
       "  <thead>\n",
       "    <tr style=\"text-align: right;\">\n",
       "      <th></th>\n",
       "      <th>event</th>\n",
       "      <th>device_id</th>\n",
       "      <th>event_time</th>\n",
       "      <th>exp_id</th>\n",
       "      <th>date</th>\n",
       "      <th>date_time</th>\n",
       "    </tr>\n",
       "  </thead>\n",
       "  <tbody>\n",
       "    <tr>\n",
       "      <th>0</th>\n",
       "      <td>MainScreenAppear</td>\n",
       "      <td>4575588528974610257</td>\n",
       "      <td>2019-07-25 07:43:36</td>\n",
       "      <td>246</td>\n",
       "      <td>2019-07-25</td>\n",
       "      <td>2019-07-25 07:43:36</td>\n",
       "    </tr>\n",
       "    <tr>\n",
       "      <th>1</th>\n",
       "      <td>MainScreenAppear</td>\n",
       "      <td>7416695313311560658</td>\n",
       "      <td>2019-07-25 14:11:42</td>\n",
       "      <td>246</td>\n",
       "      <td>2019-07-25</td>\n",
       "      <td>2019-07-25 14:11:42</td>\n",
       "    </tr>\n",
       "    <tr>\n",
       "      <th>2</th>\n",
       "      <td>PaymentScreenSuccessful</td>\n",
       "      <td>3518123091307005509</td>\n",
       "      <td>2019-07-25 14:28:47</td>\n",
       "      <td>248</td>\n",
       "      <td>2019-07-25</td>\n",
       "      <td>2019-07-25 14:28:47</td>\n",
       "    </tr>\n",
       "    <tr>\n",
       "      <th>3</th>\n",
       "      <td>CartScreenAppear</td>\n",
       "      <td>3518123091307005509</td>\n",
       "      <td>2019-07-25 14:28:47</td>\n",
       "      <td>248</td>\n",
       "      <td>2019-07-25</td>\n",
       "      <td>2019-07-25 14:28:47</td>\n",
       "    </tr>\n",
       "    <tr>\n",
       "      <th>4</th>\n",
       "      <td>PaymentScreenSuccessful</td>\n",
       "      <td>6217807653094995999</td>\n",
       "      <td>2019-07-25 14:48:42</td>\n",
       "      <td>248</td>\n",
       "      <td>2019-07-25</td>\n",
       "      <td>2019-07-25 14:48:42</td>\n",
       "    </tr>\n",
       "  </tbody>\n",
       "</table>\n",
       "</div>"
      ],
      "text/plain": [
       "                     event            device_id          event_time  exp_id  \\\n",
       "0         MainScreenAppear  4575588528974610257 2019-07-25 07:43:36     246   \n",
       "1         MainScreenAppear  7416695313311560658 2019-07-25 14:11:42     246   \n",
       "2  PaymentScreenSuccessful  3518123091307005509 2019-07-25 14:28:47     248   \n",
       "3         CartScreenAppear  3518123091307005509 2019-07-25 14:28:47     248   \n",
       "4  PaymentScreenSuccessful  6217807653094995999 2019-07-25 14:48:42     248   \n",
       "\n",
       "         date           date_time  \n",
       "0  2019-07-25 2019-07-25 07:43:36  \n",
       "1  2019-07-25 2019-07-25 14:11:42  \n",
       "2  2019-07-25 2019-07-25 14:28:47  \n",
       "3  2019-07-25 2019-07-25 14:28:47  \n",
       "4  2019-07-25 2019-07-25 14:48:42  "
      ]
     },
     "execution_count": 13,
     "metadata": {},
     "output_type": "execute_result"
    }
   ],
   "source": [
    "# Столбец даты:\n",
    "data['date'] = data['event_time'].dt.date\n",
    "data['date_time'] = pd.to_datetime(data['event_time'])\n",
    "data.head()"
   ]
  },
  {
   "cell_type": "markdown",
   "metadata": {},
   "source": [
    "---\n",
    "<a href=\"#m3\">Наверх</a>\n",
    "\n",
    "<h2>\n",
    "    <a name=\"step3\">Шаг 3. Изучите и проверьте данные</a>\n",
    "</h2>\n",
    "\n",
    "\n",
    "\n",
    "<a href=\"#m3\">Наверх</a>\n",
    "\n",
    "<h3><a name=\"step3_1\">1. Сколько всего событий в логе?</h3>"
   ]
  },
  {
   "cell_type": "code",
   "execution_count": 14,
   "metadata": {
    "scrolled": false
   },
   "outputs": [
    {
     "name": "stdout",
     "output_type": "stream",
     "text": [
      "Всего логов в датасете: 243713\n"
     ]
    }
   ],
   "source": [
    "total_log_count = data['event'].count()\n",
    "print(f'Всего логов в датасете: {total_log_count}')"
   ]
  },
  {
   "cell_type": "markdown",
   "metadata": {},
   "source": [
    "---\n",
    "<a href=\"#m3\">Наверх</a>\n",
    "\n",
    "<h3><a name=\"step3_2\">2. Сколько всего пользователей в логе?</a></h3>"
   ]
  },
  {
   "cell_type": "code",
   "execution_count": 15,
   "metadata": {},
   "outputs": [
    {
     "name": "stdout",
     "output_type": "stream",
     "text": [
      "Всего пользователей в датасете: 7551\n"
     ]
    }
   ],
   "source": [
    "total_unique_user_count = data['device_id'].agg({'device_id':'nunique'})[0]\n",
    "print(f'Всего пользователей в датасете: {total_unique_user_count}')"
   ]
  },
  {
   "cell_type": "markdown",
   "metadata": {},
   "source": [
    "---\n",
    "<a href=\"#m3\">Наверх</a>\n",
    "\n",
    "<h3><a name=\"step3_3\">3. Сколько в среднем событий приходится на пользователя?</a></h3>"
   ]
  },
  {
   "cell_type": "code",
   "execution_count": 21,
   "metadata": {},
   "outputs": [],
   "source": [
    "average_events_per_user = int(round(data.groupby('device_id', as_index=False).agg({'event':'count'})['event'].mean(),1))"
   ]
  },
  {
   "cell_type": "code",
   "execution_count": 22,
   "metadata": {},
   "outputs": [
    {
     "name": "stdout",
     "output_type": "stream",
     "text": [
      "В среднем на пользователя приходится 32 события.\n"
     ]
    }
   ],
   "source": [
    "# Ответим на вопрос:\n",
    "print(f'В среднем на пользователя приходится {average_events_per_user} события.')\n",
    "\n",
    "# Посмотрим количество событий на пользователя на на графике, для этого создадим функцию:\n",
    "def make_events_graph(range_from, range_to):\n",
    "    plt.pyplot.figure(figsize=(18, 8))\n",
    "    # Цикл для добавления добавления гистограм на график:\n",
    "    \n",
    "    for experiment in list(data['exp_id'].unique()):\n",
    "            data_exp = data[data['exp_id'] == experiment]\n",
    "            if range_from is not None or range_to is not None:    \n",
    "                num_of_events = data_exp.groupby(['device_id'],\n",
    "                                                 as_index=False)\\\n",
    "                                                 .agg({'event':'count'})['event'].hist(bins=200,\n",
    "                                                                                       alpha=0.3, \n",
    "                                                                                       range=(range_from, range_to))\n",
    "            else:\n",
    "                num_of_events = data_exp.groupby(['device_id'],\n",
    "                                                 as_index=False)\\\n",
    "                                                 .agg({'event':'count'})['event'].hist(bins=200,\n",
    "                                                                                       alpha=0.3)\n",
    "    plt.pyplot.legend((246, 247, 248))\n",
    "    # Добавим подписи: \n",
    "    plt.pyplot.xlabel('Количество событий')\n",
    "    plt.pyplot.ylabel('Количество пользователей')\n",
    "    plt.pyplot.title('Количество событий на пользователя');"
   ]
  },
  {
   "cell_type": "code",
   "execution_count": 23,
   "metadata": {
    "scrolled": false
   },
   "outputs": [
    {
     "data": {
      "image/png": "[encoded data removed]",
      "text/plain": [
       "<Figure size 1296x576 with 1 Axes>"
      ]
     },
     "metadata": {},
     "output_type": "display_data"
    }
   ],
   "source": [
    "make_events_graph(None, None)"
   ]
  },
  {
   "cell_type": "markdown",
   "metadata": {},
   "source": [
    "В таком масштабе сложно оценить реальные показатели. Требуется очистка от выбросов. Оценим где проходит граница 95 и 99 перцентилей:"
   ]
  },
  {
   "cell_type": "markdown",
   "metadata": {},
   "source": [
    "<font color=green> Верное решение.             </font>"
   ]
  },
  {
   "cell_type": "code",
   "execution_count": 24,
   "metadata": {},
   "outputs": [
    {
     "data": {
      "text/plain": [
       "'Граница на каждую перцентиль: [(75, 37), (95, 89), (99, 200), (99.5, 270)]'"
      ]
     },
     "metadata": {},
     "output_type": "display_data"
    }
   ],
   "source": [
    "# Сгруппируем data чтобы подготовить датасет для оценки:\n",
    "data_exp_grouped = data.groupby(['device_id']).agg({'exp_id':'count'}).reset_index(0)\n",
    "percetiles_list = [75, 95, 99, 99.5]\n",
    "# Посчитаем перцентили:\n",
    "num_of_events = np.percentile(data_exp_grouped['exp_id'], percetiles_list)\n",
    "num_of_events = [int(x) for x in num_of_events]\n",
    "final_list = [(percetiles_list[i], num_of_events[i]) for i in range(0, len(num_of_events))]\n",
    "display(f'Граница на каждую перцентиль: {final_list}')"
   ]
  },
  {
   "cell_type": "code",
   "execution_count": 25,
   "metadata": {},
   "outputs": [
    {
     "data": {
      "text/plain": [
       "count    7551.0\n",
       "mean       32.3\n",
       "std        65.2\n",
       "min         1.0\n",
       "25%         9.0\n",
       "50%        20.0\n",
       "75%        37.0\n",
       "max      2307.0\n",
       "Name: exp_id, dtype: float64"
      ]
     },
     "metadata": {},
     "output_type": "display_data"
    }
   ],
   "source": [
    "# И посмотрим на описание данных:\n",
    "display(data_exp_grouped['exp_id'].describe().round(1))"
   ]
  },
  {
   "cell_type": "code",
   "execution_count": 26,
   "metadata": {},
   "outputs": [
    {
     "name": "stdout",
     "output_type": "stream",
     "text": [
      "При границе на 75 перцентили не будет рассмотрено    64.6% данных от исходного датасета\n",
      "При границе на 95 перцентили не будет рассмотрено    29.6% данных от исходного датасета\n",
      "При границе на 99 перцентили не будет рассмотрено    14.1% данных от исходного датасета\n",
      "При границе на 99.5 перцентили не будет рассмотрено    10.6% данных от исходного датасета\n"
     ]
    }
   ],
   "source": [
    "# Напишем цикл который выведет какое количество строк в датафрейме data будет исключено, если сделать срез по разным перцентилям:\n",
    "for i in final_list:    \n",
    "    to_print = data_exp_grouped[data_exp_grouped['exp_id'] >= i[0]].shape[0]\n",
    "    data_to_exclude = data_exp_grouped[data_exp_grouped['exp_id'] >= i[1]]['device_id']\n",
    "    data_new = data[data['device_id'].isin(data_to_exclude)].shape[0]\n",
    "    print(f'При границе на {i[0]} перцентили не будет рассмотрено\\\n",
    "    {round(((data_new / data.shape[0]) * 100),1)}% данных от исходного датасета')"
   ]
  },
  {
   "cell_type": "markdown",
   "metadata": {},
   "source": [
    "0.5% пользователей, хотя и являются незначительной границей, однако, это даёт целых 10,6% данных – это значительная потеря. Условно, для отсечения более 10% нужны крайне веские аргументы, которые пока что отсутствуют."
   ]
  },
  {
   "cell_type": "markdown",
   "metadata": {},
   "source": [
    "<font color=green>Верное замечание.          </font>"
   ]
  },
  {
   "cell_type": "code",
   "execution_count": 27,
   "metadata": {},
   "outputs": [
    {
     "data": {
      "image/png": "[encoded data removed]",
      "text/plain": [
       "<Figure size 1296x576 with 1 Axes>"
      ]
     },
     "metadata": {},
     "output_type": "display_data"
    }
   ],
   "source": [
    "# Снова построим график, но уже по новой границе:\n",
    "make_events_graph(0, 270)"
   ]
  },
  {
   "cell_type": "markdown",
   "metadata": {},
   "source": [
    "Судя по данным, срез 0,5% данных будет означать, что мы отсечём всех пользователей, которые совершили больше определённого количества действий. Урежем исходные данные:"
   ]
  },
  {
   "cell_type": "code",
   "execution_count": 28,
   "metadata": {},
   "outputs": [
    {
     "data": {
      "text/html": [
       "<div>\n",
       "<style scoped>\n",
       "    .dataframe tbody tr th:only-of-type {\n",
       "        vertical-align: middle;\n",
       "    }\n",
       "\n",
       "    .dataframe tbody tr th {\n",
       "        vertical-align: top;\n",
       "    }\n",
       "\n",
       "    .dataframe thead th {\n",
       "        text-align: right;\n",
       "    }\n",
       "</style>\n",
       "<table border=\"1\" class=\"dataframe\">\n",
       "  <thead>\n",
       "    <tr style=\"text-align: right;\">\n",
       "      <th></th>\n",
       "      <th>event</th>\n",
       "      <th>device_id</th>\n",
       "      <th>event_time</th>\n",
       "      <th>exp_id</th>\n",
       "      <th>date</th>\n",
       "      <th>date_time</th>\n",
       "    </tr>\n",
       "  </thead>\n",
       "  <tbody>\n",
       "    <tr>\n",
       "      <th>0</th>\n",
       "      <td>MainScreenAppear</td>\n",
       "      <td>4575588528974610257</td>\n",
       "      <td>2019-07-25 07:43:36</td>\n",
       "      <td>246</td>\n",
       "      <td>2019-07-25</td>\n",
       "      <td>2019-07-25 07:43:36</td>\n",
       "    </tr>\n",
       "    <tr>\n",
       "      <th>1</th>\n",
       "      <td>MainScreenAppear</td>\n",
       "      <td>7416695313311560658</td>\n",
       "      <td>2019-07-25 14:11:42</td>\n",
       "      <td>246</td>\n",
       "      <td>2019-07-25</td>\n",
       "      <td>2019-07-25 14:11:42</td>\n",
       "    </tr>\n",
       "    <tr>\n",
       "      <th>2</th>\n",
       "      <td>PaymentScreenSuccessful</td>\n",
       "      <td>3518123091307005509</td>\n",
       "      <td>2019-07-25 14:28:47</td>\n",
       "      <td>248</td>\n",
       "      <td>2019-07-25</td>\n",
       "      <td>2019-07-25 14:28:47</td>\n",
       "    </tr>\n",
       "    <tr>\n",
       "      <th>3</th>\n",
       "      <td>CartScreenAppear</td>\n",
       "      <td>3518123091307005509</td>\n",
       "      <td>2019-07-25 14:28:47</td>\n",
       "      <td>248</td>\n",
       "      <td>2019-07-25</td>\n",
       "      <td>2019-07-25 14:28:47</td>\n",
       "    </tr>\n",
       "    <tr>\n",
       "      <th>4</th>\n",
       "      <td>PaymentScreenSuccessful</td>\n",
       "      <td>6217807653094995999</td>\n",
       "      <td>2019-07-25 14:48:42</td>\n",
       "      <td>248</td>\n",
       "      <td>2019-07-25</td>\n",
       "      <td>2019-07-25 14:48:42</td>\n",
       "    </tr>\n",
       "    <tr>\n",
       "      <th>...</th>\n",
       "      <td>...</td>\n",
       "      <td>...</td>\n",
       "      <td>...</td>\n",
       "      <td>...</td>\n",
       "      <td>...</td>\n",
       "      <td>...</td>\n",
       "    </tr>\n",
       "    <tr>\n",
       "      <th>244121</th>\n",
       "      <td>MainScreenAppear</td>\n",
       "      <td>4599628364049201812</td>\n",
       "      <td>2019-08-08 00:12:25</td>\n",
       "      <td>247</td>\n",
       "      <td>2019-08-08</td>\n",
       "      <td>2019-08-08 00:12:25</td>\n",
       "    </tr>\n",
       "    <tr>\n",
       "      <th>244122</th>\n",
       "      <td>MainScreenAppear</td>\n",
       "      <td>5849806612437486590</td>\n",
       "      <td>2019-08-08 00:13:59</td>\n",
       "      <td>246</td>\n",
       "      <td>2019-08-08</td>\n",
       "      <td>2019-08-08 00:13:59</td>\n",
       "    </tr>\n",
       "    <tr>\n",
       "      <th>244123</th>\n",
       "      <td>MainScreenAppear</td>\n",
       "      <td>5746969938801999050</td>\n",
       "      <td>2019-08-08 00:14:43</td>\n",
       "      <td>246</td>\n",
       "      <td>2019-08-08</td>\n",
       "      <td>2019-08-08 00:14:43</td>\n",
       "    </tr>\n",
       "    <tr>\n",
       "      <th>244124</th>\n",
       "      <td>MainScreenAppear</td>\n",
       "      <td>5746969938801999050</td>\n",
       "      <td>2019-08-08 00:14:58</td>\n",
       "      <td>246</td>\n",
       "      <td>2019-08-08</td>\n",
       "      <td>2019-08-08 00:14:58</td>\n",
       "    </tr>\n",
       "    <tr>\n",
       "      <th>244125</th>\n",
       "      <td>OffersScreenAppear</td>\n",
       "      <td>5746969938801999050</td>\n",
       "      <td>2019-08-08 00:15:17</td>\n",
       "      <td>246</td>\n",
       "      <td>2019-08-08</td>\n",
       "      <td>2019-08-08 00:15:17</td>\n",
       "    </tr>\n",
       "  </tbody>\n",
       "</table>\n",
       "<p>217812 rows × 6 columns</p>\n",
       "</div>"
      ],
      "text/plain": [
       "                          event            device_id          event_time  \\\n",
       "0              MainScreenAppear  4575588528974610257 2019-07-25 07:43:36   \n",
       "1              MainScreenAppear  7416695313311560658 2019-07-25 14:11:42   \n",
       "2       PaymentScreenSuccessful  3518123091307005509 2019-07-25 14:28:47   \n",
       "3              CartScreenAppear  3518123091307005509 2019-07-25 14:28:47   \n",
       "4       PaymentScreenSuccessful  6217807653094995999 2019-07-25 14:48:42   \n",
       "...                         ...                  ...                 ...   \n",
       "244121         MainScreenAppear  4599628364049201812 2019-08-08 00:12:25   \n",
       "244122         MainScreenAppear  5849806612437486590 2019-08-08 00:13:59   \n",
       "244123         MainScreenAppear  5746969938801999050 2019-08-08 00:14:43   \n",
       "244124         MainScreenAppear  5746969938801999050 2019-08-08 00:14:58   \n",
       "244125       OffersScreenAppear  5746969938801999050 2019-08-08 00:15:17   \n",
       "\n",
       "        exp_id        date           date_time  \n",
       "0          246  2019-07-25 2019-07-25 07:43:36  \n",
       "1          246  2019-07-25 2019-07-25 14:11:42  \n",
       "2          248  2019-07-25 2019-07-25 14:28:47  \n",
       "3          248  2019-07-25 2019-07-25 14:28:47  \n",
       "4          248  2019-07-25 2019-07-25 14:48:42  \n",
       "...        ...         ...                 ...  \n",
       "244121     247  2019-08-08 2019-08-08 00:12:25  \n",
       "244122     246  2019-08-08 2019-08-08 00:13:59  \n",
       "244123     246  2019-08-08 2019-08-08 00:14:43  \n",
       "244124     246  2019-08-08 2019-08-08 00:14:58  \n",
       "244125     246  2019-08-08 2019-08-08 00:15:17  \n",
       "\n",
       "[217812 rows x 6 columns]"
      ]
     },
     "execution_count": 28,
     "metadata": {},
     "output_type": "execute_result"
    }
   ],
   "source": [
    "# Собрерём данные по пользователям:\n",
    "data_to_exclude = data_exp_grouped[data_exp_grouped['exp_id'] >= 270]['device_id']\n",
    "\n",
    "# Урежем датасет:\n",
    "data = data[~data['device_id'].isin(data_to_exclude)]\n",
    "\n",
    "# Выведем его:\n",
    "data"
   ]
  },
  {
   "cell_type": "markdown",
   "metadata": {},
   "source": [
    "---\n",
    "<a href=\"#m3\">Наверх</a>\n",
    "\n",
    "<h3><a name=\"step3_4\">4. Данными за какой период вы располагаете?</a></h3>\n",
    "\n",
    "<h4><a name=\"step3_4_A\">4.A Найдите максимальную и минимальную дату.</a></h4>"
   ]
  },
  {
   "cell_type": "code",
   "execution_count": 31,
   "metadata": {},
   "outputs": [
    {
     "data": {
      "text/plain": [
       "Timestamp('2019-08-08 00:15:17')"
      ]
     },
     "execution_count": 31,
     "metadata": {},
     "output_type": "execute_result"
    }
   ],
   "source": [
    "data['date_time'].max()"
   ]
  },
  {
   "cell_type": "code",
   "execution_count": 30,
   "metadata": {
    "scrolled": true
   },
   "outputs": [
    {
     "data": {
      "text/plain": [
       "Timestamp('2019-07-25 07:43:36')"
      ]
     },
     "execution_count": 30,
     "metadata": {},
     "output_type": "execute_result"
    }
   ],
   "source": [
    "data['date_time'].min()"
   ]
  },
  {
   "cell_type": "markdown",
   "metadata": {},
   "source": [
    "Похоже, что данные номинально есть с 25 июля по 2 августа 2019 года."
   ]
  },
  {
   "cell_type": "markdown",
   "metadata": {},
   "source": [
    "---\n",
    "<a href=\"#m3\">Наверх</a>\n",
    "\n",
    "<h4><a name=\"step3_4_B\">4.В Постройте гистограмму по дате и времени.</a></h4>"
   ]
  },
  {
   "cell_type": "markdown",
   "metadata": {},
   "source": [
    "<font color=green> Красиво. Но тяжело.          </font>"
   ]
  },
  {
   "cell_type": "code",
   "execution_count": 25,
   "metadata": {
    "scrolled": false
   },
   "outputs": [
    {
     "data": {
      "image/png": "[encoded data removed]",
      "text/plain": [
       "<Figure size 1296x576 with 1 Axes>"
      ]
     },
     "metadata": {},
     "output_type": "display_data"
    }
   ],
   "source": [
    "plt.pyplot.figure(figsize=[18,8])\n",
    "data_full_graph = data['date_time'].hist(bins=210);\n",
    "data_full_graph.set_title('Количество событий во всём датасете')\n",
    "data_full_graph.set_ylabel(\"Количество событий\");"
   ]
  },
  {
   "cell_type": "markdown",
   "metadata": {},
   "source": [
    "---\n",
    "<a href=\"#m3\">Наверх</a>\n",
    "\n",
    "<h4><a name=\"step3_4_C\">4.C Можно ли быть уверенным, что у вас одинаково полные данные за весь период?</a></h4>\n",
    "\n",
    "Из графика очевидно, что нет - левая половина графика практически пустая. При детальном изучении выходит, что полноценные данные есть с 1 августа 2019 года, 00:00:00. Видимо, всё, что было до этого дефектно, неполно, либо, не имело трафика.\n",
    "\n",
    "---\n",
    "<a href=\"#m3\">Наверх</a>\n",
    "<h4><a name=\"step3_4_D\">4.D Технически в логи новых дней по некоторым пользователям могут «доезжать» события из прошлого</a></h4>\n",
    "\n",
    "Это может «перекашивать данные». Определите, с какого момента данные полные и отбросьте более старые."
   ]
  },
  {
   "cell_type": "code",
   "execution_count": 34,
   "metadata": {},
   "outputs": [],
   "source": [
    "# Из части 4.С. мы поняли, что нужно убрать всё, что до 1 августа 2019 года, 00:00:00:\n",
    "data_clean = data[data['date_time'] >= '2019-08-01 00:00:00']"
   ]
  },
  {
   "cell_type": "markdown",
   "metadata": {},
   "source": [
    "<font color=green> Правильно.       </font>"
   ]
  },
  {
   "cell_type": "code",
   "execution_count": 35,
   "metadata": {},
   "outputs": [
    {
     "data": {
      "image/png": "[encoded data removed]",
      "text/plain": [
       "<Figure size 1296x576 with 1 Axes>"
      ]
     },
     "metadata": {},
     "output_type": "display_data"
    }
   ],
   "source": [
    "data_clean_for_hist = data_clean.copy()\n",
    "plt.pyplot.figure(figsize=[18,8])\n",
    "data_clean_for_hist_graph = data_clean_for_hist['date_time'].hist(bins=210);\n",
    "data_clean_for_hist_graph.set_ylabel(\"Количество событий\");"
   ]
  },
  {
   "cell_type": "markdown",
   "metadata": {},
   "source": [
    "---\n",
    "<a href=\"#m3\">Наверх</a>\n",
    "\n",
    "<h4><a name=\"step3_4_E\">4.E Данными за какой период времени вы располагаете на самом деле?</a></h4>\n"
   ]
  },
  {
   "cell_type": "code",
   "execution_count": 36,
   "metadata": {
    "scrolled": true
   },
   "outputs": [
    {
     "data": {
      "text/plain": [
       "0    2019-08-01\n",
       "1    2019-08-02\n",
       "2    2019-08-03\n",
       "3    2019-08-04\n",
       "4    2019-08-05\n",
       "5    2019-08-06\n",
       "6    2019-08-07\n",
       "7    2019-08-08\n",
       "Name: date, dtype: object"
      ]
     },
     "metadata": {},
     "output_type": "display_data"
    },
    {
     "name": "stdout",
     "output_type": "stream",
     "text": [
      "\n",
      "Данные доступны за 8 дней с 2019-08-01 по 2019-08-08.\n"
     ]
    }
   ],
   "source": [
    "full_period_data = pd.Series(data_clean.groupby('date', as_index=False).agg({'device_id':'count'})['date'])\n",
    "display(full_period_data)\n",
    "print()\n",
    "print(f'Данные доступны за {full_period_data.count()} дней с {full_period_data.min()} по {full_period_data.max()}.')"
   ]
  },
  {
   "cell_type": "markdown",
   "metadata": {},
   "source": [
    "---\n",
    "<a href=\"#m3\">Наверх</a>\n",
    "\n",
    "<h4><a name=\"step3_5\">5. Много ли событий и пользователей вы потеряли, отбросив старые данные?</a></h4>"
   ]
  },
  {
   "cell_type": "code",
   "execution_count": 37,
   "metadata": {},
   "outputs": [
    {
     "name": "stdout",
     "output_type": "stream",
     "text": [
      "Отфильтровано 0.9% и 99.1%\n"
     ]
    }
   ],
   "source": [
    "data_lost_percent = (\n",
    "    (data[data['date_time'] < '2019-08-01 00:00:00']['event'].count() / data['date_time'].count()) * 100).round(1)\n",
    "data_clean_percent = (\n",
    "    (data[data['date_time'] >= '2019-08-01 00:00:00']['event'].count() / data['date_time'].count()) * 100).round(1)\n",
    "print(f'Отфильтровано {data_lost_percent}% и {data_clean_percent}%')"
   ]
  },
  {
   "cell_type": "markdown",
   "metadata": {},
   "source": [
    "<font color=green> Допустимые потери. Но фактически ты посчитал только сколько события мы потеряли, а не пользователей не посчитал.\n",
    "</font>"
   ]
  },
  {
   "cell_type": "markdown",
   "metadata": {},
   "source": [
    "<a href=\"#m3\">Наверх</a>\n",
    "\n",
    "<h3><a name=\"step3_5\">Вывод</a></h3>\n",
    "\n",
    "Мы потеряли всего 0.9% событий - это очень малая часть.\n",
    "\n",
    "---\n",
    "<a href=\"#m3\">Наверх</a>\n",
    "\n",
    "<h4><a name=\"step3_6\">6. Проверьте, что у вас есть пользователи из всех трёх экспериментальных групп.</a></h4>\n",
    "\n"
   ]
  },
  {
   "cell_type": "code",
   "execution_count": 39,
   "metadata": {},
   "outputs": [
    {
     "data": {
      "text/html": [
       "<div>\n",
       "<style scoped>\n",
       "    .dataframe tbody tr th:only-of-type {\n",
       "        vertical-align: middle;\n",
       "    }\n",
       "\n",
       "    .dataframe tbody tr th {\n",
       "        vertical-align: top;\n",
       "    }\n",
       "\n",
       "    .dataframe thead th {\n",
       "        text-align: right;\n",
       "    }\n",
       "</style>\n",
       "<table border=\"1\" class=\"dataframe\">\n",
       "  <thead>\n",
       "    <tr style=\"text-align: right;\">\n",
       "      <th></th>\n",
       "      <th>device_id</th>\n",
       "    </tr>\n",
       "    <tr>\n",
       "      <th>exp_id</th>\n",
       "      <th></th>\n",
       "    </tr>\n",
       "  </thead>\n",
       "  <tbody>\n",
       "    <tr>\n",
       "      <th>246</th>\n",
       "      <td>71219</td>\n",
       "    </tr>\n",
       "    <tr>\n",
       "      <th>247</th>\n",
       "      <td>71764</td>\n",
       "    </tr>\n",
       "    <tr>\n",
       "      <th>248</th>\n",
       "      <td>72854</td>\n",
       "    </tr>\n",
       "  </tbody>\n",
       "</table>\n",
       "</div>"
      ],
      "text/plain": [
       "        device_id\n",
       "exp_id           \n",
       "246         71219\n",
       "247         71764\n",
       "248         72854"
      ]
     },
     "execution_count": 39,
     "metadata": {},
     "output_type": "execute_result"
    }
   ],
   "source": [
    "data_clean_grouped = data_clean.groupby('exp_id').agg({'device_id':'count'})\n",
    "data_clean_grouped"
   ]
  },
  {
   "cell_type": "code",
   "execution_count": 40,
   "metadata": {},
   "outputs": [
    {
     "data": {
      "image/png": "[encoded data removed]",
      "text/plain": [
       "<Figure size 1296x576 with 1 Axes>"
      ]
     },
     "metadata": {},
     "output_type": "display_data"
    }
   ],
   "source": [
    "# Построим график:\n",
    "data_clean_grouped_by_date = data_clean.groupby(['date','exp_id'], as_index=False).agg({'event':'count'})\n",
    "\n",
    "plt.pyplot.figure(figsize=[18,8])\n",
    "data_clean_graph = sns.barplot(\n",
    "    x='date', \n",
    "    y='event', \n",
    "    hue='exp_id', \n",
    "    data=data_clean_grouped_by_date, \n",
    "    palette='BuPu_r')\n",
    "data_clean_graph.set_ylabel(\"Количество событий\")\n",
    "data_clean_graph.set_xlabel(None);"
   ]
  },
  {
   "cell_type": "markdown",
   "metadata": {},
   "source": [
    "<a href=\"#m3\">Наверх</a>\n",
    "\n",
    "<h3><a name=\"step3_6\">Вывод</a></h3>\n",
    "\n",
    "Есть данные о пользователях из всех трёх групп.\n",
    "\n",
    "---\n",
    "<a href=\"#m4\">Наверх</a>\n",
    "\n",
    "<h2>\n",
    "    <a name=\"step4\">Шаг 4. Изучите воронку событий</a>\n",
    "</h2>\n",
    "\n",
    "<a name=\"step4_1\">4.1 Посмотрите, какие события есть в логах, как часто они встречаются. Отсортируйте события по частоте</a>"
   ]
  },
  {
   "cell_type": "code",
   "execution_count": 41,
   "metadata": {
    "scrolled": true
   },
   "outputs": [
    {
     "data": {
      "text/html": [
       "<div>\n",
       "<style scoped>\n",
       "    .dataframe tbody tr th:only-of-type {\n",
       "        vertical-align: middle;\n",
       "    }\n",
       "\n",
       "    .dataframe tbody tr th {\n",
       "        vertical-align: top;\n",
       "    }\n",
       "\n",
       "    .dataframe thead th {\n",
       "        text-align: right;\n",
       "    }\n",
       "</style>\n",
       "<table border=\"1\" class=\"dataframe\">\n",
       "  <thead>\n",
       "    <tr style=\"text-align: right;\">\n",
       "      <th></th>\n",
       "      <th>num_events</th>\n",
       "    </tr>\n",
       "    <tr>\n",
       "      <th>event</th>\n",
       "      <th></th>\n",
       "    </tr>\n",
       "  </thead>\n",
       "  <tbody>\n",
       "    <tr>\n",
       "      <th>MainScreenAppear</th>\n",
       "      <td>116025</td>\n",
       "    </tr>\n",
       "    <tr>\n",
       "      <th>OffersScreenAppear</th>\n",
       "      <td>43226</td>\n",
       "    </tr>\n",
       "    <tr>\n",
       "      <th>CartScreenAppear</th>\n",
       "      <td>31599</td>\n",
       "    </tr>\n",
       "    <tr>\n",
       "      <th>PaymentScreenSuccessful</th>\n",
       "      <td>23983</td>\n",
       "    </tr>\n",
       "    <tr>\n",
       "      <th>Tutorial</th>\n",
       "      <td>1004</td>\n",
       "    </tr>\n",
       "  </tbody>\n",
       "</table>\n",
       "</div>"
      ],
      "text/plain": [
       "                         num_events\n",
       "event                              \n",
       "MainScreenAppear             116025\n",
       "OffersScreenAppear            43226\n",
       "CartScreenAppear              31599\n",
       "PaymentScreenSuccessful       23983\n",
       "Tutorial                       1004"
      ]
     },
     "execution_count": 41,
     "metadata": {},
     "output_type": "execute_result"
    }
   ],
   "source": [
    "# Посмотрим какие события есть и как часто пользователи их совершают:\n",
    "data_clean.groupby('event').agg(\n",
    "    {'device_id':'count'}).sort_values('device_id', ascending=False).rename(columns={'device_id':'num_events'})"
   ]
  },
  {
   "cell_type": "markdown",
   "metadata": {},
   "source": [
    "<a href=\"#m4\">Наверх</a>\n",
    "\n",
    "<a name=\"step4_2_1\">4.2 Посчитайте, сколько пользователей совершали каждое из этих событий. Отсортируйте по убыванию.</a>"
   ]
  },
  {
   "cell_type": "code",
   "execution_count": 42,
   "metadata": {},
   "outputs": [
    {
     "data": {
      "text/html": [
       "<div>\n",
       "<style scoped>\n",
       "    .dataframe tbody tr th:only-of-type {\n",
       "        vertical-align: middle;\n",
       "    }\n",
       "\n",
       "    .dataframe tbody tr th {\n",
       "        vertical-align: top;\n",
       "    }\n",
       "\n",
       "    .dataframe thead th {\n",
       "        text-align: right;\n",
       "    }\n",
       "</style>\n",
       "<table border=\"1\" class=\"dataframe\">\n",
       "  <thead>\n",
       "    <tr style=\"text-align: right;\">\n",
       "      <th></th>\n",
       "      <th>event</th>\n",
       "      <th>num_of_users</th>\n",
       "    </tr>\n",
       "  </thead>\n",
       "  <tbody>\n",
       "    <tr>\n",
       "      <th>0</th>\n",
       "      <td>MainScreenAppear</td>\n",
       "      <td>2461.3</td>\n",
       "    </tr>\n",
       "    <tr>\n",
       "      <th>1</th>\n",
       "      <td>OffersScreenAppear</td>\n",
       "      <td>1519.3</td>\n",
       "    </tr>\n",
       "    <tr>\n",
       "      <th>2</th>\n",
       "      <td>CartScreenAppear</td>\n",
       "      <td>1232.3</td>\n",
       "    </tr>\n",
       "    <tr>\n",
       "      <th>3</th>\n",
       "      <td>PaymentScreenSuccessful</td>\n",
       "      <td>1167.0</td>\n",
       "    </tr>\n",
       "    <tr>\n",
       "      <th>4</th>\n",
       "      <td>Tutorial</td>\n",
       "      <td>279.0</td>\n",
       "    </tr>\n",
       "  </tbody>\n",
       "</table>\n",
       "</div>"
      ],
      "text/plain": [
       "                     event  num_of_users\n",
       "0         MainScreenAppear        2461.3\n",
       "1       OffersScreenAppear        1519.3\n",
       "2         CartScreenAppear        1232.3\n",
       "3  PaymentScreenSuccessful        1167.0\n",
       "4                 Tutorial         279.0"
      ]
     },
     "execution_count": 42,
     "metadata": {},
     "output_type": "execute_result"
    }
   ],
   "source": [
    "data_clean_grouped_by_event = data_clean.groupby(\n",
    "    ['event', 'exp_id'], as_index=False).agg({'device_id':'nunique'})\n",
    "\n",
    "data_clean_grouped_by_event.rename(columns={'device_id':'num_of_users'}, inplace=True)\n",
    "\n",
    "data_clean_grouped_by_event_pivot = pd.pivot_table(data_clean_grouped_by_event, \n",
    "                                                   index='event', \n",
    "                                                   values='num_of_users')\n",
    "data_clean_grouped_by_event_pivot['num_of_users'] = data_clean_grouped_by_event_pivot['num_of_users'].round(1)\n",
    "data_clean_grouped_by_event_pivot.sort_values('num_of_users', ascending=0).reset_index(0)"
   ]
  },
  {
   "cell_type": "markdown",
   "metadata": {},
   "source": [
    "---\n",
    "<a href=\"#m4\">Наверх</a>\n",
    "\n",
    "<a name=\"step4_2_2\">4.2 Посчитайте долю пользователей, которые хоть раз совершали событие.</a>"
   ]
  },
  {
   "cell_type": "code",
   "execution_count": 43,
   "metadata": {},
   "outputs": [
    {
     "data": {
      "text/plain": [
       "0"
      ]
     },
     "execution_count": 43,
     "metadata": {},
     "output_type": "execute_result"
    }
   ],
   "source": [
    "# Пойдём от обратного и посмотрим сколько пользователей НЕ совершало действий:\n",
    "data_clean_one_event = data_clean.groupby(['exp_id','device_id']).agg({'event':'count'})\n",
    "data_clean_one_event[data_clean_one_event['event'] == 0].shape[0]"
   ]
  },
  {
   "cell_type": "code",
   "execution_count": 44,
   "metadata": {
    "scrolled": false
   },
   "outputs": [
    {
     "name": "stdout",
     "output_type": "stream",
     "text": [
      "Доля пользователей, совершивших хотя бы одно действие - 100.0%\n"
     ]
    }
   ],
   "source": [
    "print(f\"Доля пользователей, совершивших хотя бы одно действие - \\\n",
    "{(((data_clean_one_event.query('event >= 1').count())[0] / data_clean_one_event['event'].count()) * 100)}%\")"
   ]
  },
  {
   "cell_type": "markdown",
   "metadata": {},
   "source": [
    "Логично предположить, что если это лог, каждый пользователь в логе при отсутствии пропусков и дубликатов (от которых мы избавились) в данных совершил хотя бы одно действие."
   ]
  },
  {
   "cell_type": "markdown",
   "metadata": {},
   "source": [
    "<font color=green> Логично, но вопрос не об этом. Надо было посчитать долю пользователей, хоть раз совершивших 1 событие по событиям: т.е., увидели главный экран 70%, а оплатили товар - 40%      </font>"
   ]
  },
  {
   "cell_type": "markdown",
   "metadata": {},
   "source": [
    "---\n",
    "<a href=\"#m4\">Наверх</a>\n",
    "\n",
    "<a name=\"step4_3\">4.3 Предположите, в каком порядке происходят события. Все ли они выстраиваются в последовательную цепочку? Их не нужно учитывать при расчёте воронки.</a>\n",
    "\n",
    "Сценарий 1:\n",
    "1. Пользователь видит главный экран (главную страницу), кликает по ссылке;\n",
    "2. Видит экран с оффером, добавляет товар в корзину;\n",
    "3. Открываыет корзину, оплачивает товар;\n",
    "4. Видит страницу успешной оплаты;\n",
    "5. Приступает к шагу с обучением функциям сервиса.\n",
    "\n",
    "<b>Альтернативная интерпетация шагов:</b>\n",
    "\n",
    "Сценарий 2 когда шаг Tutorial - это один из шагов, который может появиться на любом этапе пользования сервисом. Кто-то предпочитает не смотреть этап обучения, но, возможно, сервис действительно сложный:\n",
    "1. Пользователь видит главный экран (главную страницу), кликает по ссылке;\n",
    "2. Видит экран с оффером, добавляет товар в корзину;\n",
    "3. Открываыет корзину, оплачивает товар;\n",
    "4. Видит страницу успешной оплаты.\n",
    "\n",
    "Хотя, логично предположить, что туториал является финальным шагом, куда пользователь приходит после того, как оплатит товар, однако, судя по конверсии предыдущих шагов можно предположить, что событие Tutorial это необязательный шаг. Следовательно, выберем <u>второй сценарий</u>."
   ]
  },
  {
   "cell_type": "markdown",
   "metadata": {},
   "source": [
    "<font color=green>Вызов справки скорее опциональная история и крайне редко его будут делать ПОСЛЕ соврешения покупки (т.е., после достиженяи цели посещения сайта). Так что здорово, что ты выбрал 2 вариант.        </font>"
   ]
  },
  {
   "cell_type": "code",
   "execution_count": 45,
   "metadata": {},
   "outputs": [],
   "source": [
    "# Уберём все строки с событиями Tutorial:\n",
    "data_clean = (data_clean.copy()).query('event != \"Tutorial\"')"
   ]
  },
  {
   "cell_type": "markdown",
   "metadata": {},
   "source": [
    "---\n",
    "<a href=\"#m4\">Наверх</a>\n",
    "\n",
    "<a name=\"step4_4\">4.4 По воронке событий посчитайте, какая доля пользователей проходит на следующий шаг воронки (от числа пользователей на предыдущем).</a><br> \n",
    "То есть для последовательности событий A → B → C, посчитайте отношение числа пользователей с событием B к количеству пользователей с событием A.\n",
    "\n",
    "Соберём сводную таблицу в которой каждая строка будет пользователем, соответственно, в такой таблице будет видно когда каждый пользователь совершал каждое действие. Если действие не совершалось, то в такой ячейке будет пропуск."
   ]
  },
  {
   "cell_type": "code",
   "execution_count": 46,
   "metadata": {
    "scrolled": true
   },
   "outputs": [
    {
     "data": {
      "text/html": [
       "<div>\n",
       "<style scoped>\n",
       "    .dataframe tbody tr th:only-of-type {\n",
       "        vertical-align: middle;\n",
       "    }\n",
       "\n",
       "    .dataframe tbody tr th {\n",
       "        vertical-align: top;\n",
       "    }\n",
       "\n",
       "    .dataframe thead th {\n",
       "        text-align: right;\n",
       "    }\n",
       "</style>\n",
       "<table border=\"1\" class=\"dataframe\">\n",
       "  <thead>\n",
       "    <tr style=\"text-align: right;\">\n",
       "      <th></th>\n",
       "      <th>event</th>\n",
       "      <th>CartScreenAppear</th>\n",
       "      <th>MainScreenAppear</th>\n",
       "      <th>OffersScreenAppear</th>\n",
       "      <th>PaymentScreenSuccessful</th>\n",
       "    </tr>\n",
       "    <tr>\n",
       "      <th>device_id</th>\n",
       "      <th>exp_id</th>\n",
       "      <th></th>\n",
       "      <th></th>\n",
       "      <th></th>\n",
       "      <th></th>\n",
       "    </tr>\n",
       "  </thead>\n",
       "  <tbody>\n",
       "    <tr>\n",
       "      <th>6888746892508752</th>\n",
       "      <th>246</th>\n",
       "      <td>NaT</td>\n",
       "      <td>2019-08-06 17:06:34</td>\n",
       "      <td>NaT</td>\n",
       "      <td>NaT</td>\n",
       "    </tr>\n",
       "    <tr>\n",
       "      <th>6909561520679493</th>\n",
       "      <th>247</th>\n",
       "      <td>2019-08-06 21:52:58</td>\n",
       "      <td>2019-08-06 21:52:54</td>\n",
       "      <td>2019-08-06 21:53:04</td>\n",
       "      <td>2019-08-06 21:52:58</td>\n",
       "    </tr>\n",
       "    <tr>\n",
       "      <th>6922444491712477</th>\n",
       "      <th>246</th>\n",
       "      <td>2019-08-04 17:19:40</td>\n",
       "      <td>2019-08-04 17:19:33</td>\n",
       "      <td>2019-08-04 17:19:46</td>\n",
       "      <td>2019-08-04 17:19:40</td>\n",
       "    </tr>\n",
       "    <tr>\n",
       "      <th>7435777799948366</th>\n",
       "      <th>248</th>\n",
       "      <td>NaT</td>\n",
       "      <td>2019-08-05 11:06:34</td>\n",
       "      <td>NaT</td>\n",
       "      <td>NaT</td>\n",
       "    </tr>\n",
       "    <tr>\n",
       "      <th>7702139951469979</th>\n",
       "      <th>247</th>\n",
       "      <td>2019-08-02 17:28:45</td>\n",
       "      <td>2019-08-01 07:29:54</td>\n",
       "      <td>2019-08-01 07:29:56</td>\n",
       "      <td>2019-08-02 17:28:45</td>\n",
       "    </tr>\n",
       "  </tbody>\n",
       "</table>\n",
       "</div>"
      ],
      "text/plain": [
       "event                      CartScreenAppear    MainScreenAppear  \\\n",
       "device_id        exp_id                                           \n",
       "6888746892508752 246                    NaT 2019-08-06 17:06:34   \n",
       "6909561520679493 247    2019-08-06 21:52:58 2019-08-06 21:52:54   \n",
       "6922444491712477 246    2019-08-04 17:19:40 2019-08-04 17:19:33   \n",
       "7435777799948366 248                    NaT 2019-08-05 11:06:34   \n",
       "7702139951469979 247    2019-08-02 17:28:45 2019-08-01 07:29:54   \n",
       "\n",
       "event                    OffersScreenAppear PaymentScreenSuccessful  \n",
       "device_id        exp_id                                              \n",
       "6888746892508752 246                    NaT                     NaT  \n",
       "6909561520679493 247    2019-08-06 21:53:04     2019-08-06 21:52:58  \n",
       "6922444491712477 246    2019-08-04 17:19:46     2019-08-04 17:19:40  \n",
       "7435777799948366 248                    NaT                     NaT  \n",
       "7702139951469979 247    2019-08-01 07:29:56     2019-08-02 17:28:45  "
      ]
     },
     "execution_count": 46,
     "metadata": {},
     "output_type": "execute_result"
    }
   ],
   "source": [
    "# Соберём такую таблицу:\n",
    "users = data_clean.pivot_table(\n",
    "        index=['device_id', 'exp_id'], \n",
    "        columns='event', \n",
    "        values='date_time',\n",
    "        aggfunc='min',\n",
    "        )\n",
    "\n",
    "# Добавим фильтры в переменные:\n",
    "step_1 = ~users['MainScreenAppear'].isna()\n",
    "step_2 = step_1 & (users['OffersScreenAppear'] > users['MainScreenAppear'])\n",
    "step_3 = step_2 & (users['CartScreenAppear'] > users['OffersScreenAppear'])\n",
    "step_4 = step_3 & (users['PaymentScreenSuccessful'] > users['CartScreenAppear'])\n",
    "\n",
    "# Посчитаем количество пользователей:\n",
    "main_screen = users[step_1].shape[0]\n",
    "offer_screen = users[step_2].shape[0]\n",
    "cart_screen = users[step_3].shape[0]\n",
    "payment_screen = users[step_4].shape[0]\n",
    "\n",
    "# Выведем таблицу:\n",
    "users.head()"
   ]
  },
  {
   "cell_type": "code",
   "execution_count": 47,
   "metadata": {},
   "outputs": [
    {
     "data": {
      "application/vnd.plotly.v1+json": {
       "config": {
        "plotlyServerURL": "https://plot.ly"
       },
       "data": [
        {
         "name": "Воронка продаж",
         "textinfo": "value+percent initial",
         "type": "funnel",
         "x": [
          7384,
          4173,
          1763,
          453
         ],
         "y": [
          "Главный экран",
          "Оффер",
          "Корзина",
          "Оплата"
         ]
        }
       ],
       "layout": {
        "template": {
         "data": {
          "bar": [
           {
            "error_x": {
             "color": "#2a3f5f"
            },
            "error_y": {
             "color": "#2a3f5f"
            },
            "marker": {
             "line": {
              "color": "#E5ECF6",
              "width": 0.5
             },
             "pattern": {
              "fillmode": "overlay",
              "size": 10,
              "solidity": 0.2
             }
            },
            "type": "bar"
           }
          ],
          "barpolar": [
           {
            "marker": {
             "line": {
              "color": "#E5ECF6",
              "width": 0.5
             },
             "pattern": {
              "fillmode": "overlay",
              "size": 10,
              "solidity": 0.2
             }
            },
            "type": "barpolar"
           }
          ],
          "carpet": [
           {
            "aaxis": {
             "endlinecolor": "#2a3f5f",
             "gridcolor": "white",
             "linecolor": "white",
             "minorgridcolor": "white",
             "startlinecolor": "#2a3f5f"
            },
            "baxis": {
             "endlinecolor": "#2a3f5f",
             "gridcolor": "white",
             "linecolor": "white",
             "minorgridcolor": "white",
             "startlinecolor": "#2a3f5f"
            },
            "type": "carpet"
           }
          ],
          "choropleth": [
           {
            "colorbar": {
             "outlinewidth": 0,
             "ticks": ""
            },
            "type": "choropleth"
           }
          ],
          "contour": [
           {
            "colorbar": {
             "outlinewidth": 0,
             "ticks": ""
            },
            "colorscale": [
             [
              0,
              "#0d0887"
             ],
             [
              0.1111111111111111,
              "#46039f"
             ],
             [
              0.2222222222222222,
              "#7201a8"
             ],
             [
              0.3333333333333333,
              "#9c179e"
             ],
             [
              0.4444444444444444,
              "#bd3786"
             ],
             [
              0.5555555555555556,
              "#d8576b"
             ],
             [
              0.6666666666666666,
              "#ed7953"
             ],
             [
              0.7777777777777778,
              "#fb9f3a"
             ],
             [
              0.8888888888888888,
              "#fdca26"
             ],
             [
              1,
              "#f0f921"
             ]
            ],
            "type": "contour"
           }
          ],
          "contourcarpet": [
           {
            "colorbar": {
             "outlinewidth": 0,
             "ticks": ""
            },
            "type": "contourcarpet"
           }
          ],
          "heatmap": [
           {
            "colorbar": {
             "outlinewidth": 0,
             "ticks": ""
            },
            "colorscale": [
             [
              0,
              "#0d0887"
             ],
             [
              0.1111111111111111,
              "#46039f"
             ],
             [
              0.2222222222222222,
              "#7201a8"
             ],
             [
              0.3333333333333333,
              "#9c179e"
             ],
             [
              0.4444444444444444,
              "#bd3786"
             ],
             [
              0.5555555555555556,
              "#d8576b"
             ],
             [
              0.6666666666666666,
              "#ed7953"
             ],
             [
              0.7777777777777778,
              "#fb9f3a"
             ],
             [
              0.8888888888888888,
              "#fdca26"
             ],
             [
              1,
              "#f0f921"
             ]
            ],
            "type": "heatmap"
           }
          ],
          "heatmapgl": [
           {
            "colorbar": {
             "outlinewidth": 0,
             "ticks": ""
            },
            "colorscale": [
             [
              0,
              "#0d0887"
             ],
             [
              0.1111111111111111,
              "#46039f"
             ],
             [
              0.2222222222222222,
              "#7201a8"
             ],
             [
              0.3333333333333333,
              "#9c179e"
             ],
             [
              0.4444444444444444,
              "#bd3786"
             ],
             [
              0.5555555555555556,
              "#d8576b"
             ],
             [
              0.6666666666666666,
              "#ed7953"
             ],
             [
              0.7777777777777778,
              "#fb9f3a"
             ],
             [
              0.8888888888888888,
              "#fdca26"
             ],
             [
              1,
              "#f0f921"
             ]
            ],
            "type": "heatmapgl"
           }
          ],
          "histogram": [
           {
            "marker": {
             "pattern": {
              "fillmode": "overlay",
              "size": 10,
              "solidity": 0.2
             }
            },
            "type": "histogram"
           }
          ],
          "histogram2d": [
           {
            "colorbar": {
             "outlinewidth": 0,
             "ticks": ""
            },
            "colorscale": [
             [
              0,
              "#0d0887"
             ],
             [
              0.1111111111111111,
              "#46039f"
             ],
             [
              0.2222222222222222,
              "#7201a8"
             ],
             [
              0.3333333333333333,
              "#9c179e"
             ],
             [
              0.4444444444444444,
              "#bd3786"
             ],
             [
              0.5555555555555556,
              "#d8576b"
             ],
             [
              0.6666666666666666,
              "#ed7953"
             ],
             [
              0.7777777777777778,
              "#fb9f3a"
             ],
             [
              0.8888888888888888,
              "#fdca26"
             ],
             [
              1,
              "#f0f921"
             ]
            ],
            "type": "histogram2d"
           }
          ],
          "histogram2dcontour": [
           {
            "colorbar": {
             "outlinewidth": 0,
             "ticks": ""
            },
            "colorscale": [
             [
              0,
              "#0d0887"
             ],
             [
              0.1111111111111111,
              "#46039f"
             ],
             [
              0.2222222222222222,
              "#7201a8"
             ],
             [
              0.3333333333333333,
              "#9c179e"
             ],
             [
              0.4444444444444444,
              "#bd3786"
             ],
             [
              0.5555555555555556,
              "#d8576b"
             ],
             [
              0.6666666666666666,
              "#ed7953"
             ],
             [
              0.7777777777777778,
              "#fb9f3a"
             ],
             [
              0.8888888888888888,
              "#fdca26"
             ],
             [
              1,
              "#f0f921"
             ]
            ],
            "type": "histogram2dcontour"
           }
          ],
          "mesh3d": [
           {
            "colorbar": {
             "outlinewidth": 0,
             "ticks": ""
            },
            "type": "mesh3d"
           }
          ],
          "parcoords": [
           {
            "line": {
             "colorbar": {
              "outlinewidth": 0,
              "ticks": ""
             }
            },
            "type": "parcoords"
           }
          ],
          "pie": [
           {
            "automargin": true,
            "type": "pie"
           }
          ],
          "scatter": [
           {
            "fillpattern": {
             "fillmode": "overlay",
             "size": 10,
             "solidity": 0.2
            },
            "type": "scatter"
           }
          ],
          "scatter3d": [
           {
            "line": {
             "colorbar": {
              "outlinewidth": 0,
              "ticks": ""
             }
            },
            "marker": {
             "colorbar": {
              "outlinewidth": 0,
              "ticks": ""
             }
            },
            "type": "scatter3d"
           }
          ],
          "scattercarpet": [
           {
            "marker": {
             "colorbar": {
              "outlinewidth": 0,
              "ticks": ""
             }
            },
            "type": "scattercarpet"
           }
          ],
          "scattergeo": [
           {
            "marker": {
             "colorbar": {
              "outlinewidth": 0,
              "ticks": ""
             }
            },
            "type": "scattergeo"
           }
          ],
          "scattergl": [
           {
            "marker": {
             "colorbar": {
              "outlinewidth": 0,
              "ticks": ""
             }
            },
            "type": "scattergl"
           }
          ],
          "scattermapbox": [
           {
            "marker": {
             "colorbar": {
              "outlinewidth": 0,
              "ticks": ""
             }
            },
            "type": "scattermapbox"
           }
          ],
          "scatterpolar": [
           {
            "marker": {
             "colorbar": {
              "outlinewidth": 0,
              "ticks": ""
             }
            },
            "type": "scatterpolar"
           }
          ],
          "scatterpolargl": [
           {
            "marker": {
             "colorbar": {
              "outlinewidth": 0,
              "ticks": ""
             }
            },
            "type": "scatterpolargl"
           }
          ],
          "scatterternary": [
           {
            "marker": {
             "colorbar": {
              "outlinewidth": 0,
              "ticks": ""
             }
            },
            "type": "scatterternary"
           }
          ],
          "surface": [
           {
            "colorbar": {
             "outlinewidth": 0,
             "ticks": ""
            },
            "colorscale": [
             [
              0,
              "#0d0887"
             ],
             [
              0.1111111111111111,
              "#46039f"
             ],
             [
              0.2222222222222222,
              "#7201a8"
             ],
             [
              0.3333333333333333,
              "#9c179e"
             ],
             [
              0.4444444444444444,
              "#bd3786"
             ],
             [
              0.5555555555555556,
              "#d8576b"
             ],
             [
              0.6666666666666666,
              "#ed7953"
             ],
             [
              0.7777777777777778,
              "#fb9f3a"
             ],
             [
              0.8888888888888888,
              "#fdca26"
             ],
             [
              1,
              "#f0f921"
             ]
            ],
            "type": "surface"
           }
          ],
          "table": [
           {
            "cells": {
             "fill": {
              "color": "#EBF0F8"
             },
             "line": {
              "color": "white"
             }
            },
            "header": {
             "fill": {
              "color": "#C8D4E3"
             },
             "line": {
              "color": "white"
             }
            },
            "type": "table"
           }
          ]
         },
         "layout": {
          "annotationdefaults": {
           "arrowcolor": "#2a3f5f",
           "arrowhead": 0,
           "arrowwidth": 1
          },
          "autotypenumbers": "strict",
          "coloraxis": {
           "colorbar": {
            "outlinewidth": 0,
            "ticks": ""
           }
          },
          "colorscale": {
           "diverging": [
            [
             0,
             "#8e0152"
            ],
            [
             0.1,
             "#c51b7d"
            ],
            [
             0.2,
             "#de77ae"
            ],
            [
             0.3,
             "#f1b6da"
            ],
            [
             0.4,
             "#fde0ef"
            ],
            [
             0.5,
             "#f7f7f7"
            ],
            [
             0.6,
             "#e6f5d0"
            ],
            [
             0.7,
             "#b8e186"
            ],
            [
             0.8,
             "#7fbc41"
            ],
            [
             0.9,
             "#4d9221"
            ],
            [
             1,
             "#276419"
            ]
           ],
           "sequential": [
            [
             0,
             "#0d0887"
            ],
            [
             0.1111111111111111,
             "#46039f"
            ],
            [
             0.2222222222222222,
             "#7201a8"
            ],
            [
             0.3333333333333333,
             "#9c179e"
            ],
            [
             0.4444444444444444,
             "#bd3786"
            ],
            [
             0.5555555555555556,
             "#d8576b"
            ],
            [
             0.6666666666666666,
             "#ed7953"
            ],
            [
             0.7777777777777778,
             "#fb9f3a"
            ],
            [
             0.8888888888888888,
             "#fdca26"
            ],
            [
             1,
             "#f0f921"
            ]
           ],
           "sequentialminus": [
            [
             0,
             "#0d0887"
            ],
            [
             0.1111111111111111,
             "#46039f"
            ],
            [
             0.2222222222222222,
             "#7201a8"
            ],
            [
             0.3333333333333333,
             "#9c179e"
            ],
            [
             0.4444444444444444,
             "#bd3786"
            ],
            [
             0.5555555555555556,
             "#d8576b"
            ],
            [
             0.6666666666666666,
             "#ed7953"
            ],
            [
             0.7777777777777778,
             "#fb9f3a"
            ],
            [
             0.8888888888888888,
             "#fdca26"
            ],
            [
             1,
             "#f0f921"
            ]
           ]
          },
          "colorway": [
           "#636efa",
           "#EF553B",
           "#00cc96",
           "#ab63fa",
           "#FFA15A",
           "#19d3f3",
           "#FF6692",
           "#B6E880",
           "#FF97FF",
           "#FECB52"
          ],
          "font": {
           "color": "#2a3f5f"
          },
          "geo": {
           "bgcolor": "white",
           "lakecolor": "white",
           "landcolor": "#E5ECF6",
           "showlakes": true,
           "showland": true,
           "subunitcolor": "white"
          },
          "hoverlabel": {
           "align": "left"
          },
          "hovermode": "closest",
          "mapbox": {
           "style": "light"
          },
          "paper_bgcolor": "white",
          "plot_bgcolor": "#E5ECF6",
          "polar": {
           "angularaxis": {
            "gridcolor": "white",
            "linecolor": "white",
            "ticks": ""
           },
           "bgcolor": "#E5ECF6",
           "radialaxis": {
            "gridcolor": "white",
            "linecolor": "white",
            "ticks": ""
           }
          },
          "scene": {
           "xaxis": {
            "backgroundcolor": "#E5ECF6",
            "gridcolor": "white",
            "gridwidth": 2,
            "linecolor": "white",
            "showbackground": true,
            "ticks": "",
            "zerolinecolor": "white"
           },
           "yaxis": {
            "backgroundcolor": "#E5ECF6",
            "gridcolor": "white",
            "gridwidth": 2,
            "linecolor": "white",
            "showbackground": true,
            "ticks": "",
            "zerolinecolor": "white"
           },
           "zaxis": {
            "backgroundcolor": "#E5ECF6",
            "gridcolor": "white",
            "gridwidth": 2,
            "linecolor": "white",
            "showbackground": true,
            "ticks": "",
            "zerolinecolor": "white"
           }
          },
          "shapedefaults": {
           "line": {
            "color": "#2a3f5f"
           }
          },
          "ternary": {
           "aaxis": {
            "gridcolor": "white",
            "linecolor": "white",
            "ticks": ""
           },
           "baxis": {
            "gridcolor": "white",
            "linecolor": "white",
            "ticks": ""
           },
           "bgcolor": "#E5ECF6",
           "caxis": {
            "gridcolor": "white",
            "linecolor": "white",
            "ticks": ""
           }
          },
          "title": {
           "x": 0.05
          },
          "xaxis": {
           "automargin": true,
           "gridcolor": "white",
           "linecolor": "white",
           "ticks": "",
           "title": {
            "standoff": 15
           },
           "zerolinecolor": "white",
           "zerolinewidth": 2
          },
          "yaxis": {
           "automargin": true,
           "gridcolor": "white",
           "linecolor": "white",
           "ticks": "",
           "title": {
            "standoff": 15
           },
           "zerolinecolor": "white",
           "zerolinewidth": 2
          }
         }
        }
       }
      },
      "text/html": [
       "<div>                            <div id=\"f34339be-e892-4130-8bd9-5497395c9a1d\" class=\"plotly-graph-div\" style=\"height:525px; width:100%;\"></div>            <script type=\"text/javascript\">                require([\"plotly\"], function(Plotly) {                    window.PLOTLYENV=window.PLOTLYENV || {};                                    if (document.getElementById(\"f34339be-e892-4130-8bd9-5497395c9a1d\")) {                    Plotly.newPlot(                        \"f34339be-e892-4130-8bd9-5497395c9a1d\",                        [{\"name\":\"\\u0412\\u043e\\u0440\\u043e\\u043d\\u043a\\u0430 \\u043f\\u0440\\u043e\\u0434\\u0430\\u0436\",\"textinfo\":\"value+percent initial\",\"x\":[7384,4173,1763,453],\"y\":[\"\\u0413\\u043b\\u0430\\u0432\\u043d\\u044b\\u0439 \\u044d\\u043a\\u0440\\u0430\\u043d\",\"\\u041e\\u0444\\u0444\\u0435\\u0440\",\"\\u041a\\u043e\\u0440\\u0437\\u0438\\u043d\\u0430\",\"\\u041e\\u043f\\u043b\\u0430\\u0442\\u0430\"],\"type\":\"funnel\"}],                        {\"template\":{\"data\":{\"histogram2dcontour\":[{\"type\":\"histogram2dcontour\",\"colorbar\":{\"outlinewidth\":0,\"ticks\":\"\"},\"colorscale\":[[0.0,\"#0d0887\"],[0.1111111111111111,\"#46039f\"],[0.2222222222222222,\"#7201a8\"],[0.3333333333333333,\"#9c179e\"],[0.4444444444444444,\"#bd3786\"],[0.5555555555555556,\"#d8576b\"],[0.6666666666666666,\"#ed7953\"],[0.7777777777777778,\"#fb9f3a\"],[0.8888888888888888,\"#fdca26\"],[1.0,\"#f0f921\"]]}],\"choropleth\":[{\"type\":\"choropleth\",\"colorbar\":{\"outlinewidth\":0,\"ticks\":\"\"}}],\"histogram2d\":[{\"type\":\"histogram2d\",\"colorbar\":{\"outlinewidth\":0,\"ticks\":\"\"},\"colorscale\":[[0.0,\"#0d0887\"],[0.1111111111111111,\"#46039f\"],[0.2222222222222222,\"#7201a8\"],[0.3333333333333333,\"#9c179e\"],[0.4444444444444444,\"#bd3786\"],[0.5555555555555556,\"#d8576b\"],[0.6666666666666666,\"#ed7953\"],[0.7777777777777778,\"#fb9f3a\"],[0.8888888888888888,\"#fdca26\"],[1.0,\"#f0f921\"]]}],\"heatmap\":[{\"type\":\"heatmap\",\"colorbar\":{\"outlinewidth\":0,\"ticks\":\"\"},\"colorscale\":[[0.0,\"#0d0887\"],[0.1111111111111111,\"#46039f\"],[0.2222222222222222,\"#7201a8\"],[0.3333333333333333,\"#9c179e\"],[0.4444444444444444,\"#bd3786\"],[0.5555555555555556,\"#d8576b\"],[0.6666666666666666,\"#ed7953\"],[0.7777777777777778,\"#fb9f3a\"],[0.8888888888888888,\"#fdca26\"],[1.0,\"#f0f921\"]]}],\"heatmapgl\":[{\"type\":\"heatmapgl\",\"colorbar\":{\"outlinewidth\":0,\"ticks\":\"\"},\"colorscale\":[[0.0,\"#0d0887\"],[0.1111111111111111,\"#46039f\"],[0.2222222222222222,\"#7201a8\"],[0.3333333333333333,\"#9c179e\"],[0.4444444444444444,\"#bd3786\"],[0.5555555555555556,\"#d8576b\"],[0.6666666666666666,\"#ed7953\"],[0.7777777777777778,\"#fb9f3a\"],[0.8888888888888888,\"#fdca26\"],[1.0,\"#f0f921\"]]}],\"contourcarpet\":[{\"type\":\"contourcarpet\",\"colorbar\":{\"outlinewidth\":0,\"ticks\":\"\"}}],\"contour\":[{\"type\":\"contour\",\"colorbar\":{\"outlinewidth\":0,\"ticks\":\"\"},\"colorscale\":[[0.0,\"#0d0887\"],[0.1111111111111111,\"#46039f\"],[0.2222222222222222,\"#7201a8\"],[0.3333333333333333,\"#9c179e\"],[0.4444444444444444,\"#bd3786\"],[0.5555555555555556,\"#d8576b\"],[0.6666666666666666,\"#ed7953\"],[0.7777777777777778,\"#fb9f3a\"],[0.8888888888888888,\"#fdca26\"],[1.0,\"#f0f921\"]]}],\"surface\":[{\"type\":\"surface\",\"colorbar\":{\"outlinewidth\":0,\"ticks\":\"\"},\"colorscale\":[[0.0,\"#0d0887\"],[0.1111111111111111,\"#46039f\"],[0.2222222222222222,\"#7201a8\"],[0.3333333333333333,\"#9c179e\"],[0.4444444444444444,\"#bd3786\"],[0.5555555555555556,\"#d8576b\"],[0.6666666666666666,\"#ed7953\"],[0.7777777777777778,\"#fb9f3a\"],[0.8888888888888888,\"#fdca26\"],[1.0,\"#f0f921\"]]}],\"mesh3d\":[{\"type\":\"mesh3d\",\"colorbar\":{\"outlinewidth\":0,\"ticks\":\"\"}}],\"scatter\":[{\"fillpattern\":{\"fillmode\":\"overlay\",\"size\":10,\"solidity\":0.2},\"type\":\"scatter\"}],\"parcoords\":[{\"type\":\"parcoords\",\"line\":{\"colorbar\":{\"outlinewidth\":0,\"ticks\":\"\"}}}],\"scatterpolargl\":[{\"type\":\"scatterpolargl\",\"marker\":{\"colorbar\":{\"outlinewidth\":0,\"ticks\":\"\"}}}],\"bar\":[{\"error_x\":{\"color\":\"#2a3f5f\"},\"error_y\":{\"color\":\"#2a3f5f\"},\"marker\":{\"line\":{\"color\":\"#E5ECF6\",\"width\":0.5},\"pattern\":{\"fillmode\":\"overlay\",\"size\":10,\"solidity\":0.2}},\"type\":\"bar\"}],\"scattergeo\":[{\"type\":\"scattergeo\",\"marker\":{\"colorbar\":{\"outlinewidth\":0,\"ticks\":\"\"}}}],\"scatterpolar\":[{\"type\":\"scatterpolar\",\"marker\":{\"colorbar\":{\"outlinewidth\":0,\"ticks\":\"\"}}}],\"histogram\":[{\"marker\":{\"pattern\":{\"fillmode\":\"overlay\",\"size\":10,\"solidity\":0.2}},\"type\":\"histogram\"}],\"scattergl\":[{\"type\":\"scattergl\",\"marker\":{\"colorbar\":{\"outlinewidth\":0,\"ticks\":\"\"}}}],\"scatter3d\":[{\"type\":\"scatter3d\",\"line\":{\"colorbar\":{\"outlinewidth\":0,\"ticks\":\"\"}},\"marker\":{\"colorbar\":{\"outlinewidth\":0,\"ticks\":\"\"}}}],\"scattermapbox\":[{\"type\":\"scattermapbox\",\"marker\":{\"colorbar\":{\"outlinewidth\":0,\"ticks\":\"\"}}}],\"scatterternary\":[{\"type\":\"scatterternary\",\"marker\":{\"colorbar\":{\"outlinewidth\":0,\"ticks\":\"\"}}}],\"scattercarpet\":[{\"type\":\"scattercarpet\",\"marker\":{\"colorbar\":{\"outlinewidth\":0,\"ticks\":\"\"}}}],\"carpet\":[{\"aaxis\":{\"endlinecolor\":\"#2a3f5f\",\"gridcolor\":\"white\",\"linecolor\":\"white\",\"minorgridcolor\":\"white\",\"startlinecolor\":\"#2a3f5f\"},\"baxis\":{\"endlinecolor\":\"#2a3f5f\",\"gridcolor\":\"white\",\"linecolor\":\"white\",\"minorgridcolor\":\"white\",\"startlinecolor\":\"#2a3f5f\"},\"type\":\"carpet\"}],\"table\":[{\"cells\":{\"fill\":{\"color\":\"#EBF0F8\"},\"line\":{\"color\":\"white\"}},\"header\":{\"fill\":{\"color\":\"#C8D4E3\"},\"line\":{\"color\":\"white\"}},\"type\":\"table\"}],\"barpolar\":[{\"marker\":{\"line\":{\"color\":\"#E5ECF6\",\"width\":0.5},\"pattern\":{\"fillmode\":\"overlay\",\"size\":10,\"solidity\":0.2}},\"type\":\"barpolar\"}],\"pie\":[{\"automargin\":true,\"type\":\"pie\"}]},\"layout\":{\"autotypenumbers\":\"strict\",\"colorway\":[\"#636efa\",\"#EF553B\",\"#00cc96\",\"#ab63fa\",\"#FFA15A\",\"#19d3f3\",\"#FF6692\",\"#B6E880\",\"#FF97FF\",\"#FECB52\"],\"font\":{\"color\":\"#2a3f5f\"},\"hovermode\":\"closest\",\"hoverlabel\":{\"align\":\"left\"},\"paper_bgcolor\":\"white\",\"plot_bgcolor\":\"#E5ECF6\",\"polar\":{\"bgcolor\":\"#E5ECF6\",\"angularaxis\":{\"gridcolor\":\"white\",\"linecolor\":\"white\",\"ticks\":\"\"},\"radialaxis\":{\"gridcolor\":\"white\",\"linecolor\":\"white\",\"ticks\":\"\"}},\"ternary\":{\"bgcolor\":\"#E5ECF6\",\"aaxis\":{\"gridcolor\":\"white\",\"linecolor\":\"white\",\"ticks\":\"\"},\"baxis\":{\"gridcolor\":\"white\",\"linecolor\":\"white\",\"ticks\":\"\"},\"caxis\":{\"gridcolor\":\"white\",\"linecolor\":\"white\",\"ticks\":\"\"}},\"coloraxis\":{\"colorbar\":{\"outlinewidth\":0,\"ticks\":\"\"}},\"colorscale\":{\"sequential\":[[0.0,\"#0d0887\"],[0.1111111111111111,\"#46039f\"],[0.2222222222222222,\"#7201a8\"],[0.3333333333333333,\"#9c179e\"],[0.4444444444444444,\"#bd3786\"],[0.5555555555555556,\"#d8576b\"],[0.6666666666666666,\"#ed7953\"],[0.7777777777777778,\"#fb9f3a\"],[0.8888888888888888,\"#fdca26\"],[1.0,\"#f0f921\"]],\"sequentialminus\":[[0.0,\"#0d0887\"],[0.1111111111111111,\"#46039f\"],[0.2222222222222222,\"#7201a8\"],[0.3333333333333333,\"#9c179e\"],[0.4444444444444444,\"#bd3786\"],[0.5555555555555556,\"#d8576b\"],[0.6666666666666666,\"#ed7953\"],[0.7777777777777778,\"#fb9f3a\"],[0.8888888888888888,\"#fdca26\"],[1.0,\"#f0f921\"]],\"diverging\":[[0,\"#8e0152\"],[0.1,\"#c51b7d\"],[0.2,\"#de77ae\"],[0.3,\"#f1b6da\"],[0.4,\"#fde0ef\"],[0.5,\"#f7f7f7\"],[0.6,\"#e6f5d0\"],[0.7,\"#b8e186\"],[0.8,\"#7fbc41\"],[0.9,\"#4d9221\"],[1,\"#276419\"]]},\"xaxis\":{\"gridcolor\":\"white\",\"linecolor\":\"white\",\"ticks\":\"\",\"title\":{\"standoff\":15},\"zerolinecolor\":\"white\",\"automargin\":true,\"zerolinewidth\":2},\"yaxis\":{\"gridcolor\":\"white\",\"linecolor\":\"white\",\"ticks\":\"\",\"title\":{\"standoff\":15},\"zerolinecolor\":\"white\",\"automargin\":true,\"zerolinewidth\":2},\"scene\":{\"xaxis\":{\"backgroundcolor\":\"#E5ECF6\",\"gridcolor\":\"white\",\"linecolor\":\"white\",\"showbackground\":true,\"ticks\":\"\",\"zerolinecolor\":\"white\",\"gridwidth\":2},\"yaxis\":{\"backgroundcolor\":\"#E5ECF6\",\"gridcolor\":\"white\",\"linecolor\":\"white\",\"showbackground\":true,\"ticks\":\"\",\"zerolinecolor\":\"white\",\"gridwidth\":2},\"zaxis\":{\"backgroundcolor\":\"#E5ECF6\",\"gridcolor\":\"white\",\"linecolor\":\"white\",\"showbackground\":true,\"ticks\":\"\",\"zerolinecolor\":\"white\",\"gridwidth\":2}},\"shapedefaults\":{\"line\":{\"color\":\"#2a3f5f\"}},\"annotationdefaults\":{\"arrowcolor\":\"#2a3f5f\",\"arrowhead\":0,\"arrowwidth\":1},\"geo\":{\"bgcolor\":\"white\",\"landcolor\":\"#E5ECF6\",\"subunitcolor\":\"white\",\"showland\":true,\"showlakes\":true,\"lakecolor\":\"white\"},\"title\":{\"x\":0.05},\"mapbox\":{\"style\":\"light\"}}}},                        {\"responsive\": true}                    ).then(function(){\n",
       "                            \n",
       "var gd = document.getElementById('f34339be-e892-4130-8bd9-5497395c9a1d');\n",
       "var x = new MutationObserver(function (mutations, observer) {{\n",
       "        var display = window.getComputedStyle(gd).display;\n",
       "        if (!display || display === 'none') {{\n",
       "            console.log([gd, 'removed!']);\n",
       "            Plotly.purge(gd);\n",
       "            observer.disconnect();\n",
       "        }}\n",
       "}});\n",
       "\n",
       "// Listen for the removal of the full notebook cells\n",
       "var notebookContainer = gd.closest('#notebook-container');\n",
       "if (notebookContainer) {{\n",
       "    x.observe(notebookContainer, {childList: true});\n",
       "}}\n",
       "\n",
       "// Listen for the clearing of the current output cell\n",
       "var outputEl = gd.closest('.output');\n",
       "if (outputEl) {{\n",
       "    x.observe(outputEl, {childList: true});\n",
       "}}\n",
       "\n",
       "                        })                };                });            </script>        </div>"
      ]
     },
     "metadata": {},
     "output_type": "display_data"
    }
   ],
   "source": [
    "# Построим график:\n",
    "event_names = ['Главный экран', 'Оффер', 'Корзина', 'Оплата']\n",
    "event_numbers = [main_screen, offer_screen, cart_screen, payment_screen]\n",
    "data_clean_funnel_graph = go.Figure()\n",
    "data_clean_funnel_graph.add_trace(\n",
    "    go.Funnel(\n",
    "        name = str(f'Воронка продаж'),\n",
    "        y = event_names,\n",
    "        x = event_numbers,\n",
    "        textinfo = \"value+percent initial\"\n",
    "        )\n",
    "    )\n",
    "\n",
    "data_clean_funnel_graph.show()"
   ]
  },
  {
   "cell_type": "code",
   "execution_count": 48,
   "metadata": {
    "scrolled": true
   },
   "outputs": [
    {
     "name": "stdout",
     "output_type": "stream",
     "text": [
      "Конверсия на каждом шаге составляет:\n",
      "Этап \"Главный экран\": 100.0%\n",
      "Из этапа \"Главный экран\" в этап \"Оффер\": 56.5%\n",
      "Из этапа \"Оффер\" в этап \"Корзина\": 42.2%\n",
      "Из этапа \"Корзина\" в этап \"Оплата\": 25.7%\n"
     ]
    }
   ],
   "source": [
    "# Будем добавлять данные в датафрейм:\n",
    "step_conversion = {}\n",
    "# Создадим цикл для добавления шагов и конверсии:\n",
    "print('Конверсия на каждом шаге составляет:')\n",
    "for x in range(len(event_numbers)):\n",
    "    if x == 0: \n",
    "        step_conversion[event_names[0]] = 100\n",
    "        print(f'Этап \\\"{event_names[0]}\\\": 100.0%')\n",
    "    else:\n",
    "        conversion = round((event_numbers[x] / event_numbers[x - 1])*100, 1)\n",
    "        step_conversion[event_names[x]] = conversion\n",
    "        print(f'Из этапа \\\"{event_names[x - 1]}\\\" в ' + \n",
    "                f'этап \\\"{event_names[x]}\\\": ' + \n",
    "                f'{conversion}%')"
   ]
  },
  {
   "cell_type": "markdown",
   "metadata": {},
   "source": [
    "<font color=green> Хорошо.     </font>"
   ]
  },
  {
   "cell_type": "markdown",
   "metadata": {},
   "source": [
    "---\n",
    "<a href=\"#m4\">Наверх</a>\n",
    "\n",
    "<a name=\"step4_5\">4.5 На каком шаге теряете больше всего пользователей?</a>"
   ]
  },
  {
   "cell_type": "code",
   "execution_count": 49,
   "metadata": {},
   "outputs": [],
   "source": [
    "# Соберём данные по конверсии в датафрейм:\n",
    "conversion_df = pd.DataFrame.from_dict(step_conversion, orient='index', columns=['conversion'], dtype='float')"
   ]
  },
  {
   "cell_type": "code",
   "execution_count": 50,
   "metadata": {},
   "outputs": [
    {
     "data": {
      "text/html": [
       "<div>\n",
       "<style scoped>\n",
       "    .dataframe tbody tr th:only-of-type {\n",
       "        vertical-align: middle;\n",
       "    }\n",
       "\n",
       "    .dataframe tbody tr th {\n",
       "        vertical-align: top;\n",
       "    }\n",
       "\n",
       "    .dataframe thead th {\n",
       "        text-align: right;\n",
       "    }\n",
       "</style>\n",
       "<table border=\"1\" class=\"dataframe\">\n",
       "  <thead>\n",
       "    <tr style=\"text-align: right;\">\n",
       "      <th></th>\n",
       "      <th>conversion</th>\n",
       "    </tr>\n",
       "  </thead>\n",
       "  <tbody>\n",
       "    <tr>\n",
       "      <th>Оплата</th>\n",
       "      <td>25.7</td>\n",
       "    </tr>\n",
       "  </tbody>\n",
       "</table>\n",
       "</div>"
      ],
      "text/plain": [
       "        conversion\n",
       "Оплата        25.7"
      ]
     },
     "execution_count": 50,
     "metadata": {},
     "output_type": "execute_result"
    }
   ],
   "source": [
    "conversion_df[conversion_df['conversion'] == conversion_df['conversion'].min()]"
   ]
  },
  {
   "cell_type": "markdown",
   "metadata": {},
   "source": [
    "Самая низкая конверсия – на шаге от добавления в корзину до экрана успешной оплаты.\n",
    "\n",
    "---\n",
    "<a href=\"#m4\">Наверх</a>\n",
    "\n",
    "<a name=\"step4_6\">4.6 Какая доля пользователей доходит от первого события до оплаты?</a>"
   ]
  },
  {
   "cell_type": "code",
   "execution_count": 51,
   "metadata": {},
   "outputs": [
    {
     "name": "stdout",
     "output_type": "stream",
     "text": [
      "От первого события до оплаты проходит 6.1% пользователей\n"
     ]
    }
   ],
   "source": [
    "print(f'От первого события до оплаты проходит {round((payment_screen / main_screen) * 100, 1)}% пользователей')"
   ]
  },
  {
   "cell_type": "markdown",
   "metadata": {},
   "source": [
    "Таким образом мы посмотрели отсортированную воронку событий, где есть вхождение пользователей в каждый предыдущий этап."
   ]
  },
  {
   "cell_type": "markdown",
   "metadata": {},
   "source": [
    "---\n",
    "<a name=\"step5\"></a>\n",
    "<a href=\"#m5\">Наверх</a>\n",
    "\n",
    "<h1>Шаг 5. Изучите результаты эксперимента</h1>"
   ]
  },
  {
   "cell_type": "code",
   "execution_count": 52,
   "metadata": {},
   "outputs": [],
   "source": [
    "# Соберём соттветствующие датафреймы:\n",
    "\n",
    "# Создадим фильтр таблицы через по мультииндексу:\n",
    "exp_id246 = np.in1d(users.index.get_level_values(1), [246]) \n",
    "exp_id247 = np.in1d(users.index.get_level_values(1), [247])\n",
    "exp_id248 = np.in1d(users.index.get_level_values(1), [248])\n",
    "\n",
    "# Разобьём данные по экспериментам:\n",
    "main_screen_246 = users[step_1 & exp_id246].shape[0]\n",
    "offer_screen_246 = users[step_2 & exp_id246].shape[0]\n",
    "cart_screen_246 = users[step_3 & exp_id246].shape[0]\n",
    "payment_screen_246 = users[step_4 & exp_id246].shape[0]\n",
    "\n",
    "main_screen_247 = users[step_1 & exp_id247].shape[0]\n",
    "offer_screen_247 = users[step_2 & exp_id247].shape[0]\n",
    "cart_screen_247 = users[step_3 & exp_id247].shape[0]\n",
    "payment_screen_247 = users[step_4 & exp_id247].shape[0]\n",
    "\n",
    "main_screen_248 = users[step_1 & exp_id248].shape[0]\n",
    "offer_screen_248 = users[step_2 & exp_id248].shape[0]\n",
    "cart_screen_248 = users[step_3 & exp_id248].shape[0]\n",
    "payment_screen_248 = users[step_4 & exp_id246].shape[0]"
   ]
  },
  {
   "cell_type": "markdown",
   "metadata": {},
   "source": [
    "Вниз <a href=\"#step5_2_b\">5.2.B</a>\n",
    "<a href=\"#step5_2_c\">5.2.C</a>\n",
    "<a href=\"#step5_2_d\">5.2.D</a>\n",
    "<a href=\"#step5_2_e\">5.2.E</a>\n",
    "<a href=\"#step5_2_f\">5.2.F</a>"
   ]
  },
  {
   "cell_type": "markdown",
   "metadata": {},
   "source": [
    "---\n",
    "<a name=\"step5_1\"></a>\n",
    "<a href=\"#m5\">Наверх</a>\n",
    "\n",
    "<h3>5.1 Сколько пользователей в каждой экспериментальной группе?</h3>"
   ]
  },
  {
   "cell_type": "code",
   "execution_count": 53,
   "metadata": {
    "scrolled": true
   },
   "outputs": [
    {
     "name": "stdout",
     "output_type": "stream",
     "text": [
      "В группах следующее количество пользователей:\n",
      "в группе 246 – 2438 пользователей,\n",
      "в группе 247 – 2471 пользователей \n",
      "и в группе 248 – 2475 пользователей.\n"
     ]
    }
   ],
   "source": [
    "print(f'В группах следующее количество пользователей:\\n'\n",
    "      f'в группе 246 – {main_screen_246} пользователей,\\n'\n",
    "      f'в группе 247 – {main_screen_247} пользователей \\n' \n",
    "      f'и в группе 248 – {main_screen_248} пользователей.')"
   ]
  },
  {
   "cell_type": "code",
   "execution_count": 54,
   "metadata": {},
   "outputs": [
    {
     "data": {
      "application/vnd.plotly.v1+json": {
       "config": {
        "plotlyServerURL": "https://plot.ly"
       },
       "data": [
        {
         "name": "Эксперимент 246",
         "textinfo": "value+percent initial",
         "textposition": "auto",
         "type": "funnel",
         "x": [
          2438,
          1399,
          581,
          143
         ],
         "y": [
          "Главный экран",
          "Оффер",
          "Корзина",
          "Оплата"
         ]
        },
        {
         "name": "Эксперимент 247",
         "textinfo": "value+percent initial",
         "type": "funnel",
         "x": [
          2471,
          1376,
          600,
          145
         ],
         "y": [
          "Главный экран",
          "Оффер",
          "Корзина",
          "Оплата"
         ]
        },
        {
         "name": "Эксперимент 248",
         "textinfo": "value+percent initial",
         "type": "funnel",
         "x": [
          2475,
          1398,
          582,
          143
         ],
         "y": [
          "Главный экран",
          "Оффер",
          "Корзина",
          "Оплата"
         ]
        }
       ],
       "layout": {
        "template": {
         "data": {
          "bar": [
           {
            "error_x": {
             "color": "#2a3f5f"
            },
            "error_y": {
             "color": "#2a3f5f"
            },
            "marker": {
             "line": {
              "color": "#E5ECF6",
              "width": 0.5
             },
             "pattern": {
              "fillmode": "overlay",
              "size": 10,
              "solidity": 0.2
             }
            },
            "type": "bar"
           }
          ],
          "barpolar": [
           {
            "marker": {
             "line": {
              "color": "#E5ECF6",
              "width": 0.5
             },
             "pattern": {
              "fillmode": "overlay",
              "size": 10,
              "solidity": 0.2
             }
            },
            "type": "barpolar"
           }
          ],
          "carpet": [
           {
            "aaxis": {
             "endlinecolor": "#2a3f5f",
             "gridcolor": "white",
             "linecolor": "white",
             "minorgridcolor": "white",
             "startlinecolor": "#2a3f5f"
            },
            "baxis": {
             "endlinecolor": "#2a3f5f",
             "gridcolor": "white",
             "linecolor": "white",
             "minorgridcolor": "white",
             "startlinecolor": "#2a3f5f"
            },
            "type": "carpet"
           }
          ],
          "choropleth": [
           {
            "colorbar": {
             "outlinewidth": 0,
             "ticks": ""
            },
            "type": "choropleth"
           }
          ],
          "contour": [
           {
            "colorbar": {
             "outlinewidth": 0,
             "ticks": ""
            },
            "colorscale": [
             [
              0,
              "#0d0887"
             ],
             [
              0.1111111111111111,
              "#46039f"
             ],
             [
              0.2222222222222222,
              "#7201a8"
             ],
             [
              0.3333333333333333,
              "#9c179e"
             ],
             [
              0.4444444444444444,
              "#bd3786"
             ],
             [
              0.5555555555555556,
              "#d8576b"
             ],
             [
              0.6666666666666666,
              "#ed7953"
             ],
             [
              0.7777777777777778,
              "#fb9f3a"
             ],
             [
              0.8888888888888888,
              "#fdca26"
             ],
             [
              1,
              "#f0f921"
             ]
            ],
            "type": "contour"
           }
          ],
          "contourcarpet": [
           {
            "colorbar": {
             "outlinewidth": 0,
             "ticks": ""
            },
            "type": "contourcarpet"
           }
          ],
          "heatmap": [
           {
            "colorbar": {
             "outlinewidth": 0,
             "ticks": ""
            },
            "colorscale": [
             [
              0,
              "#0d0887"
             ],
             [
              0.1111111111111111,
              "#46039f"
             ],
             [
              0.2222222222222222,
              "#7201a8"
             ],
             [
              0.3333333333333333,
              "#9c179e"
             ],
             [
              0.4444444444444444,
              "#bd3786"
             ],
             [
              0.5555555555555556,
              "#d8576b"
             ],
             [
              0.6666666666666666,
              "#ed7953"
             ],
             [
              0.7777777777777778,
              "#fb9f3a"
             ],
             [
              0.8888888888888888,
              "#fdca26"
             ],
             [
              1,
              "#f0f921"
             ]
            ],
            "type": "heatmap"
           }
          ],
          "heatmapgl": [
           {
            "colorbar": {
             "outlinewidth": 0,
             "ticks": ""
            },
            "colorscale": [
             [
              0,
              "#0d0887"
             ],
             [
              0.1111111111111111,
              "#46039f"
             ],
             [
              0.2222222222222222,
              "#7201a8"
             ],
             [
              0.3333333333333333,
              "#9c179e"
             ],
             [
              0.4444444444444444,
              "#bd3786"
             ],
             [
              0.5555555555555556,
              "#d8576b"
             ],
             [
              0.6666666666666666,
              "#ed7953"
             ],
             [
              0.7777777777777778,
              "#fb9f3a"
             ],
             [
              0.8888888888888888,
              "#fdca26"
             ],
             [
              1,
              "#f0f921"
             ]
            ],
            "type": "heatmapgl"
           }
          ],
          "histogram": [
           {
            "marker": {
             "pattern": {
              "fillmode": "overlay",
              "size": 10,
              "solidity": 0.2
             }
            },
            "type": "histogram"
           }
          ],
          "histogram2d": [
           {
            "colorbar": {
             "outlinewidth": 0,
             "ticks": ""
            },
            "colorscale": [
             [
              0,
              "#0d0887"
             ],
             [
              0.1111111111111111,
              "#46039f"
             ],
             [
              0.2222222222222222,
              "#7201a8"
             ],
             [
              0.3333333333333333,
              "#9c179e"
             ],
             [
              0.4444444444444444,
              "#bd3786"
             ],
             [
              0.5555555555555556,
              "#d8576b"
             ],
             [
              0.6666666666666666,
              "#ed7953"
             ],
             [
              0.7777777777777778,
              "#fb9f3a"
             ],
             [
              0.8888888888888888,
              "#fdca26"
             ],
             [
              1,
              "#f0f921"
             ]
            ],
            "type": "histogram2d"
           }
          ],
          "histogram2dcontour": [
           {
            "colorbar": {
             "outlinewidth": 0,
             "ticks": ""
            },
            "colorscale": [
             [
              0,
              "#0d0887"
             ],
             [
              0.1111111111111111,
              "#46039f"
             ],
             [
              0.2222222222222222,
              "#7201a8"
             ],
             [
              0.3333333333333333,
              "#9c179e"
             ],
             [
              0.4444444444444444,
              "#bd3786"
             ],
             [
              0.5555555555555556,
              "#d8576b"
             ],
             [
              0.6666666666666666,
              "#ed7953"
             ],
             [
              0.7777777777777778,
              "#fb9f3a"
             ],
             [
              0.8888888888888888,
              "#fdca26"
             ],
             [
              1,
              "#f0f921"
             ]
            ],
            "type": "histogram2dcontour"
           }
          ],
          "mesh3d": [
           {
            "colorbar": {
             "outlinewidth": 0,
             "ticks": ""
            },
            "type": "mesh3d"
           }
          ],
          "parcoords": [
           {
            "line": {
             "colorbar": {
              "outlinewidth": 0,
              "ticks": ""
             }
            },
            "type": "parcoords"
           }
          ],
          "pie": [
           {
            "automargin": true,
            "type": "pie"
           }
          ],
          "scatter": [
           {
            "fillpattern": {
             "fillmode": "overlay",
             "size": 10,
             "solidity": 0.2
            },
            "type": "scatter"
           }
          ],
          "scatter3d": [
           {
            "line": {
             "colorbar": {
              "outlinewidth": 0,
              "ticks": ""
             }
            },
            "marker": {
             "colorbar": {
              "outlinewidth": 0,
              "ticks": ""
             }
            },
            "type": "scatter3d"
           }
          ],
          "scattercarpet": [
           {
            "marker": {
             "colorbar": {
              "outlinewidth": 0,
              "ticks": ""
             }
            },
            "type": "scattercarpet"
           }
          ],
          "scattergeo": [
           {
            "marker": {
             "colorbar": {
              "outlinewidth": 0,
              "ticks": ""
             }
            },
            "type": "scattergeo"
           }
          ],
          "scattergl": [
           {
            "marker": {
             "colorbar": {
              "outlinewidth": 0,
              "ticks": ""
             }
            },
            "type": "scattergl"
           }
          ],
          "scattermapbox": [
           {
            "marker": {
             "colorbar": {
              "outlinewidth": 0,
              "ticks": ""
             }
            },
            "type": "scattermapbox"
           }
          ],
          "scatterpolar": [
           {
            "marker": {
             "colorbar": {
              "outlinewidth": 0,
              "ticks": ""
             }
            },
            "type": "scatterpolar"
           }
          ],
          "scatterpolargl": [
           {
            "marker": {
             "colorbar": {
              "outlinewidth": 0,
              "ticks": ""
             }
            },
            "type": "scatterpolargl"
           }
          ],
          "scatterternary": [
           {
            "marker": {
             "colorbar": {
              "outlinewidth": 0,
              "ticks": ""
             }
            },
            "type": "scatterternary"
           }
          ],
          "surface": [
           {
            "colorbar": {
             "outlinewidth": 0,
             "ticks": ""
            },
            "colorscale": [
             [
              0,
              "#0d0887"
             ],
             [
              0.1111111111111111,
              "#46039f"
             ],
             [
              0.2222222222222222,
              "#7201a8"
             ],
             [
              0.3333333333333333,
              "#9c179e"
             ],
             [
              0.4444444444444444,
              "#bd3786"
             ],
             [
              0.5555555555555556,
              "#d8576b"
             ],
             [
              0.6666666666666666,
              "#ed7953"
             ],
             [
              0.7777777777777778,
              "#fb9f3a"
             ],
             [
              0.8888888888888888,
              "#fdca26"
             ],
             [
              1,
              "#f0f921"
             ]
            ],
            "type": "surface"
           }
          ],
          "table": [
           {
            "cells": {
             "fill": {
              "color": "#EBF0F8"
             },
             "line": {
              "color": "white"
             }
            },
            "header": {
             "fill": {
              "color": "#C8D4E3"
             },
             "line": {
              "color": "white"
             }
            },
            "type": "table"
           }
          ]
         },
         "layout": {
          "annotationdefaults": {
           "arrowcolor": "#2a3f5f",
           "arrowhead": 0,
           "arrowwidth": 1
          },
          "autotypenumbers": "strict",
          "coloraxis": {
           "colorbar": {
            "outlinewidth": 0,
            "ticks": ""
           }
          },
          "colorscale": {
           "diverging": [
            [
             0,
             "#8e0152"
            ],
            [
             0.1,
             "#c51b7d"
            ],
            [
             0.2,
             "#de77ae"
            ],
            [
             0.3,
             "#f1b6da"
            ],
            [
             0.4,
             "#fde0ef"
            ],
            [
             0.5,
             "#f7f7f7"
            ],
            [
             0.6,
             "#e6f5d0"
            ],
            [
             0.7,
             "#b8e186"
            ],
            [
             0.8,
             "#7fbc41"
            ],
            [
             0.9,
             "#4d9221"
            ],
            [
             1,
             "#276419"
            ]
           ],
           "sequential": [
            [
             0,
             "#0d0887"
            ],
            [
             0.1111111111111111,
             "#46039f"
            ],
            [
             0.2222222222222222,
             "#7201a8"
            ],
            [
             0.3333333333333333,
             "#9c179e"
            ],
            [
             0.4444444444444444,
             "#bd3786"
            ],
            [
             0.5555555555555556,
             "#d8576b"
            ],
            [
             0.6666666666666666,
             "#ed7953"
            ],
            [
             0.7777777777777778,
             "#fb9f3a"
            ],
            [
             0.8888888888888888,
             "#fdca26"
            ],
            [
             1,
             "#f0f921"
            ]
           ],
           "sequentialminus": [
            [
             0,
             "#0d0887"
            ],
            [
             0.1111111111111111,
             "#46039f"
            ],
            [
             0.2222222222222222,
             "#7201a8"
            ],
            [
             0.3333333333333333,
             "#9c179e"
            ],
            [
             0.4444444444444444,
             "#bd3786"
            ],
            [
             0.5555555555555556,
             "#d8576b"
            ],
            [
             0.6666666666666666,
             "#ed7953"
            ],
            [
             0.7777777777777778,
             "#fb9f3a"
            ],
            [
             0.8888888888888888,
             "#fdca26"
            ],
            [
             1,
             "#f0f921"
            ]
           ]
          },
          "colorway": [
           "#636efa",
           "#EF553B",
           "#00cc96",
           "#ab63fa",
           "#FFA15A",
           "#19d3f3",
           "#FF6692",
           "#B6E880",
           "#FF97FF",
           "#FECB52"
          ],
          "font": {
           "color": "#2a3f5f"
          },
          "geo": {
           "bgcolor": "white",
           "lakecolor": "white",
           "landcolor": "#E5ECF6",
           "showlakes": true,
           "showland": true,
           "subunitcolor": "white"
          },
          "hoverlabel": {
           "align": "left"
          },
          "hovermode": "closest",
          "mapbox": {
           "style": "light"
          },
          "paper_bgcolor": "white",
          "plot_bgcolor": "#E5ECF6",
          "polar": {
           "angularaxis": {
            "gridcolor": "white",
            "linecolor": "white",
            "ticks": ""
           },
           "bgcolor": "#E5ECF6",
           "radialaxis": {
            "gridcolor": "white",
            "linecolor": "white",
            "ticks": ""
           }
          },
          "scene": {
           "xaxis": {
            "backgroundcolor": "#E5ECF6",
            "gridcolor": "white",
            "gridwidth": 2,
            "linecolor": "white",
            "showbackground": true,
            "ticks": "",
            "zerolinecolor": "white"
           },
           "yaxis": {
            "backgroundcolor": "#E5ECF6",
            "gridcolor": "white",
            "gridwidth": 2,
            "linecolor": "white",
            "showbackground": true,
            "ticks": "",
            "zerolinecolor": "white"
           },
           "zaxis": {
            "backgroundcolor": "#E5ECF6",
            "gridcolor": "white",
            "gridwidth": 2,
            "linecolor": "white",
            "showbackground": true,
            "ticks": "",
            "zerolinecolor": "white"
           }
          },
          "shapedefaults": {
           "line": {
            "color": "#2a3f5f"
           }
          },
          "ternary": {
           "aaxis": {
            "gridcolor": "white",
            "linecolor": "white",
            "ticks": ""
           },
           "baxis": {
            "gridcolor": "white",
            "linecolor": "white",
            "ticks": ""
           },
           "bgcolor": "#E5ECF6",
           "caxis": {
            "gridcolor": "white",
            "linecolor": "white",
            "ticks": ""
           }
          },
          "title": {
           "x": 0.05
          },
          "xaxis": {
           "automargin": true,
           "gridcolor": "white",
           "linecolor": "white",
           "ticks": "",
           "title": {
            "standoff": 15
           },
           "zerolinecolor": "white",
           "zerolinewidth": 2
          },
          "yaxis": {
           "automargin": true,
           "gridcolor": "white",
           "linecolor": "white",
           "ticks": "",
           "title": {
            "standoff": 15
           },
           "zerolinecolor": "white",
           "zerolinewidth": 2
          }
         }
        }
       }
      },
      "text/html": [
       "<div>                            <div id=\"9a9f01d8-43d4-4d6c-a87d-c4a8ab05cbe5\" class=\"plotly-graph-div\" style=\"height:525px; width:100%;\"></div>            <script type=\"text/javascript\">                require([\"plotly\"], function(Plotly) {                    window.PLOTLYENV=window.PLOTLYENV || {};                                    if (document.getElementById(\"9a9f01d8-43d4-4d6c-a87d-c4a8ab05cbe5\")) {                    Plotly.newPlot(                        \"9a9f01d8-43d4-4d6c-a87d-c4a8ab05cbe5\",                        [{\"name\":\"\\u042d\\u043a\\u0441\\u043f\\u0435\\u0440\\u0438\\u043c\\u0435\\u043d\\u0442 246\",\"textinfo\":\"value+percent initial\",\"textposition\":\"auto\",\"x\":[2438,1399,581,143],\"y\":[\"\\u0413\\u043b\\u0430\\u0432\\u043d\\u044b\\u0439 \\u044d\\u043a\\u0440\\u0430\\u043d\",\"\\u041e\\u0444\\u0444\\u0435\\u0440\",\"\\u041a\\u043e\\u0440\\u0437\\u0438\\u043d\\u0430\",\"\\u041e\\u043f\\u043b\\u0430\\u0442\\u0430\"],\"type\":\"funnel\"},{\"name\":\"\\u042d\\u043a\\u0441\\u043f\\u0435\\u0440\\u0438\\u043c\\u0435\\u043d\\u0442 247\",\"textinfo\":\"value+percent initial\",\"x\":[2471,1376,600,145],\"y\":[\"\\u0413\\u043b\\u0430\\u0432\\u043d\\u044b\\u0439 \\u044d\\u043a\\u0440\\u0430\\u043d\",\"\\u041e\\u0444\\u0444\\u0435\\u0440\",\"\\u041a\\u043e\\u0440\\u0437\\u0438\\u043d\\u0430\",\"\\u041e\\u043f\\u043b\\u0430\\u0442\\u0430\"],\"type\":\"funnel\"},{\"name\":\"\\u042d\\u043a\\u0441\\u043f\\u0435\\u0440\\u0438\\u043c\\u0435\\u043d\\u0442 248\",\"textinfo\":\"value+percent initial\",\"x\":[2475,1398,582,143],\"y\":[\"\\u0413\\u043b\\u0430\\u0432\\u043d\\u044b\\u0439 \\u044d\\u043a\\u0440\\u0430\\u043d\",\"\\u041e\\u0444\\u0444\\u0435\\u0440\",\"\\u041a\\u043e\\u0440\\u0437\\u0438\\u043d\\u0430\",\"\\u041e\\u043f\\u043b\\u0430\\u0442\\u0430\"],\"type\":\"funnel\"}],                        {\"template\":{\"data\":{\"histogram2dcontour\":[{\"type\":\"histogram2dcontour\",\"colorbar\":{\"outlinewidth\":0,\"ticks\":\"\"},\"colorscale\":[[0.0,\"#0d0887\"],[0.1111111111111111,\"#46039f\"],[0.2222222222222222,\"#7201a8\"],[0.3333333333333333,\"#9c179e\"],[0.4444444444444444,\"#bd3786\"],[0.5555555555555556,\"#d8576b\"],[0.6666666666666666,\"#ed7953\"],[0.7777777777777778,\"#fb9f3a\"],[0.8888888888888888,\"#fdca26\"],[1.0,\"#f0f921\"]]}],\"choropleth\":[{\"type\":\"choropleth\",\"colorbar\":{\"outlinewidth\":0,\"ticks\":\"\"}}],\"histogram2d\":[{\"type\":\"histogram2d\",\"colorbar\":{\"outlinewidth\":0,\"ticks\":\"\"},\"colorscale\":[[0.0,\"#0d0887\"],[0.1111111111111111,\"#46039f\"],[0.2222222222222222,\"#7201a8\"],[0.3333333333333333,\"#9c179e\"],[0.4444444444444444,\"#bd3786\"],[0.5555555555555556,\"#d8576b\"],[0.6666666666666666,\"#ed7953\"],[0.7777777777777778,\"#fb9f3a\"],[0.8888888888888888,\"#fdca26\"],[1.0,\"#f0f921\"]]}],\"heatmap\":[{\"type\":\"heatmap\",\"colorbar\":{\"outlinewidth\":0,\"ticks\":\"\"},\"colorscale\":[[0.0,\"#0d0887\"],[0.1111111111111111,\"#46039f\"],[0.2222222222222222,\"#7201a8\"],[0.3333333333333333,\"#9c179e\"],[0.4444444444444444,\"#bd3786\"],[0.5555555555555556,\"#d8576b\"],[0.6666666666666666,\"#ed7953\"],[0.7777777777777778,\"#fb9f3a\"],[0.8888888888888888,\"#fdca26\"],[1.0,\"#f0f921\"]]}],\"heatmapgl\":[{\"type\":\"heatmapgl\",\"colorbar\":{\"outlinewidth\":0,\"ticks\":\"\"},\"colorscale\":[[0.0,\"#0d0887\"],[0.1111111111111111,\"#46039f\"],[0.2222222222222222,\"#7201a8\"],[0.3333333333333333,\"#9c179e\"],[0.4444444444444444,\"#bd3786\"],[0.5555555555555556,\"#d8576b\"],[0.6666666666666666,\"#ed7953\"],[0.7777777777777778,\"#fb9f3a\"],[0.8888888888888888,\"#fdca26\"],[1.0,\"#f0f921\"]]}],\"contourcarpet\":[{\"type\":\"contourcarpet\",\"colorbar\":{\"outlinewidth\":0,\"ticks\":\"\"}}],\"contour\":[{\"type\":\"contour\",\"colorbar\":{\"outlinewidth\":0,\"ticks\":\"\"},\"colorscale\":[[0.0,\"#0d0887\"],[0.1111111111111111,\"#46039f\"],[0.2222222222222222,\"#7201a8\"],[0.3333333333333333,\"#9c179e\"],[0.4444444444444444,\"#bd3786\"],[0.5555555555555556,\"#d8576b\"],[0.6666666666666666,\"#ed7953\"],[0.7777777777777778,\"#fb9f3a\"],[0.8888888888888888,\"#fdca26\"],[1.0,\"#f0f921\"]]}],\"surface\":[{\"type\":\"surface\",\"colorbar\":{\"outlinewidth\":0,\"ticks\":\"\"},\"colorscale\":[[0.0,\"#0d0887\"],[0.1111111111111111,\"#46039f\"],[0.2222222222222222,\"#7201a8\"],[0.3333333333333333,\"#9c179e\"],[0.4444444444444444,\"#bd3786\"],[0.5555555555555556,\"#d8576b\"],[0.6666666666666666,\"#ed7953\"],[0.7777777777777778,\"#fb9f3a\"],[0.8888888888888888,\"#fdca26\"],[1.0,\"#f0f921\"]]}],\"mesh3d\":[{\"type\":\"mesh3d\",\"colorbar\":{\"outlinewidth\":0,\"ticks\":\"\"}}],\"scatter\":[{\"fillpattern\":{\"fillmode\":\"overlay\",\"size\":10,\"solidity\":0.2},\"type\":\"scatter\"}],\"parcoords\":[{\"type\":\"parcoords\",\"line\":{\"colorbar\":{\"outlinewidth\":0,\"ticks\":\"\"}}}],\"scatterpolargl\":[{\"type\":\"scatterpolargl\",\"marker\":{\"colorbar\":{\"outlinewidth\":0,\"ticks\":\"\"}}}],\"bar\":[{\"error_x\":{\"color\":\"#2a3f5f\"},\"error_y\":{\"color\":\"#2a3f5f\"},\"marker\":{\"line\":{\"color\":\"#E5ECF6\",\"width\":0.5},\"pattern\":{\"fillmode\":\"overlay\",\"size\":10,\"solidity\":0.2}},\"type\":\"bar\"}],\"scattergeo\":[{\"type\":\"scattergeo\",\"marker\":{\"colorbar\":{\"outlinewidth\":0,\"ticks\":\"\"}}}],\"scatterpolar\":[{\"type\":\"scatterpolar\",\"marker\":{\"colorbar\":{\"outlinewidth\":0,\"ticks\":\"\"}}}],\"histogram\":[{\"marker\":{\"pattern\":{\"fillmode\":\"overlay\",\"size\":10,\"solidity\":0.2}},\"type\":\"histogram\"}],\"scattergl\":[{\"type\":\"scattergl\",\"marker\":{\"colorbar\":{\"outlinewidth\":0,\"ticks\":\"\"}}}],\"scatter3d\":[{\"type\":\"scatter3d\",\"line\":{\"colorbar\":{\"outlinewidth\":0,\"ticks\":\"\"}},\"marker\":{\"colorbar\":{\"outlinewidth\":0,\"ticks\":\"\"}}}],\"scattermapbox\":[{\"type\":\"scattermapbox\",\"marker\":{\"colorbar\":{\"outlinewidth\":0,\"ticks\":\"\"}}}],\"scatterternary\":[{\"type\":\"scatterternary\",\"marker\":{\"colorbar\":{\"outlinewidth\":0,\"ticks\":\"\"}}}],\"scattercarpet\":[{\"type\":\"scattercarpet\",\"marker\":{\"colorbar\":{\"outlinewidth\":0,\"ticks\":\"\"}}}],\"carpet\":[{\"aaxis\":{\"endlinecolor\":\"#2a3f5f\",\"gridcolor\":\"white\",\"linecolor\":\"white\",\"minorgridcolor\":\"white\",\"startlinecolor\":\"#2a3f5f\"},\"baxis\":{\"endlinecolor\":\"#2a3f5f\",\"gridcolor\":\"white\",\"linecolor\":\"white\",\"minorgridcolor\":\"white\",\"startlinecolor\":\"#2a3f5f\"},\"type\":\"carpet\"}],\"table\":[{\"cells\":{\"fill\":{\"color\":\"#EBF0F8\"},\"line\":{\"color\":\"white\"}},\"header\":{\"fill\":{\"color\":\"#C8D4E3\"},\"line\":{\"color\":\"white\"}},\"type\":\"table\"}],\"barpolar\":[{\"marker\":{\"line\":{\"color\":\"#E5ECF6\",\"width\":0.5},\"pattern\":{\"fillmode\":\"overlay\",\"size\":10,\"solidity\":0.2}},\"type\":\"barpolar\"}],\"pie\":[{\"automargin\":true,\"type\":\"pie\"}]},\"layout\":{\"autotypenumbers\":\"strict\",\"colorway\":[\"#636efa\",\"#EF553B\",\"#00cc96\",\"#ab63fa\",\"#FFA15A\",\"#19d3f3\",\"#FF6692\",\"#B6E880\",\"#FF97FF\",\"#FECB52\"],\"font\":{\"color\":\"#2a3f5f\"},\"hovermode\":\"closest\",\"hoverlabel\":{\"align\":\"left\"},\"paper_bgcolor\":\"white\",\"plot_bgcolor\":\"#E5ECF6\",\"polar\":{\"bgcolor\":\"#E5ECF6\",\"angularaxis\":{\"gridcolor\":\"white\",\"linecolor\":\"white\",\"ticks\":\"\"},\"radialaxis\":{\"gridcolor\":\"white\",\"linecolor\":\"white\",\"ticks\":\"\"}},\"ternary\":{\"bgcolor\":\"#E5ECF6\",\"aaxis\":{\"gridcolor\":\"white\",\"linecolor\":\"white\",\"ticks\":\"\"},\"baxis\":{\"gridcolor\":\"white\",\"linecolor\":\"white\",\"ticks\":\"\"},\"caxis\":{\"gridcolor\":\"white\",\"linecolor\":\"white\",\"ticks\":\"\"}},\"coloraxis\":{\"colorbar\":{\"outlinewidth\":0,\"ticks\":\"\"}},\"colorscale\":{\"sequential\":[[0.0,\"#0d0887\"],[0.1111111111111111,\"#46039f\"],[0.2222222222222222,\"#7201a8\"],[0.3333333333333333,\"#9c179e\"],[0.4444444444444444,\"#bd3786\"],[0.5555555555555556,\"#d8576b\"],[0.6666666666666666,\"#ed7953\"],[0.7777777777777778,\"#fb9f3a\"],[0.8888888888888888,\"#fdca26\"],[1.0,\"#f0f921\"]],\"sequentialminus\":[[0.0,\"#0d0887\"],[0.1111111111111111,\"#46039f\"],[0.2222222222222222,\"#7201a8\"],[0.3333333333333333,\"#9c179e\"],[0.4444444444444444,\"#bd3786\"],[0.5555555555555556,\"#d8576b\"],[0.6666666666666666,\"#ed7953\"],[0.7777777777777778,\"#fb9f3a\"],[0.8888888888888888,\"#fdca26\"],[1.0,\"#f0f921\"]],\"diverging\":[[0,\"#8e0152\"],[0.1,\"#c51b7d\"],[0.2,\"#de77ae\"],[0.3,\"#f1b6da\"],[0.4,\"#fde0ef\"],[0.5,\"#f7f7f7\"],[0.6,\"#e6f5d0\"],[0.7,\"#b8e186\"],[0.8,\"#7fbc41\"],[0.9,\"#4d9221\"],[1,\"#276419\"]]},\"xaxis\":{\"gridcolor\":\"white\",\"linecolor\":\"white\",\"ticks\":\"\",\"title\":{\"standoff\":15},\"zerolinecolor\":\"white\",\"automargin\":true,\"zerolinewidth\":2},\"yaxis\":{\"gridcolor\":\"white\",\"linecolor\":\"white\",\"ticks\":\"\",\"title\":{\"standoff\":15},\"zerolinecolor\":\"white\",\"automargin\":true,\"zerolinewidth\":2},\"scene\":{\"xaxis\":{\"backgroundcolor\":\"#E5ECF6\",\"gridcolor\":\"white\",\"linecolor\":\"white\",\"showbackground\":true,\"ticks\":\"\",\"zerolinecolor\":\"white\",\"gridwidth\":2},\"yaxis\":{\"backgroundcolor\":\"#E5ECF6\",\"gridcolor\":\"white\",\"linecolor\":\"white\",\"showbackground\":true,\"ticks\":\"\",\"zerolinecolor\":\"white\",\"gridwidth\":2},\"zaxis\":{\"backgroundcolor\":\"#E5ECF6\",\"gridcolor\":\"white\",\"linecolor\":\"white\",\"showbackground\":true,\"ticks\":\"\",\"zerolinecolor\":\"white\",\"gridwidth\":2}},\"shapedefaults\":{\"line\":{\"color\":\"#2a3f5f\"}},\"annotationdefaults\":{\"arrowcolor\":\"#2a3f5f\",\"arrowhead\":0,\"arrowwidth\":1},\"geo\":{\"bgcolor\":\"white\",\"landcolor\":\"#E5ECF6\",\"subunitcolor\":\"white\",\"showland\":true,\"showlakes\":true,\"lakecolor\":\"white\"},\"title\":{\"x\":0.05},\"mapbox\":{\"style\":\"light\"}}}},                        {\"responsive\": true}                    ).then(function(){\n",
       "                            \n",
       "var gd = document.getElementById('9a9f01d8-43d4-4d6c-a87d-c4a8ab05cbe5');\n",
       "var x = new MutationObserver(function (mutations, observer) {{\n",
       "        var display = window.getComputedStyle(gd).display;\n",
       "        if (!display || display === 'none') {{\n",
       "            console.log([gd, 'removed!']);\n",
       "            Plotly.purge(gd);\n",
       "            observer.disconnect();\n",
       "        }}\n",
       "}});\n",
       "\n",
       "// Listen for the removal of the full notebook cells\n",
       "var notebookContainer = gd.closest('#notebook-container');\n",
       "if (notebookContainer) {{\n",
       "    x.observe(notebookContainer, {childList: true});\n",
       "}}\n",
       "\n",
       "// Listen for the clearing of the current output cell\n",
       "var outputEl = gd.closest('.output');\n",
       "if (outputEl) {{\n",
       "    x.observe(outputEl, {childList: true});\n",
       "}}\n",
       "\n",
       "                        })                };                });            </script>        </div>"
      ]
     },
     "metadata": {},
     "output_type": "display_data"
    }
   ],
   "source": [
    "# Построим график:\n",
    "event_names = ['Главный экран', 'Оффер', 'Корзина', 'Оплата']\n",
    "event_numbers_246 = [main_screen_246, offer_screen_246, cart_screen_246, payment_screen_246]\n",
    "event_numbers_247 = [main_screen_247, offer_screen_247, cart_screen_247, payment_screen_247]\n",
    "event_numbers_248 = [main_screen_248, offer_screen_248, cart_screen_248, payment_screen_248]\n",
    "\n",
    "# Определим график:\n",
    "data_clean_funnel_graph_by_exp = go.Figure()\n",
    "\n",
    "# Добавим части воронки:\n",
    "data_clean_funnel_graph_by_exp.add_trace(\n",
    "    go.Funnel(\n",
    "        name = str(f'Эксперимент 246'),\n",
    "        y = event_names,\n",
    "        x = event_numbers_246,\n",
    "        textposition = \"auto\",        \n",
    "        textinfo = \"value+percent initial\"\n",
    "        )\n",
    "    )\n",
    "\n",
    "data_clean_funnel_graph_by_exp.add_trace(\n",
    "    go.Funnel(\n",
    "        name = str(f'Эксперимент 247'),\n",
    "        y = event_names,\n",
    "        x = event_numbers_247,\n",
    "        textinfo = \"value+percent initial\"\n",
    "        )\n",
    "    )\n",
    "\n",
    "data_clean_funnel_graph_by_exp.add_trace(\n",
    "    go.Funnel(\n",
    "        name = str(f'Эксперимент 248'),\n",
    "        y = event_names,\n",
    "        x = event_numbers_248,\n",
    "        textinfo = \"value+percent initial\"\n",
    "        )\n",
    "    )\n",
    "\n",
    "data_clean_funnel_graph_by_exp.show()"
   ]
  },
  {
   "cell_type": "markdown",
   "metadata": {},
   "source": [
    "<font color=green> Отлично.     </font>"
   ]
  },
  {
   "cell_type": "markdown",
   "metadata": {},
   "source": [
    "<a href=\"#step5_5\">Вниз к шагу 5.5</a>"
   ]
  },
  {
   "cell_type": "markdown",
   "metadata": {},
   "source": [
    "---\n",
    "<a name=\"step5_2\"></a>\n",
    "<a href=\"#m5\">Наверх</a> > <a href=\"#step5\">Шаг 5</a> > Шаг 5.2\n",
    "\n",
    "<h2>5.2 Две контрольные группы для А/А-эксперимента</h2>\n",
    "\n",
    "<a name=\"step5_2\">Есть 2 контрольные группы для А/А-эксперимента, чтобы проверить корректность всех механизмов и расчётов.</a>\n",
    "<br>Проверьте, находят ли статистические критерии разницу между выборками 246 и 247.\n",
    "\n",
    "\n",
    "\n",
    "---\n",
    "<a name=\"step5_2_a\"></a>\n",
    "<a href=\"#m5\">Наверх</a> > <a href=\"#step5\">Шаг 5</a> > <a href=\"#step5_2\">Шаг 5.2</a> > 5.2.A\n",
    "\n",
    "<h3>5.2.A Выберите самое популярное событие.</h3>\n",
    "\n",
    "Исходя из воронки, самое популярное событие - срабатывание на главном экране (MainScreenAppear)"
   ]
  },
  {
   "cell_type": "markdown",
   "metadata": {},
   "source": [
    "---\n",
    "<a name=\"step5_2_b\"></a>\n",
    "<a href=\"#m5\">Наверх</a> > <a href=\"#step5\">Шаг 5</a> > <a href=\"#step5_2\">Шаг 5.2</a> > 5.2.B\n",
    "\n",
    "<h3>5.2.B Посчитайте число пользователей, совершивших это событие в каждой из контрольных групп.</h3>"
   ]
  },
  {
   "cell_type": "code",
   "execution_count": 55,
   "metadata": {
    "scrolled": true
   },
   "outputs": [
    {
     "name": "stdout",
     "output_type": "stream",
     "text": [
      "Количество пользователей от общего числа в эксперименте:\n",
      "246: 2438\n",
      "247: 2471\n",
      "248: 2475\n",
      "\n"
     ]
    }
   ],
   "source": [
    "print(f'Количество пользователей от общего числа в эксперименте:\\n'\n",
    "      f'246: {main_screen_246}\\n'\n",
    "      f'247: {main_screen_247}\\n'\n",
    "      f'248: {main_screen_248}\\n')"
   ]
  },
  {
   "cell_type": "markdown",
   "metadata": {},
   "source": [
    "---\n",
    "<a name=\"step5_2_c\"></a>\n",
    "<a href=\"#m5\">Наверх</a> > <a href=\"#step5\">Шаг 5</a> > <a href=\"#step5_2\">Шаг 5.2</a> > 5.2.C\n",
    "\n",
    "<h3>5.2.C Посчитайте долю пользователей, совершивших это событие.</h3>\n",
    "\n",
    "Для этого используем данные из ранее заготовленных переменных:"
   ]
  },
  {
   "cell_type": "code",
   "execution_count": 56,
   "metadata": {
    "scrolled": false
   },
   "outputs": [
    {
     "name": "stdout",
     "output_type": "stream",
     "text": [
      "Доля пользователей от общего числа в эксперименте:\n",
      "246: 33.02%\n",
      "247: 33.46%\n",
      "248: 33.52%\n",
      "\n"
     ]
    }
   ],
   "source": [
    "print(f'Доля пользователей от общего числа в эксперименте:\\n'\n",
    "      f'246: {round((main_screen_246 / main_screen) * 100, 2)}%\\n'\n",
    "      f'247: {round((main_screen_247 / main_screen) * 100, 2)}%\\n'\n",
    "      f'248: {round((main_screen_248 / main_screen) * 100, 2)}%\\n')"
   ]
  },
  {
   "cell_type": "markdown",
   "metadata": {},
   "source": [
    "---\n",
    "<a name=\"step5_2_d\"></a>\n",
    "\n",
    "<a href=\"#m5\">Наверх</a> > <a href=\"#step5\">Шаг 5</a> > <a href=\"#step5_2\">Шаг 5.2</a> > 5.2.D\n",
    "\n",
    "<h3>5.2.D Проверьте, будет ли отличие между группами статистически достоверным.</h3>\n",
    "\n",
    "Для этого используем собранные ранее датафреймы:"
   ]
  },
  {
   "cell_type": "code",
   "execution_count": 57,
   "metadata": {},
   "outputs": [],
   "source": [
    "# Для проверки на равенство долей соберём соответствующие списки:\n",
    "payment_246_247 = [payment_screen_246, payment_screen_247]\n",
    "main_246_247 = [main_screen_246, main_screen_247]"
   ]
  },
  {
   "cell_type": "code",
   "execution_count": 58,
   "metadata": {},
   "outputs": [],
   "source": [
    "def share_comparison(event_nums, event_names, alpha_level, step_list, total_list):\n",
    "    alpha = alpha_level # критический уровень статистической значимости\n",
    "    \n",
    "    step = np.array(step_list)\n",
    "    total = np.array(total_list)\n",
    "    # Пропорция \"успехов\" в первой группе:\n",
    "    p1 = step[0]/total[0]\n",
    "\n",
    "    # Пропорция \"успехов\" во второй группе:\n",
    "    p2 = step[1] / total[1]\n",
    "\n",
    "    # Пропорция \"успехов\" в комбинированном датасете:\n",
    "    p_combined = (step[0] + step[1]) / (total[0] + total[1])\n",
    "\n",
    "    # Посчитаем разницу пропорций в датасетах:\n",
    "    difference = p1 - p2\n",
    "\n",
    "    # Считаем Z-:\n",
    "    z_value = difference / mth.sqrt(p_combined * (1 - p_combined) * (1/step[0] + 1/step[1]))\n",
    "\n",
    "    # Задаем стандартное нормальное распределение (среднее 0, ст.отклонение 1):\n",
    "    distr = st.norm(0, 1)\n",
    "    p_value = (1 - distr.cdf(abs(z_value))) * 2\n",
    "    \n",
    "    # Запишем результат в переменную:\n",
    "    result = []\n",
    "    reject = \"Отвергаем нулевую гипотезу: между долями есть значимая разница\"\n",
    "    support = \"Не получилось отвергнуть нулевую гипотезу, нет оснований считать доли разными.\"\n",
    "    \n",
    "    # Выведем результаты:\n",
    "    if (p_value < alpha):\n",
    "        result.extend([event_nums, event_names, reject, p_value])\n",
    "    else:\n",
    "        result.extend([event_nums, event_names, support, p_value])\n",
    "    df = pd.DataFrame(result).T\n",
    "    return df.rename(columns={0:'Группы', 1:'Шаги сравнения', 2:'Результат', 3:'p-value'})"
   ]
  },
  {
   "cell_type": "code",
   "execution_count": 60,
   "metadata": {},
   "outputs": [
    {
     "data": {
      "text/html": [
       "<div>\n",
       "<style scoped>\n",
       "    .dataframe tbody tr th:only-of-type {\n",
       "        vertical-align: middle;\n",
       "    }\n",
       "\n",
       "    .dataframe tbody tr th {\n",
       "        vertical-align: top;\n",
       "    }\n",
       "\n",
       "    .dataframe thead th {\n",
       "        text-align: right;\n",
       "    }\n",
       "</style>\n",
       "<table border=\"1\" class=\"dataframe\">\n",
       "  <thead>\n",
       "    <tr style=\"text-align: right;\">\n",
       "      <th></th>\n",
       "      <th>Группы</th>\n",
       "      <th>Шаги сравнения</th>\n",
       "      <th>Результат</th>\n",
       "      <th>p-value</th>\n",
       "    </tr>\n",
       "  </thead>\n",
       "  <tbody>\n",
       "    <tr>\n",
       "      <th>0</th>\n",
       "      <td>246 и 247</td>\n",
       "      <td>Главная и Оплата</td>\n",
       "      <td>Не получилось отвергнуть нулевую гипотезу, нет оснований считать доли разными.</td>\n",
       "      <td>0.999249</td>\n",
       "    </tr>\n",
       "  </tbody>\n",
       "</table>\n",
       "</div>"
      ],
      "text/plain": [
       "      Группы    Шаги сравнения  \\\n",
       "0  246 и 247  Главная и Оплата   \n",
       "\n",
       "                                                                        Результат  \\\n",
       "0  Не получилось отвергнуть нулевую гипотезу, нет оснований считать доли разными.   \n",
       "\n",
       "    p-value  \n",
       "0  0.999249  "
      ]
     },
     "execution_count": 60,
     "metadata": {},
     "output_type": "execute_result"
    }
   ],
   "source": [
    "# Добавим условие вывода строк полностью:\n",
    "pd.set_option('display.max_colwidth', None)\n",
    "# Применим функцию чтобы сравнить доли для АА-теста:\n",
    "m_p67 = share_comparison('246 и 247','Главная и Оплата', 0.05, payment_246_247, main_246_247)\n",
    "m_p67"
   ]
  },
  {
   "cell_type": "markdown",
   "metadata": {},
   "source": [
    "### Вывод:\n",
    "Статистически значимых различий в долях между шагом покупки и заходом на главную в экспериментах 246 и 247 нет."
   ]
  },
  {
   "cell_type": "markdown",
   "metadata": {},
   "source": [
    "---\n",
    "<a name=\"step5_2_e\"></a>\n",
    "<a href=\"#m5\">Наверх</a> > <a href=\"#step5\">Шаг 5</a> > <a href=\"#step5_2\">Шаг 5.2</a> > 5.2.E\n",
    "\n",
    "<h3>5.2.E Проделайте то же самое для всех других событий (удобно обернуть проверку в отдельную функцию).</h3>"
   ]
  },
  {
   "cell_type": "code",
   "execution_count": 61,
   "metadata": {},
   "outputs": [],
   "source": [
    "# Добавим названия для того что мы сравниваем:\n",
    "name_m_c = 'Главная и Добавление в корзину'\n",
    "name_m_o = 'Главная и Оффер'\n",
    "name_m_p = 'Главная и Оплата'"
   ]
  },
  {
   "cell_type": "code",
   "execution_count": 62,
   "metadata": {
    "scrolled": true
   },
   "outputs": [
    {
     "data": {
      "text/html": [
       "<div>\n",
       "<style scoped>\n",
       "    .dataframe tbody tr th:only-of-type {\n",
       "        vertical-align: middle;\n",
       "    }\n",
       "\n",
       "    .dataframe tbody tr th {\n",
       "        vertical-align: top;\n",
       "    }\n",
       "\n",
       "    .dataframe thead th {\n",
       "        text-align: right;\n",
       "    }\n",
       "</style>\n",
       "<table border=\"1\" class=\"dataframe\">\n",
       "  <thead>\n",
       "    <tr style=\"text-align: right;\">\n",
       "      <th></th>\n",
       "      <th>Группы</th>\n",
       "      <th>Шаги сравнения</th>\n",
       "      <th>Результат</th>\n",
       "      <th>p-value</th>\n",
       "    </tr>\n",
       "  </thead>\n",
       "  <tbody>\n",
       "    <tr>\n",
       "      <th>0</th>\n",
       "      <td>246 и 247</td>\n",
       "      <td>Главная и Оффер</td>\n",
       "      <td>Не получилось отвергнуть нулевую гипотезу, нет оснований считать доли разными.</td>\n",
       "      <td>0.367208</td>\n",
       "    </tr>\n",
       "    <tr>\n",
       "      <th>0</th>\n",
       "      <td>246 и 247</td>\n",
       "      <td>Главная и Добавление в корзину</td>\n",
       "      <td>Не получилось отвергнуть нулевую гипотезу, нет оснований считать доли разными.</td>\n",
       "      <td>0.856257</td>\n",
       "    </tr>\n",
       "    <tr>\n",
       "      <th>0</th>\n",
       "      <td>246 и 247</td>\n",
       "      <td>Главная и Оплата</td>\n",
       "      <td>Не получилось отвергнуть нулевую гипотезу, нет оснований считать доли разными.</td>\n",
       "      <td>0.999249</td>\n",
       "    </tr>\n",
       "  </tbody>\n",
       "</table>\n",
       "</div>"
      ],
      "text/plain": [
       "      Группы                  Шаги сравнения  \\\n",
       "0  246 и 247                 Главная и Оффер   \n",
       "0  246 и 247  Главная и Добавление в корзину   \n",
       "0  246 и 247                Главная и Оплата   \n",
       "\n",
       "                                                                        Результат  \\\n",
       "0  Не получилось отвергнуть нулевую гипотезу, нет оснований считать доли разными.   \n",
       "0  Не получилось отвергнуть нулевую гипотезу, нет оснований считать доли разными.   \n",
       "0  Не получилось отвергнуть нулевую гипотезу, нет оснований считать доли разными.   \n",
       "\n",
       "    p-value  \n",
       "0  0.367208  \n",
       "0  0.856257  \n",
       "0  0.999249  "
      ]
     },
     "execution_count": 62,
     "metadata": {},
     "output_type": "execute_result"
    }
   ],
   "source": [
    "# Соберём соответствующие датафреймы:\n",
    "alpha05 = 0.05\n",
    "cart_246_247 = [cart_screen_246, cart_screen_247]\n",
    "offer_246_247 = [offer_screen_246, offer_screen_247]\n",
    "\n",
    "# Проверим на равенство долей:\n",
    "m_c67 = share_comparison('246 и 247', name_m_c, alpha05, cart_246_247, main_246_247)\n",
    "m_o67 = share_comparison('246 и 247', name_m_o, alpha05, offer_246_247, main_246_247)\n",
    "\n",
    "# Выведем таблицу:\n",
    "pd.concat([m_o67, m_c67, m_p67])"
   ]
  },
  {
   "cell_type": "markdown",
   "metadata": {},
   "source": [
    "<font color=green> Хорошо. </font>"
   ]
  },
  {
   "cell_type": "markdown",
   "metadata": {},
   "source": [
    "---\n",
    "<a name=\"step5_2_f\"></a>\n",
    "\n",
    "<a href=\"#m5\">Наверх</a> > <a href=\"#step5\">Шаг 5</a> > <a href=\"#step5_2\">Шаг 5.2</a> > 5.2.F\n",
    "\n",
    "<h3>5.2.F Можно ли сказать, что разбиение на группы работает корректно?</h3>\n",
    "\n",
    "Да. Можно сказать что разбиение на группы исходной (246) с контрольной (247) является корректным, так как по определению p-value – это оценка вероятности получить такие же или более экстремеальные значения, если бы нулевая гипотеза была верна. При малом значении p-value мы отвергаем нулевую гипотезу (о равенстве выборок). В нашем случае мы рассматриваем А/А тест – и его цель сделать так, чтобы выборки не имели статистически значимой разницы."
   ]
  },
  {
   "cell_type": "markdown",
   "metadata": {},
   "source": [
    "---\n",
    "<a href=\"#m5\">Наверх</a> > <a href=\"#step5\">Шаг 5</a> > Шаг 5.3\n",
    "<a name=\"step5_3\"></a>\n",
    "<h2>5.3 Аналогично поступите с группой с изменённым шрифтом.</h2>"
   ]
  },
  {
   "cell_type": "markdown",
   "metadata": {},
   "source": [
    "---\n",
    "<a name=\"step5_3_a\"></a>\n",
    "<a href=\"#m5\">Наверх</a> > <a href=\"#step5\">Шаг 5</a> > <a href=\"#step5_3\">Шаг 5.3</a> > Шаг 5.3.A\n",
    "\n",
    "<h3>5.3.A Сравните результаты с каждой из контрольных групп в отдельности по каждому событию.</h3>"
   ]
  },
  {
   "cell_type": "code",
   "execution_count": 63,
   "metadata": {},
   "outputs": [],
   "source": [
    "main_246_248 = [main_screen_246, main_screen_248]\n",
    "offer_246_248 = [offer_screen_246, offer_screen_248]\n",
    "cart_246_248 = [cart_screen_246, cart_screen_248]\n",
    "payment_246_248 = [payment_screen_246, payment_screen_248]\n",
    "\n",
    "main_247_248 = [main_screen_247, main_screen_248]\n",
    "offer_247_248 = [offer_screen_247, offer_screen_248]\n",
    "cart_247_248 = [cart_screen_247, cart_screen_248]\n",
    "payment_247_248 = [payment_screen_247, payment_screen_248]"
   ]
  },
  {
   "cell_type": "code",
   "execution_count": 64,
   "metadata": {},
   "outputs": [],
   "source": [
    "# Определим имена:\n",
    "name_246_248 = '246 и 248'\n",
    "name_247_248 = '247 и 248'"
   ]
  },
  {
   "cell_type": "markdown",
   "metadata": {},
   "source": [
    "<h4>Сравним группы <u>246 и 248</u> с уровнем значимости 0.05:</h4>"
   ]
  },
  {
   "cell_type": "code",
   "execution_count": 65,
   "metadata": {
    "scrolled": true
   },
   "outputs": [],
   "source": [
    "m_o68 = share_comparison(name_246_248, name_m_o, alpha05, offer_246_248, main_246_248)\n",
    "m_c68 = share_comparison(name_246_248, name_m_c, alpha05, cart_246_248, main_246_248)\n",
    "m_p68 = share_comparison(name_246_248, name_m_p, alpha05, payment_246_248, main_246_248)"
   ]
  },
  {
   "cell_type": "markdown",
   "metadata": {},
   "source": [
    "<h4>Сравним группы <u>247 и 248</u> с уровнем значимости 0.05:</h4>"
   ]
  },
  {
   "cell_type": "code",
   "execution_count": 66,
   "metadata": {},
   "outputs": [],
   "source": [
    "m_o78 = share_comparison(name_247_248, name_m_o, alpha05, offer_247_248, main_247_248)\n",
    "m_c78 = share_comparison(name_247_248, name_m_c, alpha05, cart_247_248, main_247_248)\n",
    "m_p78 = share_comparison(name_247_248, name_m_p, alpha05, payment_247_248, main_247_248)"
   ]
  },
  {
   "cell_type": "code",
   "execution_count": 67,
   "metadata": {
    "scrolled": true
   },
   "outputs": [
    {
     "data": {
      "text/html": [
       "<div>\n",
       "<style scoped>\n",
       "    .dataframe tbody tr th:only-of-type {\n",
       "        vertical-align: middle;\n",
       "    }\n",
       "\n",
       "    .dataframe tbody tr th {\n",
       "        vertical-align: top;\n",
       "    }\n",
       "\n",
       "    .dataframe thead th {\n",
       "        text-align: right;\n",
       "    }\n",
       "</style>\n",
       "<table border=\"1\" class=\"dataframe\">\n",
       "  <thead>\n",
       "    <tr style=\"text-align: right;\">\n",
       "      <th></th>\n",
       "      <th>Группы</th>\n",
       "      <th>Шаги сравнения</th>\n",
       "      <th>Результат</th>\n",
       "      <th>p-value</th>\n",
       "    </tr>\n",
       "  </thead>\n",
       "  <tbody>\n",
       "    <tr>\n",
       "      <th>0</th>\n",
       "      <td>246 и 248</td>\n",
       "      <td>Главная и Оффер</td>\n",
       "      <td>Не получилось отвергнуть нулевую гипотезу, нет оснований считать доли разными.</td>\n",
       "      <td>0.63145</td>\n",
       "    </tr>\n",
       "    <tr>\n",
       "      <th>0</th>\n",
       "      <td>246 и 248</td>\n",
       "      <td>Главная и Добавление в корзину</td>\n",
       "      <td>Не получилось отвергнуть нулевую гипотезу, нет оснований считать доли разными.</td>\n",
       "      <td>0.899174</td>\n",
       "    </tr>\n",
       "    <tr>\n",
       "      <th>0</th>\n",
       "      <td>246 и 248</td>\n",
       "      <td>Главная и Оплата</td>\n",
       "      <td>Не получилось отвергнуть нулевую гипотезу, нет оснований считать доли разными.</td>\n",
       "      <td>0.974738</td>\n",
       "    </tr>\n",
       "  </tbody>\n",
       "</table>\n",
       "</div>"
      ],
      "text/plain": [
       "      Группы                  Шаги сравнения  \\\n",
       "0  246 и 248                 Главная и Оффер   \n",
       "0  246 и 248  Главная и Добавление в корзину   \n",
       "0  246 и 248                Главная и Оплата   \n",
       "\n",
       "                                                                        Результат  \\\n",
       "0  Не получилось отвергнуть нулевую гипотезу, нет оснований считать доли разными.   \n",
       "0  Не получилось отвергнуть нулевую гипотезу, нет оснований считать доли разными.   \n",
       "0  Не получилось отвергнуть нулевую гипотезу, нет оснований считать доли разными.   \n",
       "\n",
       "    p-value  \n",
       "0   0.63145  \n",
       "0  0.899174  \n",
       "0  0.974738  "
      ]
     },
     "metadata": {},
     "output_type": "display_data"
    },
    {
     "data": {
      "text/html": [
       "<div>\n",
       "<style scoped>\n",
       "    .dataframe tbody tr th:only-of-type {\n",
       "        vertical-align: middle;\n",
       "    }\n",
       "\n",
       "    .dataframe tbody tr th {\n",
       "        vertical-align: top;\n",
       "    }\n",
       "\n",
       "    .dataframe thead th {\n",
       "        text-align: right;\n",
       "    }\n",
       "</style>\n",
       "<table border=\"1\" class=\"dataframe\">\n",
       "  <thead>\n",
       "    <tr style=\"text-align: right;\">\n",
       "      <th></th>\n",
       "      <th>Группы</th>\n",
       "      <th>Шаги сравнения</th>\n",
       "      <th>Результат</th>\n",
       "      <th>p-value</th>\n",
       "    </tr>\n",
       "  </thead>\n",
       "  <tbody>\n",
       "    <tr>\n",
       "      <th>0</th>\n",
       "      <td>247 и 248</td>\n",
       "      <td>Главная и Оффер</td>\n",
       "      <td>Не получилось отвергнуть нулевую гипотезу, нет оснований считать доли разными.</td>\n",
       "      <td>0.671635</td>\n",
       "    </tr>\n",
       "    <tr>\n",
       "      <th>0</th>\n",
       "      <td>247 и 248</td>\n",
       "      <td>Главная и Добавление в корзину</td>\n",
       "      <td>Не получилось отвергнуть нулевую гипотезу, нет оснований считать доли разными.</td>\n",
       "      <td>0.757369</td>\n",
       "    </tr>\n",
       "    <tr>\n",
       "      <th>0</th>\n",
       "      <td>247 и 248</td>\n",
       "      <td>Главная и Оплата</td>\n",
       "      <td>Не получилось отвергнуть нулевую гипотезу, нет оснований считать доли разными.</td>\n",
       "      <td>0.973901</td>\n",
       "    </tr>\n",
       "  </tbody>\n",
       "</table>\n",
       "</div>"
      ],
      "text/plain": [
       "      Группы                  Шаги сравнения  \\\n",
       "0  247 и 248                 Главная и Оффер   \n",
       "0  247 и 248  Главная и Добавление в корзину   \n",
       "0  247 и 248                Главная и Оплата   \n",
       "\n",
       "                                                                        Результат  \\\n",
       "0  Не получилось отвергнуть нулевую гипотезу, нет оснований считать доли разными.   \n",
       "0  Не получилось отвергнуть нулевую гипотезу, нет оснований считать доли разными.   \n",
       "0  Не получилось отвергнуть нулевую гипотезу, нет оснований считать доли разными.   \n",
       "\n",
       "    p-value  \n",
       "0  0.671635  \n",
       "0  0.757369  \n",
       "0  0.973901  "
      ]
     },
     "metadata": {},
     "output_type": "display_data"
    }
   ],
   "source": [
    "# Выведем таблицы:\n",
    "display(pd.concat([m_o68, m_c68, m_p68]))\n",
    "display(pd.concat([m_o78, m_c78, m_p78]))"
   ]
  },
  {
   "cell_type": "markdown",
   "metadata": {},
   "source": [
    "### Вывод\n",
    "P-value во всех случаях гораздо выше 0.05 – нулевую гипотезу отвергнуть не получится.\n",
    "\n",
    "Кажется, пользователи покупают не из-за шрифта."
   ]
  },
  {
   "cell_type": "markdown",
   "metadata": {},
   "source": [
    "<font color=green>Отличный вывод.    </font>"
   ]
  },
  {
   "cell_type": "markdown",
   "metadata": {},
   "source": [
    "---\n",
    "<a name=\"step5_3_b\"></a>\n",
    "<a href=\"#m5\">Наверх</a> > <a href=\"#step5\">Шаг 5</a> > <a href=\"#step5_3\">Шаг 5.3</a> > Шаг 5.3.B\n",
    "\n",
    "<h3>5.4.B Сравните результаты с объединённой контрольной группой. <br>Какие выводы из эксперимента можно сделать?</h3>"
   ]
  },
  {
   "cell_type": "code",
   "execution_count": 68,
   "metadata": {
    "scrolled": true
   },
   "outputs": [
    {
     "data": {
      "text/html": [
       "<div>\n",
       "<style scoped>\n",
       "    .dataframe tbody tr th:only-of-type {\n",
       "        vertical-align: middle;\n",
       "    }\n",
       "\n",
       "    .dataframe tbody tr th {\n",
       "        vertical-align: top;\n",
       "    }\n",
       "\n",
       "    .dataframe thead th {\n",
       "        text-align: right;\n",
       "    }\n",
       "</style>\n",
       "<table border=\"1\" class=\"dataframe\">\n",
       "  <thead>\n",
       "    <tr style=\"text-align: right;\">\n",
       "      <th></th>\n",
       "      <th>Группы</th>\n",
       "      <th>Шаги сравнения</th>\n",
       "      <th>Результат</th>\n",
       "      <th>p-value</th>\n",
       "    </tr>\n",
       "  </thead>\n",
       "  <tbody>\n",
       "    <tr>\n",
       "      <th>0</th>\n",
       "      <td>Объединённая и 248</td>\n",
       "      <td>Главная и Оффер</td>\n",
       "      <td>Не получилось отвергнуть нулевую гипотезу, нет оснований считать доли разными.</td>\n",
       "      <td>0.978422</td>\n",
       "    </tr>\n",
       "    <tr>\n",
       "      <th>0</th>\n",
       "      <td>Объединённая и 248</td>\n",
       "      <td>Главная и Добавление в корзину</td>\n",
       "      <td>Не получилось отвергнуть нулевую гипотезу, нет оснований считать доли разными.</td>\n",
       "      <td>0.801543</td>\n",
       "    </tr>\n",
       "    <tr>\n",
       "      <th>0</th>\n",
       "      <td>Объединённая и 248</td>\n",
       "      <td>Главная и Оплата</td>\n",
       "      <td>Не получилось отвергнуть нулевую гипотезу, нет оснований считать доли разными.</td>\n",
       "      <td>0.970399</td>\n",
       "    </tr>\n",
       "  </tbody>\n",
       "</table>\n",
       "</div>"
      ],
      "text/plain": [
       "               Группы                  Шаги сравнения  \\\n",
       "0  Объединённая и 248                 Главная и Оффер   \n",
       "0  Объединённая и 248  Главная и Добавление в корзину   \n",
       "0  Объединённая и 248                Главная и Оплата   \n",
       "\n",
       "                                                                        Результат  \\\n",
       "0  Не получилось отвергнуть нулевую гипотезу, нет оснований считать доли разными.   \n",
       "0  Не получилось отвергнуть нулевую гипотезу, нет оснований считать доли разными.   \n",
       "0  Не получилось отвергнуть нулевую гипотезу, нет оснований считать доли разными.   \n",
       "\n",
       "    p-value  \n",
       "0  0.978422  \n",
       "0  0.801543  \n",
       "0  0.970399  "
      ]
     },
     "metadata": {},
     "output_type": "display_data"
    }
   ],
   "source": [
    "# Объединим группы 246 и 247:\n",
    "exp_joined = np.in1d(users.index.get_level_values(1), [246, 247])\n",
    "\n",
    "# Зададим имя переменной:\n",
    "name_joined = 'Объединённая и 248'\n",
    "\n",
    "# Отифльтруем по шагам:\n",
    "main_screen_joined = users[step_1 & exp_joined].shape[0]\n",
    "offer_screen_joined = users[step_2 & exp_joined].shape[0]\n",
    "cart_screen_joined = users[step_3 & exp_joined].shape[0]\n",
    "payment_screen_joined = users[step_4 & exp_joined].shape[0]\n",
    "\n",
    "# Соберём соответствующие списки:\n",
    "main_j_248 = [main_screen_joined, main_screen_248]\n",
    "offer_j_248 = [offer_screen_joined, offer_screen_248]\n",
    "cart_j_248 = [cart_screen_joined, cart_screen_248]\n",
    "payment_j_248 = [payment_screen_joined, payment_screen_248]\n",
    "\n",
    "# Выведем таблицу с результатом\n",
    "m_o_j = share_comparison(name_joined, name_m_o, alpha05, offer_j_248, main_j_248)\n",
    "m_c_j = share_comparison(name_joined, name_m_c, alpha05, cart_j_248, main_j_248)\n",
    "m_p_j = share_comparison(name_joined, name_m_p, alpha05, payment_j_248, main_j_248)\n",
    "display(pd.concat([m_o_j, m_c_j, m_p_j]))"
   ]
  },
  {
   "cell_type": "markdown",
   "metadata": {},
   "source": [
    "### Вывод\n",
    "Различия в долях между группами крайне малы – настолько, что p-value близкó к 1."
   ]
  },
  {
   "cell_type": "markdown",
   "metadata": {},
   "source": [
    "---\n",
    "<a name=\"step5_5\"></a>\n",
    "<a href=\"#m5\">Наверх</a> > <a href=\"#step5\">Шаг 5</a> > Шаг 5.5\n",
    "\n",
    "<h3>5.5 Какой уровень значимости вы выбрали при проверке статистических гипотез выше?</h3>\n",
    "\n",
    "Выбранный уровень значимости – 0.05."
   ]
  },
  {
   "cell_type": "markdown",
   "metadata": {},
   "source": [
    "---\n",
    "<a name=\"step5_5_a\"></a>\n",
    "<a href=\"#m5\">Наверх</a> > <a href=\"#step5\">Шаг 5</a> > <a href=\"#step5_5\">Шаг 5.5</a> > Шаг 5.5.A\n",
    "\n",
    "<h3>5.5.A При уровне значимости 0.1 каждый десятый раз можно получать ложный результат.<br>\n",
    "    Какой уровень значимости стоит применить?</h3>\n",
    "    \n",
    "Однако, судя по полученным значениям, можно выбрать уровень значимости 0.5 и мы будем вынуждены отвергнуть $H_{0}$ только в 1 случае в разнице между долями на шагах сравнения главной и оффера 246 и 247.\n",
    "\n",
    "Разницы между конверсиями из шага в шаг практически нет, судя из <a href=\"#step5_1\">воронки на шаге 5.1</a>, следственно дальше проверять доли смысла нет. Однако, возмжоно, изменения повлияли на дневную посещаемость уникальных пользоваталей. Проверим это используя поправкой Бонферрони – метод контроля групповой вероятности ошибки первого рода."
   ]
  },
  {
   "cell_type": "code",
   "execution_count": 69,
   "metadata": {
    "scrolled": false
   },
   "outputs": [
    {
     "name": "stdout",
     "output_type": "stream",
     "text": [
      "p-значение для сравнения групп А и B:  0.8946439553863097\n",
      "p-значение для сравнения групп B и C:  0.9661122957394209\n",
      "p-значение для сравнения групп А и C:  0.9285457416207524\n",
      "Не получилось отвергнуть нулевую гипотезу для сравнения групп А и B\n",
      "Не получилось отвергнуть нулевую гипотезу для сравнения групп B и C\n",
      "Не получилось отвергнуть нулевую гипотезу для сравнения групп А и C\n"
     ]
    }
   ],
   "source": [
    "# Определим переменные как дневную посещаемость:\n",
    "data_clean_grouped_by_date_exp = data_clean.groupby(['date', 'exp_id']).agg({'device_id':'nunique'}).reset_index()\n",
    "sample_246 = np.array(data_clean_grouped_by_date_exp[data_clean_grouped_by_date_exp['exp_id'] == 246]['device_id'])\n",
    "sample_247 = np.array(data_clean_grouped_by_date_exp[data_clean_grouped_by_date_exp['exp_id'] == 247]['device_id'])\n",
    "sample_248 = np.array(data_clean_grouped_by_date_exp[data_clean_grouped_by_date_exp['exp_id'] == 248]['device_id'])\n",
    "\n",
    "alpha = alpha05 # критический уровень статистической значимости\n",
    "\n",
    "results_246_247 = st.ttest_ind(sample_246, sample_247)\n",
    "results_247_248 = st.ttest_ind(sample_247, sample_248)\n",
    "results_246_248 = st.ttest_ind(sample_246, sample_248)\n",
    "\n",
    "bonferroni_alpha = alpha / 3  # произведено три сравнения\n",
    "\n",
    "print('p-значение для сравнения групп А и B: ', results_246_247.pvalue)\n",
    "print('p-значение для сравнения групп B и C: ', results_247_248.pvalue)\n",
    "print('p-значение для сравнения групп А и C: ', results_246_248.pvalue)\n",
    "\n",
    "if (results_246_247.pvalue < bonferroni_alpha):\n",
    "    print(\"Отвергаем нулевую гипотезу для сравнения групп А и B\")\n",
    "else:\n",
    "    print(\"Не получилось отвергнуть нулевую гипотезу для сравнения групп А и B\")\n",
    "\n",
    "if (results_247_248.pvalue < bonferroni_alpha):\n",
    "    print(\"Отвергаем нулевую гипотезу для сравнения групп B и C\")\n",
    "else:\n",
    "    print(\"Не получилось отвергнуть нулевую гипотезу для сравнения групп B и C\")\n",
    "\n",
    "if (results_246_248.pvalue < bonferroni_alpha):\n",
    "    print(\"Отвергаем нулевую гипотезу для сравнения групп А и C\")\n",
    "else:\n",
    "    print(\"Не получилось отвергнуть нулевую гипотезу для сравнения групп А и C\")"
   ]
  },
  {
   "cell_type": "markdown",
   "metadata": {},
   "source": [
    "---\n",
    "<a name=\"step5_5_b\"></a>\n",
    "<a href=\"#m5\">Наверх</a> > <a href=\"#step5\">Шаг 5</a> > <a href=\"#step5_5\">Шаг 5.5</a> > Шаг 5.5.B\n",
    "\n",
    "<h3>5.5.B Если вы хотите изменить его, проделайте предыдущие пункты и проверьте свои выводы.</h3>\n",
    "    \n",
    "Подсчёты p-value таковы, что смысла в множественных перепроверках нет."
   ]
  },
  {
   "cell_type": "markdown",
   "metadata": {},
   "source": [
    "<font color=green> Работа отличная. Графики  в нескольких вариантах, удобное оформление, грамотный подход к выявлению и обработке проблем в данных. Хорошее понимание механизмов проведения и правильная интерпретация результатов АВ-тестирования. \n",
    "Чего не хватает: формулирования гипотез и итогового вывода, что бы отчет был понятен не только аналитикам, но и тем, кто этот отчет заказал. \n",
    "    \n",
    "Удачи со следующим проектом.\n",
    "</font>"
   ]
  },
  {
   "cell_type": "code",
   "execution_count": null,
   "metadata": {},
   "outputs": [],
   "source": []
  }
 ],
 "metadata": {
  "kernelspec": {
   "display_name": "Python 3 (ipykernel)",
   "language": "python",
   "name": "python3"
  },
  "language_info": {
   "codemirror_mode": {
    "name": "ipython",
    "version": 3
   },
   "file_extension": ".py",
   "mimetype": "text/x-python",
   "name": "python",
   "nbconvert_exporter": "python",
   "pygments_lexer": "ipython3",
   "version": "3.9.7"
  },
  "toc": {
   "base_numbering": 1,
   "nav_menu": {},
   "number_sections": true,
   "sideBar": true,
   "skip_h1_title": true,
   "title_cell": "Table of Contents",
   "title_sidebar": "Contents",
   "toc_cell": false,
   "toc_position": {},
   "toc_section_display": true,
   "toc_window_display": false
  }
 },
 "nbformat": 4,
 "nbformat_minor": 2
}
